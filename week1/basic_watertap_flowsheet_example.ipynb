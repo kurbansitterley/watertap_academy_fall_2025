{
 "cells": [
  {
   "cell_type": "markdown",
   "id": "55a86a36",
   "metadata": {},
   "source": [
    "# Week 1: Adding unit model to flowsheet\n",
    "\n",
    "This tutorial will go through the basic workflow to create a WaterTAP model with a single unit proces (pump).\n",
    "\n",
    "1. Create model\n",
    "2. Add flowsheet\n",
    "3. Add property model\n",
    "4. Add pump model\n",
    "5. Set operating conditions\n",
    "6. Scaling model\n",
    "7. Initialize model\n",
    "8. Solve model"
   ]
  },
  {
   "cell_type": "markdown",
   "id": "a0440187",
   "metadata": {},
   "source": [
    "## Step 0: Import necessary packages\n",
    "\n",
    "### Any WaterTAP model will begin with importing the relevant components from Pyomo, IDAES, and WaterTAP.\n",
    "\n",
    "From Pyomo:\n",
    "- Concrete model object\n",
    "- units \n",
    "- Helper function(s) to check solver status\n",
    "\n",
    "From IDAES:\n",
    "- Flowsheet block\n",
    "- Helper function to check degrees of freedom\n",
    "\n",
    "From WaterTAP:\n",
    "- Property models\n",
    "- Unit models\n",
    "- Solver\n",
    "\n",
    "> Both `ConcreteModel` and `FlowsheetBlock` are required imports for any WaterTAP model.\n"
   ]
  },
  {
   "cell_type": "code",
   "execution_count": 9,
   "id": "f5a30ec4",
   "metadata": {},
   "outputs": [],
   "source": [
    "# Pyomo imports\n",
    "from pyomo.environ import (\n",
    "    ConcreteModel,\n",
    "    check_optimal_termination,\n",
    "    assert_optimal_termination,\n",
    "    units as pyunits,\n",
    ")\n",
    "\n",
    "# IDAES imports\n",
    "from idaes.core import FlowsheetBlock\n",
    "from idaes.core.util.model_statistics import degrees_of_freedom\n",
    "\n",
    "# WaterTAP imports\n",
    "from watertap.core.solvers import get_solver\n",
    "from watertap.property_models.seawater_prop_pack import SeawaterParameterBlock\n",
    "from watertap.unit_models.pressure_changer import Pump\n"
   ]
  },
  {
   "cell_type": "markdown",
   "id": "49293118",
   "metadata": {},
   "source": [
    "## Step 1: Create base model\n",
    "\n",
    "Pyomo's `ConcreteModel` is the basis for any WaterTAP model.\n",
    "\n",
    "No arguments are required. Convention is to call this `m` but any local name can be used."
   ]
  },
  {
   "cell_type": "code",
   "execution_count": 10,
   "id": "dadb7c1c",
   "metadata": {},
   "outputs": [],
   "source": [
    "m = ConcreteModel()"
   ]
  },
  {
   "cell_type": "markdown",
   "id": "068b1128",
   "metadata": {},
   "source": [
    "## Step 2: Add flowsheet block\n",
    "\n",
    "The [`FlowsheetBlock`](https://idaes-pse.readthedocs.io/en/stable/reference_guides/core/flowsheet_block.html#) from IDAES forms the base for all WaterTAP system models.\n",
    "\n",
    "All model components (unit models, property models, variables, constraints, etc.) are built upon the flowsheet block.\n",
    "\n",
    "The flowsheet block will create the time domain for the flowsheet. WaterTAP is a steady-state modeling framework, so we set `dynamic=False` when creating the `FlowsheetBlock`.\n",
    "\n",
    "(Note: `dynamic=False` is the default argument, but excluding it will raise a warning.)"
   ]
  },
  {
   "cell_type": "code",
   "execution_count": 11,
   "id": "7a50d75c",
   "metadata": {},
   "outputs": [],
   "source": [
    "m.fs = FlowsheetBlock(dynamic=False)"
   ]
  },
  {
   "cell_type": "markdown",
   "id": "3b04256c",
   "metadata": {},
   "source": [
    "# Step 3: Add property model\n",
    "\n",
    "With the flowsheet created, we can add any sub-models required for the WaterTAP system model.\n",
    "\n",
    "The property model used will be dictated by the models on the flowsheet. In this demonstration, we are using the WaterTAP [seawater property model](https://watertap.readthedocs.io/en/stable/technical_reference/property_models/seawater.html).\n",
    "\n",
    "Creating the `SeawaterParameterBlock` does not require any arguments. However, other property models can have many required and optional arguments to specify the model."
   ]
  },
  {
   "cell_type": "code",
   "execution_count": 12,
   "id": "86c74b7f",
   "metadata": {},
   "outputs": [],
   "source": [
    "m.fs.properties = SeawaterParameterBlock()"
   ]
  },
  {
   "cell_type": "markdown",
   "id": "c56f715f",
   "metadata": {},
   "source": [
    "# Step 4: Add unit model\n",
    "\n",
    "After adding the property model, we can add the unit models to the flowsheet. In this demonstration, we are adding a single [pump model](https://watertap.readthedocs.io/en/stable/technical_reference/unit_models/pump.html).\n",
    "\n",
    "Adding any unit model requires specifying the property package via the `property_package` argument. Here, we are specifying that the property model to be used with our pump model is `m.fs.properties` that we just added to the flowsheet."
   ]
  },
  {
   "cell_type": "code",
   "execution_count": null,
   "id": "ade9cf8c",
   "metadata": {},
   "outputs": [],
   "source": [
    "m.fs.pump = Pump(\n",
    "    property_package=m.fs.properties,\n",
    ")"
   ]
  },
  {
   "cell_type": "code",
   "execution_count": null,
   "id": "fedb30b0",
   "metadata": {},
   "outputs": [
    {
     "name": "stdout",
     "output_type": "stream",
     "text": [
      "2025-10-16 15:50:05 [INFO] idaes.init.fs.pump.control_volume.properties_in: fs.pump.control_volume.properties_in State Released.\n",
      "2025-10-16 15:50:05 [WARNING] idaes.watertap.property_models.seawater_prop_pack: While using the calculate_state method on fs.pump.control_volume.properties_in[0.0], variable flow_vol_phase was provided as an argument in var_args, but it does not have a scaling factor. This suggests that the calculate_scaling_factor method has not been used or the variable was created on demand after the scaling factors were calculated. It is recommended to touch all relevant variables (i.e. call them or set an initial value) before using the calculate_scaling_factor method.\n",
      "2025-10-16 15:50:05 [WARNING] idaes.watertap.property_models.seawater_prop_pack: While using the calculate_state method on fs.pump.control_volume.properties_in[0.0], variable conc_mass_phase_comp was provided as an argument in var_args, but it does not have a scaling factor. This suggests that the calculate_scaling_factor method has not been used or the variable was created on demand after the scaling factors were calculated. It is recommended to touch all relevant variables (i.e. call them or set an initial value) before using the calculate_scaling_factor method.\n",
      "2025-10-16 15:50:05 [WARNING] idaes.watertap.property_models.seawater_prop_pack: While using the calculate_state method on fs.pump.control_volume.properties_in[0.0], variable pressure was provided as an argument in var_args, but it does not have a scaling factor. This suggests that the calculate_scaling_factor method has not been used or the variable was created on demand after the scaling factors were calculated. It is recommended to touch all relevant variables (i.e. call them or set an initial value) before using the calculate_scaling_factor method.\n",
      "2025-10-16 15:50:05 [WARNING] idaes.watertap.property_models.seawater_prop_pack: While using the calculate_state method on fs.pump.control_volume.properties_in[0.0], variable temperature was provided as an argument in var_args, but it does not have a scaling factor. This suggests that the calculate_scaling_factor method has not been used or the variable was created on demand after the scaling factors were calculated. It is recommended to touch all relevant variables (i.e. call them or set an initial value) before using the calculate_scaling_factor method.\n"
     ]
    },
    {
     "data": {
      "text/plain": [
       "{'Problem': [{'Lower bound': -inf, 'Upper bound': inf, 'Number of objectives': 1, 'Number of constraints': 8, 'Number of variables': 8, 'Sense': 'unknown'}], 'Solver': [{'Status': 'ok', 'Message': 'Ipopt 3.13.2\\\\x3a Optimal Solution Found', 'Termination condition': 'optimal', 'Id': 0, 'Error rc': 0, 'Time': 0.0357511043548584}], 'Solution': [OrderedDict([('number of solutions', 0), ('number of solutions displayed', 0)])]}"
      ]
     },
     "execution_count": 18,
     "metadata": {},
     "output_type": "execute_result"
    }
   ],
   "source": [
    "m.fs.pump.control_volume.properties_in.calculate_state(\n",
    "    var_args={\n",
    "        (\"flow_vol_phase\", \"Liq\"): 1,\n",
    "        (\"conc_mass_phase_comp\", (\"Liq\", \"TDS\")): 0.5,\n",
    "        (\"pressure\", None): 101325,\n",
    "        (\"temperature\", None): 298,\n",
    "    },\n",
    "    hold_state=True,\n",
    ")\n",
    "\n",
    "# m.fs.feed.properties.calculate_state(\n",
    "#         var_args={\n",
    "#             (\"flow_vol_phase\", \"Liq\"): flow_in,  # m3/s\n",
    "#             (\"conc_mass_phase_comp\", (\"Liq\", target_ion)): conc_mass_in,  # kg/m3\n",
    "#             (\"pressure\", None): 101325,\n",
    "#             (\"temperature\", None): 298,\n",
    "#         },\n",
    "#         hold_state=True,\n",
    "#     )"
   ]
  },
  {
   "cell_type": "code",
   "execution_count": null,
   "id": "4bb9ce7c",
   "metadata": {},
   "outputs": [],
   "source": [
    "# Provide unit model inputs. For the pump we need to provide inlet flow, inlet pressure, outlet pressure, temperature and efficiency\n",
    "\n",
    "# Add pyunits\n",
    "\n",
    "feed_flow_mass = 1 # kg/s\n",
    "feed_mass_frac_TDS = 0.035\n",
    "feed_mass_frac_H2O = 1 - feed_mass_frac_TDS\n",
    "\n",
    "m.fs.pump.inlet.flow_mass_phase_comp[0, \"Liq\", \"TDS\"].fix(\n",
    "    feed_flow_mass * feed_mass_frac_TDS\n",
    ")\n",
    "m.fs.pump.inlet.flow_mass_phase_comp[0, \"Liq\", \"H2O\"].fix(\n",
    "    feed_flow_mass * feed_mass_frac_H2O\n",
    ")\n",
    "\n",
    "feed_pressure_in = 1e5 # Pa\n",
    "feed_pressure_out = 5e5 # Pa\n",
    "feed_temperature = 273.15 + 25 # K\n",
    "\n",
    "m.fs.pump.inlet.pressure[0].fix(feed_pressure_in)\n",
    "m.fs.pump.inlet.temperature[0].fix(feed_temperature)\n",
    "m.fs.pump.outlet.pressure[0].fix(feed_pressure_out)\n",
    "\n",
    "m.fs.pump.efficiency_pump.fix(0.75)"
   ]
  },
  {
   "cell_type": "code",
   "execution_count": 20,
   "id": "7685b742",
   "metadata": {},
   "outputs": [
    {
     "name": "stdout",
     "output_type": "stream",
     "text": [
      "inlet : Size=1\n",
      "    Key  : Name                 : Value\n",
      "    None : flow_mass_phase_comp : {(0.0, 'Liq', 'H2O'): 996.8115848891376, (0.0, 'Liq', 'TDS'): 0.4999999836724598}\n",
      "         :             pressure : {0.0: 101325}\n",
      "         :          temperature : {0.0: 298}\n"
     ]
    }
   ],
   "source": [
    "m.fs.pump.inlet.display()"
   ]
  },
  {
   "cell_type": "code",
   "execution_count": 25,
   "id": "5967aebe",
   "metadata": {},
   "outputs": [
    {
     "data": {
      "text/plain": [
       "0"
      ]
     },
     "execution_count": 25,
     "metadata": {},
     "output_type": "execute_result"
    }
   ],
   "source": [
    "# Lets check the degrees of freedom of the flowsheet! This should ideally be zero now.\n",
    "degrees_of_freedom(m)"
   ]
  },
  {
   "cell_type": "code",
   "execution_count": null,
   "id": "74cec747",
   "metadata": {},
   "outputs": [],
   "source": [
    "# Let's initialize the flowsheet\n",
    "m.fs.pump.initialize()"
   ]
  },
  {
   "cell_type": "code",
   "execution_count": null,
   "id": "deeef847",
   "metadata": {},
   "outputs": [
    {
     "name": "stdout",
     "output_type": "stream",
     "text": [
      "ipopt-watertap: ipopt with user variable scaling and IDAES jacobian constraint scaling\n",
      "Ipopt 3.13.2: tol=1e-08\n",
      "constr_viol_tol=1e-08\n",
      "acceptable_constr_viol_tol=1e-08\n",
      "bound_relax_factor=0.0\n",
      "honor_original_bounds=no\n",
      "nlp_scaling_method=user-scaling\n",
      "\n",
      "\n",
      "******************************************************************************\n",
      "This program contains Ipopt, a library for large-scale nonlinear optimization.\n",
      " Ipopt is released as open source code under the Eclipse Public License (EPL).\n",
      "         For more information visit http://projects.coin-or.org/Ipopt\n",
      "\n",
      "This version of Ipopt was compiled from source code available at\n",
      "    https://github.com/IDAES/Ipopt as part of the Institute for the Design of\n",
      "    Advanced Energy Systems Process Systems Engineering Framework (IDAES PSE\n",
      "    Framework) Copyright (c) 2018-2019. See https://github.com/IDAES/idaes-pse.\n",
      "\n",
      "This version of Ipopt was compiled using HSL, a collection of Fortran codes\n",
      "    for large-scale scientific computation.  All technical papers, sales and\n",
      "    publicity material resulting from use of the HSL codes within IPOPT must\n",
      "    contain the following acknowledgement:\n",
      "        HSL, a collection of Fortran codes for large-scale scientific\n",
      "        computation. See http://www.hsl.rl.ac.uk.\n",
      "******************************************************************************\n",
      "\n",
      "This is Ipopt version 3.13.2, running with linear solver ma27.\n",
      "\n",
      "Number of nonzeros in equality constraint Jacobian...:       32\n",
      "Number of nonzeros in inequality constraint Jacobian.:        0\n",
      "Number of nonzeros in Lagrangian Hessian.............:       10\n",
      "\n",
      "Total number of variables............................:       16\n",
      "                     variables with only lower bounds:        7\n",
      "                variables with lower and upper bounds:        5\n",
      "                     variables with only upper bounds:        0\n",
      "Total number of equality constraints.................:       16\n",
      "Total number of inequality constraints...............:        0\n",
      "        inequality constraints with only lower bounds:        0\n",
      "   inequality constraints with lower and upper bounds:        0\n",
      "        inequality constraints with only upper bounds:        0\n",
      "\n",
      "iter    objective    inf_pr   inf_du lg(mu)  ||d||  lg(rg) alpha_du alpha_pr  ls\n",
      "   0  0.0000000e+00 3.61e+03 1.00e+00  -1.0 0.00e+00    -  0.00e+00 0.00e+00   0\n",
      "   1  0.0000000e+00 3.03e-13 9.90e-02  -1.0 9.02e-03    -  9.90e-01 1.00e+00h  1\n",
      "\n",
      "Number of Iterations....: 1\n",
      "\n",
      "                                   (scaled)                 (unscaled)\n",
      "Objective...............:   0.0000000000000000e+00    0.0000000000000000e+00\n",
      "Dual infeasibility......:   0.0000000000000000e+00    0.0000000000000000e+00\n",
      "Constraint violation....:   2.8421709430404007e-14    3.0286884111774270e-13\n",
      "Complementarity.........:   0.0000000000000000e+00    0.0000000000000000e+00\n",
      "Overall NLP error.......:   2.8421709430404007e-14    3.0286884111774270e-13\n",
      "\n",
      "\n",
      "Number of objective function evaluations             = 2\n",
      "Number of objective gradient evaluations             = 2\n",
      "Number of equality constraint evaluations            = 2\n",
      "Number of inequality constraint evaluations          = 0\n",
      "Number of equality constraint Jacobian evaluations   = 2\n",
      "Number of inequality constraint Jacobian evaluations = 0\n",
      "Number of Lagrangian Hessian evaluations             = 1\n",
      "Total CPU secs in IPOPT (w/o function evaluations)   =      0.000\n",
      "Total CPU secs in NLP function evaluations           =      0.000\n",
      "\n",
      "EXIT: Optimal Solution Found.\n"
     ]
    }
   ],
   "source": [
    "# Let's solve the flowsheet now!\n",
    "solver = get_solver()\n",
    "results = solver.solve(m, tee=False)\n",
    "# Ensure that the solver status is ok and optimal termination\n",
    "assert_optimal_termination(results)"
   ]
  },
  {
   "cell_type": "code",
   "execution_count": null,
   "id": "b7c7ae48",
   "metadata": {},
   "outputs": [],
   "source": [
    "def build():\n",
    "    return m\n",
    "\n",
    "m.fs.pump.properties_in.calculate_state(\n",
    "    var_args={\n",
    "        (\"flow_vol_phase\", [\"Liq\"]): m.fs.pump.inlet.flow_vol_phase[0, \"Liq\"],\n",
    "        (\"conc_mass_phase_comp\", [\"Liq\", \"TDS\"]): m.fs.pump.inlet.conc_mass_phase_comp[0, \"Liq\", \"TDS\"],\n",
    "        (\"pressure\"): feed_pressure_in,\n",
    "        (\"temperature\"): feed_temperature,\n",
    "    }\n",
    ")"
   ]
  }
 ],
 "metadata": {
  "kernelspec": {
   "display_name": "watertap-dev",
   "language": "python",
   "name": "python3"
  },
  "language_info": {
   "codemirror_mode": {
    "name": "ipython",
    "version": 3
   },
   "file_extension": ".py",
   "mimetype": "text/x-python",
   "name": "python",
   "nbconvert_exporter": "python",
   "pygments_lexer": "ipython3",
   "version": "3.10.18"
  }
 },
 "nbformat": 4,
 "nbformat_minor": 5
}
