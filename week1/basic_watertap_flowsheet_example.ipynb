{
 "cells": [
  {
   "cell_type": "markdown",
   "id": "55a86a36",
   "metadata": {},
   "source": [
    "# Week 1: Adding unit model to flowsheet\n",
    "\n",
    "This tutorial will go through the basic workflow to create a WaterTAP model with a single unit proces (pump).\n",
    "\n",
    "1. Create model\n",
    "2. Add flowsheet\n",
    "3. Add property model\n",
    "4. Add pump model\n",
    "5. Set operating conditions\n",
    "6. Scaling model\n",
    "7. Initialize model\n",
    "8. Solve model"
   ]
  },
  {
   "cell_type": "markdown",
   "id": "a0440187",
   "metadata": {},
   "source": [
    "## Step 0: Import necessary packages\n",
    "\n",
    "### Any WaterTAP model will begin with importing the relevant components from Pyomo, IDAES, and WaterTAP.\n",
    "\n",
    "From Pyomo:\n",
    "- Concrete model object\n",
    "- units \n",
    "- Helper function(s) to check solver status\n",
    "\n",
    "From IDAES:\n",
    "- Flowsheet block\n",
    "- Helper function to check degrees of freedom\n",
    "- Helper function to scale model\n",
    "\n",
    "From WaterTAP:\n",
    "- Property models\n",
    "- Unit models\n",
    "- Solver\n",
    "\n",
    "\n",
    "> Note: Both `ConcreteModel` and `FlowsheetBlock` are required imports for any WaterTAP model.\n"
   ]
  },
  {
   "cell_type": "code",
   "execution_count": null,
   "id": "f5a30ec4",
   "metadata": {},
   "outputs": [],
   "source": [
    "# Pyomo imports\n",
    "from pyomo.environ import (\n",
    "    ConcreteModel,\n",
    "    check_optimal_termination,\n",
    "    assert_optimal_termination,\n",
    "    value,\n",
    "    units as pyunits,\n",
    ")\n",
    "\n",
    "# IDAES imports\n",
    "from idaes.core import FlowsheetBlock\n",
    "from idaes.core.util.model_statistics import degrees_of_freedom\n",
    "from idaes.core.util.scaling import calculate_scaling_factors\n",
    "\n",
    "# WaterTAP imports\n",
    "from watertap.core.solvers import get_solver\n",
    "from watertap.property_models.seawater_prop_pack import SeawaterParameterBlock\n",
    "from watertap.unit_models.pressure_changer import Pump\n"
   ]
  },
  {
   "cell_type": "markdown",
   "id": "49293118",
   "metadata": {},
   "source": [
    "## Step 1: Create base model\n",
    "\n",
    "Pyomo's `ConcreteModel` is the basis for any WaterTAP model.\n",
    "\n",
    "No arguments are required. Convention is to call this `m` but any local name can be used."
   ]
  },
  {
   "cell_type": "code",
   "execution_count": null,
   "id": "dadb7c1c",
   "metadata": {},
   "outputs": [],
   "source": [
    "m = ConcreteModel()"
   ]
  },
  {
   "cell_type": "markdown",
   "id": "068b1128",
   "metadata": {},
   "source": [
    "## Step 2: Add flowsheet block\n",
    "\n",
    "The [`FlowsheetBlock`](https://idaes-pse.readthedocs.io/en/stable/reference_guides/core/flowsheet_block.html#) from IDAES forms the base for all WaterTAP system models.\n",
    "\n",
    "All model components (unit models, property models, variables, constraints, etc.) are built upon the flowsheet block.\n",
    "\n",
    "The flowsheet block will create the time domain for the flowsheet. WaterTAP is a steady-state modeling framework, so we set `dynamic=False` when creating the `FlowsheetBlock`.\n",
    "\n",
    "(Note: `dynamic=False` is the default argument, but excluding it will raise a warning.)"
   ]
  },
  {
   "cell_type": "code",
   "execution_count": null,
   "id": "7a50d75c",
   "metadata": {},
   "outputs": [],
   "source": [
    "m.fs = FlowsheetBlock(dynamic=False)"
   ]
  },
  {
   "cell_type": "markdown",
   "id": "3b04256c",
   "metadata": {},
   "source": [
    "# Step 3: Add property model\n",
    "\n",
    "With the flowsheet created, we can add any sub-models required for the WaterTAP system model.\n",
    "\n",
    "The property model used will be dictated by the models on the flowsheet. In this demonstration, we are using the WaterTAP [seawater property model](https://watertap.readthedocs.io/en/stable/technical_reference/property_models/seawater.html).\n",
    "\n",
    "Creating the `SeawaterParameterBlock` does not require any arguments. However, other property models can have many required and optional arguments to specify the model."
   ]
  },
  {
   "cell_type": "code",
   "execution_count": null,
   "id": "86c74b7f",
   "metadata": {},
   "outputs": [],
   "source": [
    "m.fs.properties = SeawaterParameterBlock()"
   ]
  },
  {
   "cell_type": "markdown",
   "id": "c56f715f",
   "metadata": {},
   "source": [
    "# Step 4: Add unit model\n",
    "\n",
    "After adding the property model, we can add the unit models to the flowsheet. In this demonstration, we are adding a single [pump model](https://watertap.readthedocs.io/en/stable/technical_reference/unit_models/pump.html).\n",
    "\n",
    "Adding any unit model requires specifying the property package via the `property_package` argument. Here, we are specifying that the property model to be used with our pump model is `m.fs.properties` that we just added to the flowsheet."
   ]
  },
  {
   "cell_type": "code",
   "execution_count": null,
   "id": "ade9cf8c",
   "metadata": {},
   "outputs": [],
   "source": [
    "m.fs.pump = Pump(\n",
    "    property_package=m.fs.properties,\n",
    ")"
   ]
  },
  {
   "cell_type": "markdown",
   "id": "f29518da",
   "metadata": {},
   "source": [
    "# Step 5: Set operating conditions\n",
    "\n",
    "Now that we have added all the necessary models to the flowsheet, we can specify the operating conditions.\n",
    "\n",
    "First, we check the degrees of freedom that need to be specified prior to solving the model.\n"
   ]
  },
  {
   "cell_type": "code",
   "execution_count": null,
   "id": "8af34164",
   "metadata": {},
   "outputs": [],
   "source": [
    "print(\"Degrees of freedom =\", degrees_of_freedom(m))"
   ]
  },
  {
   "cell_type": "markdown",
   "id": "e5b20f4f",
   "metadata": {},
   "source": [
    "### The degrees of freedom for the pump model include:\n",
    "- the change in pressure from inlet to outlet\n",
    "- pump efficiency\n",
    "- inlet stream state variables\n",
    "\n",
    "The inlet stream conditions to any unit model are defined by the property model state variables. For the pump model, the inlet and outlet properties are managed by a [control volume](https://idaes-pse.readthedocs.io/en/stable/reference_guides/core/control_volume_0d.html#module-idaes.core.base.control_volume0d).\n",
    "\n",
    "We can use the `.display()` method on the pump unit model control volume. Using this method on any block will automatically go through all the sub-blocks and show all the variables, constraints, and objectives currently on each block."
   ]
  },
  {
   "cell_type": "code",
   "execution_count": null,
   "id": "9cf28535",
   "metadata": {},
   "outputs": [],
   "source": [
    "m.fs.pump.control_volume.display()"
   ]
  },
  {
   "cell_type": "markdown",
   "id": "a8d13e33",
   "metadata": {},
   "source": [
    "### This reveals that upon `m.fs.pump.control_volume` are two sub-blocks called `properties_in` and `properties_out`. \n",
    "\n",
    "Each of these are indexed to `0`, which is the default time-index for steady-state models.\n",
    "\n",
    "To define the inlet stream to our pump, we only need to specify the state variables for `properties_in`. The state variables are defined by the property model used for the unit model (`SeawaterParameterBlock` here) but are nearly always:\n",
    "- `pressure`: pressure of inlet stream (Pa)\n",
    "- `temperature`: temperature of (K)\n",
    "- `flow_mass_phase_comp[\"Liq\", \"H2O\"]`: mass flow rate of water (kg/s)\n",
    "- `flow_mass_phase_comp[\"Liq\", \"TDS\"]`: mass flow rate of TDS (kg/s)\n",
    "\n",
    "> Note: The naming of property variables in WaterTAP property models follow the [naming conventions used in IDAES](https://idaes-pse.readthedocs.io/en/latest/explanations/conventions.html#standard-naming-format)."
   ]
  },
  {
   "cell_type": "code",
   "execution_count": null,
   "id": "e10c9afb",
   "metadata": {},
   "outputs": [],
   "source": [
    "m.fs.pump.control_volume.properties_in[0].pressure.fix(101325)  # Pa\n",
    "m.fs.pump.control_volume.properties_in[0].temperature.fix(298.15)  # K\n",
    "m.fs.pump.control_volume.properties_in[0].flow_mass_phase_comp[\"Liq\", \"H2O\"].fix(1) # kg/s\n",
    "m.fs.pump.control_volume.properties_in[0].flow_mass_phase_comp[\"Liq\", \"TDS\"].fix(0.1) # kg/s\n",
    "\n",
    "print(\"Degrees of freedom =\", degrees_of_freedom(m))"
   ]
  },
  {
   "cell_type": "markdown",
   "id": "4daf6065",
   "metadata": {},
   "source": [
    "### With the inlet stream specified, the remaining two degrees of freedom are variables that are built directly on the pump block itself (rather than on the control volume sub-block):"
   ]
  },
  {
   "cell_type": "code",
   "execution_count": null,
   "id": "13ba14b0",
   "metadata": {},
   "outputs": [],
   "source": [
    "m.fs.pump.deltaP.fix(500000)  # Pa\n",
    "m.fs.pump.efficiency_pump.fix(0.8)\n",
    "\n",
    "print(\"Degrees of freedom =\", degrees_of_freedom(m))"
   ]
  },
  {
   "cell_type": "markdown",
   "id": "869c3668",
   "metadata": {},
   "source": [
    "# Step 6: Scaling the model\n",
    "\n",
    "Prior to model initialization and solving, the variables and constraints on the model must be properly scaled.\n",
    "\n",
    "Model scaling is a topic that will be covered in more detail in a future class, but here we present the helper function `calculate_scaling_factors` that will use default scaling factors to scale the variables on the model.\n",
    "\n",
    "> Note: Since we did not set default scaling factors for some of our variables, this will result in printed warnings.\n",
    "\n"
   ]
  },
  {
   "cell_type": "code",
   "execution_count": null,
   "id": "78a25c8a",
   "metadata": {},
   "outputs": [],
   "source": [
    "calculate_scaling_factors(m)"
   ]
  },
  {
   "cell_type": "markdown",
   "id": "50a6df9e",
   "metadata": {},
   "source": [
    "# Step 7: Initializing the model\n",
    "\n",
    "Before solving the model, we run an initialization routine that will set model variables to initial values based on the operating conditions we have specified in the previous step.\n",
    "\n",
    "Every model has a different initialization routine that was implemented by the model developer, but they can all be called with the `initialize()` method."
   ]
  },
  {
   "cell_type": "code",
   "execution_count": null,
   "id": "d41858bf",
   "metadata": {},
   "outputs": [],
   "source": [
    "m.fs.pump.initialize()"
   ]
  },
  {
   "cell_type": "markdown",
   "id": "e879c330",
   "metadata": {},
   "source": [
    "# Step 8: Solving the model\n",
    "\n",
    "After initialization, we are ready to solve the model.\n",
    "\n",
    "Solving is done by passing the model to a *solver*. WaterTAP uses a custom implementation of the IPOPT solver. An instance of the WaterTAP solver is returned from the `get_solver()` function that was imported above."
   ]
  },
  {
   "cell_type": "code",
   "execution_count": null,
   "id": "0cb22684",
   "metadata": {},
   "outputs": [],
   "source": [
    "solver = get_solver()\n",
    "results = solver.solve(m)"
   ]
  },
  {
   "cell_type": "markdown",
   "id": "149c70f0",
   "metadata": {},
   "source": [
    "### Checking the termination status of the solve\n",
    "\n",
    "We want to know if the solve resulted in an optimal termination. This can be done in a few ways:\n",
    "- using the `assert_optimal_termination` or `check_optimal_termination` function\n",
    "- printing the solver status from the `results`"
   ]
  },
  {
   "cell_type": "code",
   "execution_count": null,
   "id": "6f94eb6b",
   "metadata": {},
   "outputs": [],
   "source": [
    "# This will raise an error if the model did not solve optimally\n",
    "assert_optimal_termination(results)\n",
    "\n",
    "# Alternatively, we can check the termination status without raising an error\n",
    "termination_status = check_optimal_termination(results)\n",
    "print(\"Optimal termination:\", termination_status)\n",
    "\n",
    "# Printing termination condition from results\n",
    "print(\"Solver Termination Condition:\", results.solver.termination_condition)"
   ]
  },
  {
   "cell_type": "markdown",
   "id": "6a4df8ea",
   "metadata": {},
   "source": [
    "# Accessing results\n",
    "\n",
    "The values of all variables on the model can be accessed directly by:\n",
    "- using the `value()` function\n",
    "- accessing the `.value` attribute\n",
    "- by directly calling the variable"
   ]
  },
  {
   "cell_type": "code",
   "execution_count": null,
   "id": "5a8b93d4",
   "metadata": {},
   "outputs": [],
   "source": [
    "pump_work1 = value(m.fs.pump.work_mechanical[0])\n",
    "pump_work2 = m.fs.pump.work_mechanical[0].value\n",
    "pump_work3 = m.fs.pump.work_mechanical[0]()\n",
    "\n",
    "print(f\"Pump work (method 1): {pump_work1:.2f} W\")\n",
    "print(f\"Pump work (method 2): {pump_work2:.2f} W\")\n",
    "print(f\"Pump work (method 3): {pump_work3:.2f} W\")"
   ]
  },
  {
   "cell_type": "markdown",
   "id": "464a9989",
   "metadata": {},
   "source": [
    "# Other stuff?\n",
    "\n",
    "With the basics for building a unit model flowsheet in WaterTAP, the rest of this tutorial will highlight some other stuff.\n",
    "\n",
    "First, we put all the steps for creating our model into a single `build` function that returns the model."
   ]
  },
  {
   "cell_type": "code",
   "execution_count": null,
   "id": "94ba6700",
   "metadata": {},
   "outputs": [],
   "source": [
    "def build():\n",
    "    m = ConcreteModel()\n",
    "\n",
    "    m.fs = FlowsheetBlock(dynamic=False)\n",
    "\n",
    "    m.fs.properties = SeawaterParameterBlock()\n",
    "\n",
    "    m.fs.pump = Pump(\n",
    "        property_package=m.fs.properties,\n",
    "    )\n",
    "\n",
    "    calculate_scaling_factors(m)\n",
    "\n",
    "    return m"
   ]
  },
  {
   "cell_type": "markdown",
   "id": "cae185d0",
   "metadata": {},
   "source": [
    "# Using `calculate_state` method\n",
    "\n",
    "Rather than directly fixing the state variables on the inlet state block `m.fs.pump.control_volume.properties_in`, users can define the state variables using other non-state variables.\n",
    "\n",
    "For example, in water treatment, users might be more familiar with an inlet volumetric flow rate of water (`flow_vol_phase[\"Liq\"]`) and TDS concentration (`conc_mass_phase_comp[\"Liq\", \"TDS\"]`) rather than the mass flow of water and TDS.\n",
    "\n",
    "The `calculate_state` method will use these two variables to calculate the inlet mass flows for water and TDS."
   ]
  },
  {
   "cell_type": "code",
   "execution_count": null,
   "id": "636fd2f8",
   "metadata": {},
   "outputs": [],
   "source": [
    "m = build()\n",
    "\n",
    "print(f\"Degrees of freedom before calculate_state: {degrees_of_freedom(m)}\")\n",
    "m.fs.pump.control_volume.properties_in.calculate_state(\n",
    "    var_args={\n",
    "        (\"flow_vol_phase\", \"Liq\"): 1, # m³/s\n",
    "        (\"conc_mass_phase_comp\", (\"Liq\", \"TDS\")): 0.5, # kg/m³\n",
    "        (\"pressure\", None): 101325, # Pa\n",
    "        (\"temperature\", None): 298, # K\n",
    "    },\n",
    "    hold_state=True,\n",
    ")\n",
    "print(f\"Degrees of freedom after calculate_state: {degrees_of_freedom(m)}\")\n",
    "\n",
    "m.fs.pump.deltaP.fix(500000)  # Pa\n",
    "m.fs.pump.efficiency_pump.fix(0.8)\n",
    "\n",
    "print(\"Degrees of freedom =\", degrees_of_freedom(m))\n",
    "\n",
    "m.fs.pump.initialize()\n",
    "solver = get_solver()\n",
    "results = solver.solve(m)\n",
    "assert_optimal_termination(results)"
   ]
  },
  {
   "cell_type": "markdown",
   "id": "106899ae",
   "metadata": {},
   "source": [
    "# Using `pyunits`\n",
    "\n",
    "WaterTAP makes use of a package called [Pint](https://pint.readthedocs.io/en/stable/) to handle dimensional quantities, which we have imported as `pyunits`.\n",
    "\n",
    "Variables, parameters, and expressions in WaterTAP models have physical units associated with them to ensure dimensional consistency.\n",
    "\n",
    "But `pyunits` can be used just as easily to define a quantity outside of WaterTAP. A quantity is the product of the magnitude and the associated dimensional units."
   ]
  },
  {
   "cell_type": "code",
   "execution_count": 71,
   "id": "e711ba4f",
   "metadata": {},
   "outputs": [
    {
     "name": "stdout",
     "output_type": "stream",
     "text": [
      "1000000.0*gal/d\n",
      "µgal/d\n",
      "Mgal/d\n"
     ]
    }
   ],
   "source": [
    "conc = 35 * pyunits.g / pyunits.L\n",
    "flow_vol = 1e6 * pyunits.gallons / pyunits.day\n",
    "\n",
    "print(flow_vol)\n",
    "# You can also use common prefixes to the units to indicate order of magnitude\n",
    "# e.g., u = \"micro\" = 1E-6\n",
    "flow_vol = 1 * pyunits.ugallons / pyunits.day\n",
    "print(flow_vol)\n",
    "# M = \"mega\" = 1E6\n",
    "flow_vol = 1 * pyunits.Mgallons / pyunits.day\n",
    "print(flow_vol)"
   ]
  },
  {
   "cell_type": "markdown",
   "id": "af48d653",
   "metadata": {},
   "source": [
    "### Converting units\n",
    "\n",
    "You can convert from one set of units to another using the `convert` method and access the units of a quantity with the `get_units` method"
   ]
  },
  {
   "cell_type": "code",
   "execution_count": 83,
   "id": "33f41c79",
   "metadata": {},
   "outputs": [
    {
     "name": "stdout",
     "output_type": "stream",
     "text": [
      "Flow volume in MGD = 1.00 Mgal/d\n",
      "Flow volume in m3/s = 0.043813 m**3/s\n"
     ]
    }
   ],
   "source": [
    "flow_vol2 = pyunits.convert(flow_vol, to_units=pyunits.m**3 / pyunits.s)\n",
    "print(f\"Flow volume in MGD = {value(flow_vol):.2f} {pyunits.get_units(flow_vol)}\")\n",
    "print(f\"Flow volume in m3/s = {value(flow_vol2):.6f} {pyunits.get_units(flow_vol2)}\")\n"
   ]
  },
  {
   "cell_type": "markdown",
   "id": "0259394b",
   "metadata": {},
   "source": [
    "### Creating new quantities\n",
    "\n"
   ]
  },
  {
   "cell_type": "code",
   "execution_count": null,
   "id": "5df28dac",
   "metadata": {},
   "outputs": [],
   "source": [
    "\n",
    "flow = 1 * pyunits.Mgallons / pyunits.day\n",
    "flow = 1 * pyunits.ugla"
   ]
  },
  {
   "cell_type": "code",
   "execution_count": null,
   "id": "638223b2",
   "metadata": {},
   "outputs": [],
   "source": []
  },
  {
   "cell_type": "code",
   "execution_count": null,
   "id": "fedb30b0",
   "metadata": {},
   "outputs": [],
   "source": [
    "m.fs.pump.control_volume.properties_in.calculate_state(\n",
    "    var_args={\n",
    "        (\"flow_vol_phase\", \"Liq\"): 1,\n",
    "        (\"conc_mass_phase_comp\", (\"Liq\", \"TDS\")): 0.5,\n",
    "        (\"pressure\", None): 101325,\n",
    "        (\"temperature\", None): 298,\n",
    "    },\n",
    "    hold_state=True,\n",
    ")\n",
    "\n",
    "# m.fs.feed.properties.calculate_state(\n",
    "#         var_args={\n",
    "#             (\"flow_vol_phase\", \"Liq\"): flow_in,  # m3/s\n",
    "#             (\"conc_mass_phase_comp\", (\"Liq\", target_ion)): conc_mass_in,  # kg/m3\n",
    "#             (\"pressure\", None): 101325,\n",
    "#             (\"temperature\", None): 298,\n",
    "#         },\n",
    "#         hold_state=True,\n",
    "#     )"
   ]
  },
  {
   "cell_type": "code",
   "execution_count": null,
   "id": "4bb9ce7c",
   "metadata": {},
   "outputs": [],
   "source": [
    "# Provide unit model inputs. For the pump we need to provide inlet flow, inlet pressure, outlet pressure, temperature and efficiency\n",
    "\n",
    "# Add pyunits\n",
    "\n",
    "feed_flow_mass = 1 # kg/s\n",
    "feed_mass_frac_TDS = 0.035\n",
    "feed_mass_frac_H2O = 1 - feed_mass_frac_TDS\n",
    "\n",
    "m.fs.pump.inlet.flow_mass_phase_comp[0, \"Liq\", \"TDS\"].fix(\n",
    "    feed_flow_mass * feed_mass_frac_TDS\n",
    ")\n",
    "m.fs.pump.inlet.flow_mass_phase_comp[0, \"Liq\", \"H2O\"].fix(\n",
    "    feed_flow_mass * feed_mass_frac_H2O\n",
    ")\n",
    "\n",
    "feed_pressure_in = 1e5 # Pa\n",
    "feed_pressure_out = 5e5 # Pa\n",
    "feed_temperature = 273.15 + 25 # K\n",
    "\n",
    "m.fs.pump.inlet.pressure[0].fix(feed_pressure_in)\n",
    "m.fs.pump.inlet.temperature[0].fix(feed_temperature)\n",
    "m.fs.pump.outlet.pressure[0].fix(feed_pressure_out)\n",
    "\n",
    "m.fs.pump.efficiency_pump.fix(0.75)"
   ]
  },
  {
   "cell_type": "code",
   "execution_count": null,
   "id": "7685b742",
   "metadata": {},
   "outputs": [],
   "source": [
    "m.fs.pump.inlet.display()"
   ]
  },
  {
   "cell_type": "code",
   "execution_count": null,
   "id": "5967aebe",
   "metadata": {},
   "outputs": [],
   "source": [
    "# Lets check the degrees of freedom of the flowsheet! This should ideally be zero now.\n",
    "degrees_of_freedom(m)"
   ]
  },
  {
   "cell_type": "code",
   "execution_count": null,
   "id": "74cec747",
   "metadata": {},
   "outputs": [],
   "source": [
    "# Let's initialize the flowsheet\n",
    "m.fs.pump.initialize()"
   ]
  },
  {
   "cell_type": "code",
   "execution_count": null,
   "id": "deeef847",
   "metadata": {},
   "outputs": [],
   "source": [
    "# Let's solve the flowsheet now!\n",
    "solver = get_solver()\n",
    "results = solver.solve(m, tee=False)\n",
    "# Ensure that the solver status is ok and optimal termination\n",
    "assert_optimal_termination(results)"
   ]
  },
  {
   "cell_type": "code",
   "execution_count": null,
   "id": "b7c7ae48",
   "metadata": {},
   "outputs": [],
   "source": [
    "def build():\n",
    "    return m\n",
    "\n",
    "m.fs.pump.properties_in.calculate_state(\n",
    "    var_args={\n",
    "        (\"flow_vol_phase\", [\"Liq\"]): m.fs.pump.inlet.flow_vol_phase[0, \"Liq\"],\n",
    "        (\"conc_mass_phase_comp\", [\"Liq\", \"TDS\"]): m.fs.pump.inlet.conc_mass_phase_comp[0, \"Liq\", \"TDS\"],\n",
    "        (\"pressure\"): feed_pressure_in,\n",
    "        (\"temperature\"): feed_temperature,\n",
    "    }\n",
    ")"
   ]
  }
 ],
 "metadata": {
  "kernelspec": {
   "display_name": "watertap-dev",
   "language": "python",
   "name": "python3"
  },
  "language_info": {
   "codemirror_mode": {
    "name": "ipython",
    "version": 3
   },
   "file_extension": ".py",
   "mimetype": "text/x-python",
   "name": "python",
   "nbconvert_exporter": "python",
   "pygments_lexer": "ipython3",
   "version": "3.10.18"
  }
 },
 "nbformat": 4,
 "nbformat_minor": 5
}
