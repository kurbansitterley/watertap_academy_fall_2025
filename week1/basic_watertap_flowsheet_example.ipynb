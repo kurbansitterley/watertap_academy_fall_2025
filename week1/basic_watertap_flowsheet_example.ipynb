{
 "cells": [
  {
   "cell_type": "markdown",
   "id": "55a86a36",
   "metadata": {},
   "source": [
    "# Week 1: Adding unit model to flowsheet\n",
    "\n",
    "This tutorial will go through the basic workflow to create a WaterTAP model with a single unit proces (pump).\n",
    "\n",
    "1. Create model\n",
    "2. Add flowsheet\n",
    "3. Add property model\n",
    "4. Add pump model\n",
    "5. Set operating conditions\n",
    "6. Scaling model\n",
    "7. Initialize model\n",
    "8. Solve model"
   ]
  },
  {
   "cell_type": "markdown",
   "id": "a0440187",
   "metadata": {},
   "source": [
    "## Step 0: Import necessary packages\n",
    "\n",
    "### Any WaterTAP model will begin with importing the relevant components from Pyomo, IDAES, and WaterTAP.\n",
    "\n",
    "From Pyomo:\n",
    "- Concrete model object\n",
    "- units \n",
    "- Helper function(s) to check solver status\n",
    "\n",
    "From IDAES:\n",
    "- Flowsheet block\n",
    "- Helper function to check degrees of freedom\n",
    "\n",
    "From WaterTAP:\n",
    "- Property models\n",
    "- Unit models\n",
    "- Solver\n",
    "\n",
    "> Both `ConcreteModel` and `FlowsheetBlock` are required imports for any WaterTAP model.\n"
   ]
  },
  {
   "cell_type": "code",
   "execution_count": 15,
   "id": "f5a30ec4",
   "metadata": {},
   "outputs": [],
   "source": [
    "# Pyomo imports\n",
    "from pyomo.environ import (\n",
    "    ConcreteModel,\n",
    "    check_optimal_termination,\n",
    "    assert_optimal_termination,\n",
    "    units as pyunits,\n",
    ")\n",
    "\n",
    "# IDAES imports\n",
    "from idaes.core import FlowsheetBlock\n",
    "from idaes.core.util.model_statistics import degrees_of_freedom\n",
    "\n",
    "# WaterTAP imports\n",
    "from watertap.core.solvers import get_solver\n",
    "from watertap.property_models.seawater_prop_pack import SeawaterParameterBlock\n",
    "from watertap.unit_models.pressure_changer import Pump\n"
   ]
  },
  {
   "cell_type": "markdown",
   "id": "49293118",
   "metadata": {},
   "source": [
    "## Step 1: Create base model\n",
    "\n",
    "Pyomo's `ConcreteModel` is the basis for any WaterTAP model.\n",
    "\n",
    "No arguments are required. Convention is to call this `m` but any local name can be used."
   ]
  },
  {
   "cell_type": "code",
   "execution_count": 16,
   "id": "dadb7c1c",
   "metadata": {},
   "outputs": [],
   "source": [
    "m = ConcreteModel()"
   ]
  },
  {
   "cell_type": "markdown",
   "id": "068b1128",
   "metadata": {},
   "source": [
    "## Step 2: Add flowsheet block\n",
    "\n",
    "The [`FlowsheetBlock`](https://idaes-pse.readthedocs.io/en/stable/reference_guides/core/flowsheet_block.html#) from IDAES forms the base for all WaterTAP system models.\n",
    "\n",
    "All model components (unit models, property models, variables, constraints, etc.) are built upon the flowsheet block.\n",
    "\n",
    "The flowsheet block will create the time domain for the flowsheet. WaterTAP is a steady-state modeling framework, so we set `dynamic=False` when creating the `FlowsheetBlock`.\n",
    "\n",
    "(Note: `dynamic=False` is the default argument, but excluding it will raise a warning.)"
   ]
  },
  {
   "cell_type": "code",
   "execution_count": 17,
   "id": "7a50d75c",
   "metadata": {},
   "outputs": [],
   "source": [
    "m.fs = FlowsheetBlock(dynamic=False)"
   ]
  },
  {
   "cell_type": "markdown",
   "id": "3b04256c",
   "metadata": {},
   "source": [
    "# Step 3: Add property model\n",
    "\n",
    "With the flowsheet created, we can add any sub-models required for the WaterTAP system model.\n",
    "\n",
    "The property model used will be dictated by the models on the flowsheet. In this demonstration, we are using the WaterTAP [seawater property model](https://watertap.readthedocs.io/en/stable/technical_reference/property_models/seawater.html).\n",
    "\n",
    "Creating the `SeawaterParameterBlock` does not require any arguments. However, other property models can have many required and optional arguments to specify the model."
   ]
  },
  {
   "cell_type": "code",
   "execution_count": 18,
   "id": "86c74b7f",
   "metadata": {},
   "outputs": [],
   "source": [
    "m.fs.properties = SeawaterParameterBlock()"
   ]
  },
  {
   "cell_type": "markdown",
   "id": "c56f715f",
   "metadata": {},
   "source": [
    "# Step 4: Add unit model\n",
    "\n",
    "After adding the property model, we can add the unit models to the flowsheet. In this demonstration, we are adding a single [pump model](https://watertap.readthedocs.io/en/stable/technical_reference/unit_models/pump.html).\n",
    "\n",
    "Adding any unit model requires specifying the property package via the `property_package` argument. Here, we are specifying that the property model to be used with our pump model is `m.fs.properties` that we just added to the flowsheet."
   ]
  },
  {
   "cell_type": "code",
   "execution_count": 19,
   "id": "ade9cf8c",
   "metadata": {},
   "outputs": [],
   "source": [
    "m.fs.pump = Pump(\n",
    "    property_package=m.fs.properties,\n",
    ")"
   ]
  },
  {
   "cell_type": "markdown",
   "id": "f29518da",
   "metadata": {},
   "source": [
    "# Step 5: Set operating conditions\n",
    "\n",
    "Now that we have added all the necessary models to the flowsheet, we can specify the operating conditions.\n",
    "\n",
    "First, we check the degrees of freedom that need to be specified prior to solving the model.\n"
   ]
  },
  {
   "cell_type": "code",
   "execution_count": 20,
   "id": "8af34164",
   "metadata": {},
   "outputs": [
    {
     "name": "stdout",
     "output_type": "stream",
     "text": [
      "Degrees of freedom = 6\n"
     ]
    }
   ],
   "source": [
    "print(\"Degrees of freedom =\", degrees_of_freedom(m))"
   ]
  },
  {
   "cell_type": "markdown",
   "id": "e5b20f4f",
   "metadata": {},
   "source": [
    "The degrees of freedom for the pump model include \n",
    "- the change in pressure from inlet to outlet\n",
    "- pump efficiency\n",
    "- inlet stream state variables\n",
    "\n",
    "The inlet stream conditions to any unit model are defined by the property model state variables. For the pump model, the inlet and outlet properties are managed by a [control volume](https://idaes-pse.readthedocs.io/en/stable/reference_guides/core/control_volume_0d.html#module-idaes.core.base.control_volume0d).\n",
    "\n",
    "We can use the `.display()` method on the pump unit model control volume. Using this method on any block will automatically go through all the sub-blocks and show all the variables, constraints, and objectives currently on each block."
   ]
  },
  {
   "cell_type": "code",
   "execution_count": 21,
   "id": "9cf28535",
   "metadata": {},
   "outputs": [
    {
     "name": "stdout",
     "output_type": "stream",
     "text": [
      "Block fs.pump.control_volume\n",
      "\n",
      "  Variables:\n",
      "    work : Work transferred into control volume\n",
      "        Size=1, Index=fs._time, Units=kg*m**2/s**3\n",
      "        Key : Lower : Value : Upper : Fixed : Stale : Domain\n",
      "        0.0 :  None :   0.0 :  None : False : False :  Reals\n",
      "    deltaP : Pressure difference across unit\n",
      "        Size=1, Index=fs._time, Units=kg/m/s**2\n",
      "        Key : Lower : Value : Upper : Fixed : Stale : Domain\n",
      "        0.0 :  None :   0.0 :  None : False : False :  Reals\n",
      "\n",
      "  Objectives:\n",
      "    None\n",
      "\n",
      "  Constraints:\n",
      "    material_balances : Size=2\n",
      "        Key          : Lower : Body : Upper\n",
      "        (0.0, 'H2O') :   0.0 :  0.0 :   0.0\n",
      "        (0.0, 'TDS') :   0.0 :  0.0 :   0.0\n",
      "    pressure_balance : Size=1\n",
      "        Key : Lower : Body : Upper\n",
      "        0.0 :   0.0 :  0.0 :   0.0\n",
      "    isothermal_balance : Size=1\n",
      "        Key : Lower : Body : Upper\n",
      "        0.0 :   0.0 :  0.0 :   0.0\n",
      "\n",
      "  Blocks:\n",
      "    Block fs.pump.control_volume.properties_in[0.0]\n",
      "    \n",
      "      Variables:\n",
      "        flow_mass_phase_comp : Mass flow rate\n",
      "            Size=2, Index=fs.properties.phase_list*fs.properties.component_list, Units=kg/s\n",
      "            Key            : Lower : Value : Upper : Fixed : Stale : Domain\n",
      "            ('Liq', 'H2O') :   0.0 : 0.965 :  None : False : False : NonNegativeReals\n",
      "            ('Liq', 'TDS') :   0.0 : 0.035 :  None : False : False : NonNegativeReals\n",
      "        temperature : Temperature\n",
      "            Size=1, Index=None, Units=K\n",
      "            Key  : Lower  : Value  : Upper : Fixed : Stale : Domain\n",
      "            None : 273.15 : 298.15 :  1000 : False : False : NonNegativeReals\n",
      "        pressure : Pressure\n",
      "            Size=1, Index=None, Units=Pa\n",
      "            Key  : Lower  : Value  : Upper      : Fixed : Stale : Domain\n",
      "            None : 1000.0 : 101325 : 50000000.0 : False : False : NonNegativeReals\n",
      "        enth_mass_phase : Specific enthalpy\n",
      "            Size=1, Index=fs.properties.phase_list, Units=J/kg\n",
      "            Key : Lower : Value     : Upper        : Fixed : Stale : Domain\n",
      "            Liq :     1 : 1000000.0 : 1000000000.0 : False : False :  Reals\n",
      "        mass_frac_phase_comp : Mass fraction\n",
      "            Size=2, Index=fs.properties.phase_list*fs.properties.component_list, Units=dimensionless\n",
      "            Key            : Lower : Value : Upper : Fixed : Stale : Domain\n",
      "            ('Liq', 'H2O') :   0.0 :   0.1 :  None : False : False :  Reals\n",
      "            ('Liq', 'TDS') :   0.0 :   0.1 :  None : False : False :  Reals\n",
      "    \n",
      "      Objectives:\n",
      "        None\n",
      "    \n",
      "      Constraints:\n",
      "        eq_enth_mass_phase : Size=1\n",
      "            Key : Lower : Body           : Upper\n",
      "            Liq :   0.0 : 912640.0681875 :   0.0\n",
      "        eq_mass_frac_phase_comp : Size=2\n",
      "            Key            : Lower : Body   : Upper\n",
      "            ('Liq', 'H2O') :   0.0 : -0.865 :   0.0\n",
      "            ('Liq', 'TDS') :   0.0 :  0.065 :   0.0\n",
      "    Block fs.pump.control_volume.properties_out[0.0]\n",
      "    \n",
      "      Variables:\n",
      "        flow_mass_phase_comp : Mass flow rate\n",
      "            Size=2, Index=fs.properties.phase_list*fs.properties.component_list, Units=kg/s\n",
      "            Key            : Lower : Value : Upper : Fixed : Stale : Domain\n",
      "            ('Liq', 'H2O') :   0.0 : 0.965 :  None : False : False : NonNegativeReals\n",
      "            ('Liq', 'TDS') :   0.0 : 0.035 :  None : False : False : NonNegativeReals\n",
      "        temperature : Temperature\n",
      "            Size=1, Index=None, Units=K\n",
      "            Key  : Lower  : Value  : Upper : Fixed : Stale : Domain\n",
      "            None : 273.15 : 298.15 :  1000 : False : False : NonNegativeReals\n",
      "        pressure : Pressure\n",
      "            Size=1, Index=None, Units=Pa\n",
      "            Key  : Lower  : Value  : Upper      : Fixed : Stale : Domain\n",
      "            None : 1000.0 : 101325 : 50000000.0 : False : False : NonNegativeReals\n",
      "        enth_mass_phase : Specific enthalpy\n",
      "            Size=1, Index=fs.properties.phase_list, Units=J/kg\n",
      "            Key : Lower : Value     : Upper        : Fixed : Stale : Domain\n",
      "            Liq :     1 : 1000000.0 : 1000000000.0 : False : False :  Reals\n",
      "        mass_frac_phase_comp : Mass fraction\n",
      "            Size=2, Index=fs.properties.phase_list*fs.properties.component_list, Units=dimensionless\n",
      "            Key            : Lower : Value : Upper : Fixed : Stale : Domain\n",
      "            ('Liq', 'H2O') :   0.0 :   0.1 :  None : False : False :  Reals\n",
      "            ('Liq', 'TDS') :   0.0 :   0.1 :  None : False : False :  Reals\n",
      "        flow_vol_phase : Volumetric flow rate\n",
      "            Size=1, Index=fs.properties.phase_list, Units=m**3/s\n",
      "            Key : Lower : Value : Upper : Fixed : Stale : Domain\n",
      "            Liq :   0.0 :     1 :  None : False : False :  Reals\n",
      "        dens_mass_phase : Mass density of seawater\n",
      "            Size=1, Index=fs.properties.phase_list, Units=kg/m**3\n",
      "            Key : Lower : Value  : Upper     : Fixed : Stale : Domain\n",
      "            Liq :     1 : 1000.0 : 1000000.0 : False : False :  Reals\n",
      "        dens_mass_solvent : Mass density of pure water\n",
      "            Size=1, Index=None, Units=kg/m**3\n",
      "            Key  : Lower : Value  : Upper     : Fixed : Stale : Domain\n",
      "            None :     1 : 1000.0 : 1000000.0 : False : False :  Reals\n",
      "    \n",
      "      Objectives:\n",
      "        None\n",
      "    \n",
      "      Constraints:\n",
      "        eq_enth_mass_phase : Size=1\n",
      "            Key : Lower : Body           : Upper\n",
      "            Liq :   0.0 : 912640.0681875 :   0.0\n",
      "        eq_mass_frac_phase_comp : Size=2\n",
      "            Key            : Lower : Body   : Upper\n",
      "            ('Liq', 'H2O') :   0.0 : -0.865 :   0.0\n",
      "            ('Liq', 'TDS') :   0.0 :  0.065 :   0.0\n",
      "        eq_flow_vol_phase : Size=1\n",
      "            Key : Lower : Body  : Upper\n",
      "            Liq :   0.0 : 0.999 :   0.0\n",
      "        eq_dens_mass_phase : Size=1\n",
      "            Key : Lower : Body               : Upper\n",
      "            Liq :   0.0 : -76.19771168750003 :   0.0\n",
      "        eq_dens_mass_solvent : Size=1\n",
      "            Key  : Lower : Body               : Upper\n",
      "            None :   0.0 : 3.1076601562500628 :   0.0\n"
     ]
    }
   ],
   "source": [
    "m.fs.pump.control_volume.display()"
   ]
  },
  {
   "cell_type": "markdown",
   "id": "a8d13e33",
   "metadata": {},
   "source": [
    "This reveals that upon `m.fs.pump.control_volume` are two sub-blocks called `properties_in` and `properties_out`. Each of these are indexed to `0`, which is the default time-index for steady-state models.\n",
    "\n",
    "To define the inlet stream to our pump, we only need to specify the state variables for `properties_in`. The state variables are defined by the property model used for the unit model (`SeawaterParameterBlock` here) but are nearly always:\n",
    "- `pressure`: pressure of inlet stream (Pa)\n",
    "- `temperature`: temperature of (K)\n",
    "- `flow_mass_phase_comp[\"Liq\", \"H2O\"]`: mass flow rate of water (kg/s)\n",
    "- `flow_mass_phase_comp[\"Liq\", \"TDS\"]`: mass flow rate of TDS (kg/s)\n",
    "\n",
    "> Note: The naming of property variables in WaterTAP property models follow the [naming conventions used in IDAES](https://idaes-pse.readthedocs.io/en/latest/explanations/conventions.html#standard-naming-format)."
   ]
  },
  {
   "cell_type": "code",
   "execution_count": 22,
   "id": "e10c9afb",
   "metadata": {},
   "outputs": [
    {
     "name": "stdout",
     "output_type": "stream",
     "text": [
      "Degrees of freedom = 2\n"
     ]
    }
   ],
   "source": [
    "m.fs.pump.control_volume.properties_in[0].pressure.fix(101325)  # Pa\n",
    "m.fs.pump.control_volume.properties_in[0].temperature.fix(298.15)  # K\n",
    "m.fs.pump.control_volume.properties_in[0].flow_mass_phase_comp[\"Liq\", \"H2O\"].fix(1) # kg/s\n",
    "m.fs.pump.control_volume.properties_in[0].flow_mass_phase_comp[\"Liq\", \"TDS\"].fix(0.1) # kg/s\n",
    "\n",
    "print(\"Degrees of freedom =\", degrees_of_freedom(m))"
   ]
  },
  {
   "cell_type": "markdown",
   "id": "4daf6065",
   "metadata": {},
   "source": [
    "With the inlet stream specified, the remaining two degrees of freedom are variables that are built directly on the pump block itself (rather than on the control volume sub-block):"
   ]
  },
  {
   "cell_type": "code",
   "execution_count": 23,
   "id": "13ba14b0",
   "metadata": {},
   "outputs": [
    {
     "name": "stdout",
     "output_type": "stream",
     "text": [
      "Degrees of freedom = 0\n"
     ]
    }
   ],
   "source": [
    "m.fs.pump.deltaP.fix(500000)  # Pa\n",
    "m.fs.pump.efficiency_pump.fix(0.8)\n",
    "\n",
    "print(\"Degrees of freedom =\", degrees_of_freedom(m))"
   ]
  },
  {
   "cell_type": "code",
   "execution_count": null,
   "id": "78a25c8a",
   "metadata": {},
   "outputs": [],
   "source": [
    "m.fs.pump.display()"
   ]
  },
  {
   "cell_type": "code",
   "execution_count": null,
   "id": "fedb30b0",
   "metadata": {},
   "outputs": [],
   "source": [
    "m.fs.pump.control_volume.properties_in.calculate_state(\n",
    "    var_args={\n",
    "        (\"flow_vol_phase\", \"Liq\"): 1,\n",
    "        (\"conc_mass_phase_comp\", (\"Liq\", \"TDS\")): 0.5,\n",
    "        (\"pressure\", None): 101325,\n",
    "        (\"temperature\", None): 298,\n",
    "    },\n",
    "    hold_state=True,\n",
    ")\n",
    "\n",
    "# m.fs.feed.properties.calculate_state(\n",
    "#         var_args={\n",
    "#             (\"flow_vol_phase\", \"Liq\"): flow_in,  # m3/s\n",
    "#             (\"conc_mass_phase_comp\", (\"Liq\", target_ion)): conc_mass_in,  # kg/m3\n",
    "#             (\"pressure\", None): 101325,\n",
    "#             (\"temperature\", None): 298,\n",
    "#         },\n",
    "#         hold_state=True,\n",
    "#     )"
   ]
  },
  {
   "cell_type": "code",
   "execution_count": null,
   "id": "4bb9ce7c",
   "metadata": {},
   "outputs": [],
   "source": [
    "# Provide unit model inputs. For the pump we need to provide inlet flow, inlet pressure, outlet pressure, temperature and efficiency\n",
    "\n",
    "# Add pyunits\n",
    "\n",
    "feed_flow_mass = 1 # kg/s\n",
    "feed_mass_frac_TDS = 0.035\n",
    "feed_mass_frac_H2O = 1 - feed_mass_frac_TDS\n",
    "\n",
    "m.fs.pump.inlet.flow_mass_phase_comp[0, \"Liq\", \"TDS\"].fix(\n",
    "    feed_flow_mass * feed_mass_frac_TDS\n",
    ")\n",
    "m.fs.pump.inlet.flow_mass_phase_comp[0, \"Liq\", \"H2O\"].fix(\n",
    "    feed_flow_mass * feed_mass_frac_H2O\n",
    ")\n",
    "\n",
    "feed_pressure_in = 1e5 # Pa\n",
    "feed_pressure_out = 5e5 # Pa\n",
    "feed_temperature = 273.15 + 25 # K\n",
    "\n",
    "m.fs.pump.inlet.pressure[0].fix(feed_pressure_in)\n",
    "m.fs.pump.inlet.temperature[0].fix(feed_temperature)\n",
    "m.fs.pump.outlet.pressure[0].fix(feed_pressure_out)\n",
    "\n",
    "m.fs.pump.efficiency_pump.fix(0.75)"
   ]
  },
  {
   "cell_type": "code",
   "execution_count": null,
   "id": "7685b742",
   "metadata": {},
   "outputs": [],
   "source": [
    "m.fs.pump.inlet.display()"
   ]
  },
  {
   "cell_type": "code",
   "execution_count": null,
   "id": "5967aebe",
   "metadata": {},
   "outputs": [],
   "source": [
    "# Lets check the degrees of freedom of the flowsheet! This should ideally be zero now.\n",
    "degrees_of_freedom(m)"
   ]
  },
  {
   "cell_type": "code",
   "execution_count": null,
   "id": "74cec747",
   "metadata": {},
   "outputs": [],
   "source": [
    "# Let's initialize the flowsheet\n",
    "m.fs.pump.initialize()"
   ]
  },
  {
   "cell_type": "code",
   "execution_count": null,
   "id": "deeef847",
   "metadata": {},
   "outputs": [],
   "source": [
    "# Let's solve the flowsheet now!\n",
    "solver = get_solver()\n",
    "results = solver.solve(m, tee=False)\n",
    "# Ensure that the solver status is ok and optimal termination\n",
    "assert_optimal_termination(results)"
   ]
  },
  {
   "cell_type": "code",
   "execution_count": null,
   "id": "b7c7ae48",
   "metadata": {},
   "outputs": [],
   "source": [
    "def build():\n",
    "    return m\n",
    "\n",
    "m.fs.pump.properties_in.calculate_state(\n",
    "    var_args={\n",
    "        (\"flow_vol_phase\", [\"Liq\"]): m.fs.pump.inlet.flow_vol_phase[0, \"Liq\"],\n",
    "        (\"conc_mass_phase_comp\", [\"Liq\", \"TDS\"]): m.fs.pump.inlet.conc_mass_phase_comp[0, \"Liq\", \"TDS\"],\n",
    "        (\"pressure\"): feed_pressure_in,\n",
    "        (\"temperature\"): feed_temperature,\n",
    "    }\n",
    ")"
   ]
  }
 ],
 "metadata": {
  "kernelspec": {
   "display_name": "watertap-dev",
   "language": "python",
   "name": "python3"
  },
  "language_info": {
   "codemirror_mode": {
    "name": "ipython",
    "version": 3
   },
   "file_extension": ".py",
   "mimetype": "text/x-python",
   "name": "python",
   "nbconvert_exporter": "python",
   "pygments_lexer": "ipython3",
   "version": "3.10.18"
  }
 },
 "nbformat": 4,
 "nbformat_minor": 5
}
