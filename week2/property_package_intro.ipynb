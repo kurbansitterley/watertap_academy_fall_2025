{
 "cells": [
  {
   "cell_type": "markdown",
   "id": "106135bf",
   "metadata": {},
   "source": [
    "# Property Package Introduction\n",
    "\n",
    "The properties of the water in WaterTAP models is defined by the [property models](https://watertap.readthedocs.io/en/stable/technical_reference/property_models/index.html). \n",
    "\n",
    "In unit models, properties exist as sub-models of the main unit model on what are called _state blocks_. \n",
    "\n",
    "The creation of state blocks is done automatically as part of the build for any unit model.\n",
    "\n",
    "This tutorial will cover the basics of interacting with property packages and state blocks in WaterTAP."
   ]
  },
  {
   "cell_type": "markdown",
   "id": "1adda247",
   "metadata": {},
   "source": [
    "### Required imports from Pyomo, IDAES, and WaterTAP"
   ]
  },
  {
   "cell_type": "code",
   "execution_count": 25,
   "id": "2499cc5a",
   "metadata": {},
   "outputs": [],
   "source": [
    "from pyomo.environ import ConcreteModel\n",
    "\n",
    "from idaes.core import FlowsheetBlock\n",
    "from idaes.core.util.scaling import calculate_scaling_factors, set_scaling_factor\n",
    "from idaes.core.util.model_statistics import degrees_of_freedom\n",
    "\n",
    "from watertap.property_models.seawater_prop_pack import SeawaterParameterBlock\n",
    "from watertap.core.solvers import get_solver"
   ]
  },
  {
   "cell_type": "markdown",
   "id": "cd584d44",
   "metadata": {},
   "source": [
    "### Create model, flowsheet, and property model"
   ]
  },
  {
   "cell_type": "code",
   "execution_count": 17,
   "id": "f6cc92fd",
   "metadata": {},
   "outputs": [],
   "source": [
    "m = ConcreteModel()\n",
    "m.fs = FlowsheetBlock(dynamic=False)\n",
    "m.fs.properties = SeawaterParameterBlock()"
   ]
  },
  {
   "cell_type": "markdown",
   "id": "301ebbf5",
   "metadata": {},
   "source": [
    "### Create state block\n",
    "\n",
    "For the purposes of this tutorial, here we are going to do manually what is done automatically in unit models as part of the build process: create a _state block_.\n",
    "\n",
    "WaterTAP unit models will typically contain up to three state blocks that define the properties for the inlet, outlet, and waste streams.\n",
    "\n",
    "In the pump tutorial in week 1, the state block was created on the `control_volume` sub-block as e.g. `m.fs.pump.control_volume.properties_in[0]`. State blocks are always indexed to `0` in all WaterTAP models.\n",
    "\n",
    "However, despite being termed a \"property model\", `m.fs.properties` contains no properties on it. Instead, it contains all the information needed to create properties on state blocks.\n",
    "\n",
    "Using the `build_state_block` method on the property model and passing our index `[0]` will create a standalone state block model with the seawater property model."
   ]
  },
  {
   "cell_type": "code",
   "execution_count": 18,
   "id": "5acc5309",
   "metadata": {},
   "outputs": [],
   "source": [
    "m.fs.state_block = m.fs.properties.build_state_block([0])"
   ]
  },
  {
   "cell_type": "markdown",
   "id": "2a57d920",
   "metadata": {},
   "source": [
    "Like many other components, we use the `display()` method to see all the variables, constraints, and objectives on the state block.\n",
    "\n",
    "In this case, we observe only the _state variables_. These are the specific variables used by the property model to define the state of the stream. \n",
    "\n",
    "For the seawater property model (any many other WaterTAP property models), the state varaibles are:\n",
    "- pressure\n",
    "- temperature\n",
    "- mass flow rate of components \n",
    "\n",
    "For the seawater property model, the components are `H2O` and `TDS`, but other property models allow adding any number of components."
   ]
  },
  {
   "cell_type": "code",
   "execution_count": 19,
   "id": "bfcc4d97",
   "metadata": {},
   "outputs": [
    {
     "name": "stdout",
     "output_type": "stream",
     "text": [
      "Block fs.state_block[0]\n",
      "\n",
      "  Variables:\n",
      "    flow_mass_phase_comp : Mass flow rate\n",
      "        Size=2, Index=fs.properties.phase_list*fs.properties.component_list, Units=kg/s\n",
      "        Key            : Lower : Value : Upper : Fixed : Stale : Domain\n",
      "        ('Liq', 'H2O') :   0.0 : 0.965 :  None : False : False : NonNegativeReals\n",
      "        ('Liq', 'TDS') :   0.0 : 0.035 :  None : False : False : NonNegativeReals\n",
      "    temperature : Temperature\n",
      "        Size=1, Index=None, Units=K\n",
      "        Key  : Lower  : Value  : Upper : Fixed : Stale : Domain\n",
      "        None : 273.15 : 298.15 :  1000 : False : False : NonNegativeReals\n",
      "    pressure : Pressure\n",
      "        Size=1, Index=None, Units=Pa\n",
      "        Key  : Lower  : Value  : Upper      : Fixed : Stale : Domain\n",
      "        None : 1000.0 : 101325 : 50000000.0 : False : False : NonNegativeReals\n",
      "\n",
      "  Objectives:\n",
      "    None\n",
      "\n",
      "  Constraints:\n",
      "    None\n"
     ]
    }
   ],
   "source": [
    "m.fs.state_block[0].display()"
   ]
  },
  {
   "cell_type": "markdown",
   "id": "857c976c",
   "metadata": {},
   "source": [
    "### Creating other properties\n",
    "\n",
    "Despite the number of other properties available in the seawater property model, we only see the state variables here. Why?\n",
    "\n",
    "Outside of the state variables, other property variables are only created on state blocks on an as-needed basis. That is, the model will not create these other properties unless they are needed by the model.\n",
    "\n",
    "To create additional properties, you only need to try to access them (or, \"touch\" them).\n",
    "\n",
    "Let's say our model will need the mass concentration of components, named `conc_mass_phase_comp` in our property model. Simply adding a line referencing this (as yet uncreated) model will add this variable to the state block."
   ]
  },
  {
   "cell_type": "code",
   "execution_count": null,
   "id": "d888631a",
   "metadata": {},
   "outputs": [
    {
     "name": "stdout",
     "output_type": "stream",
     "text": [
      "Block fs.state_block[0]\n",
      "\n",
      "  Variables:\n",
      "    flow_mass_phase_comp : Mass flow rate\n",
      "        Size=2, Index=fs.properties.phase_list*fs.properties.component_list, Units=kg/s\n",
      "        Key            : Lower : Value : Upper : Fixed : Stale : Domain\n",
      "        ('Liq', 'H2O') :   0.0 : 0.965 :  None : False : False : NonNegativeReals\n",
      "        ('Liq', 'TDS') :   0.0 : 0.035 :  None : False : False : NonNegativeReals\n",
      "    temperature : Temperature\n",
      "        Size=1, Index=None, Units=K\n",
      "        Key  : Lower  : Value  : Upper : Fixed : Stale : Domain\n",
      "        None : 273.15 : 298.15 :  1000 : False : False : NonNegativeReals\n",
      "    pressure : Pressure\n",
      "        Size=1, Index=None, Units=Pa\n",
      "        Key  : Lower  : Value  : Upper      : Fixed : Stale : Domain\n",
      "        None : 1000.0 : 101325 : 50000000.0 : False : False : NonNegativeReals\n",
      "    conc_mass_phase_comp : Mass concentration\n",
      "        Size=2, Index=fs.properties.phase_list*fs.properties.component_list, Units=kg/m**3\n",
      "        Key            : Lower : Value : Upper     : Fixed : Stale : Domain\n",
      "        ('Liq', 'H2O') :   0.0 :    10 : 1000000.0 : False : False :  Reals\n",
      "        ('Liq', 'TDS') :   0.0 :    10 : 1000000.0 : False : False :  Reals\n",
      "    dens_mass_phase : Mass density of seawater\n",
      "        Size=1, Index=fs.properties.phase_list, Units=kg/m**3\n",
      "        Key : Lower : Value  : Upper     : Fixed : Stale : Domain\n",
      "        Liq :     1 : 1000.0 : 1000000.0 : False : False :  Reals\n",
      "    mass_frac_phase_comp : Mass fraction\n",
      "        Size=2, Index=fs.properties.phase_list*fs.properties.component_list, Units=dimensionless\n",
      "        Key            : Lower : Value : Upper : Fixed : Stale : Domain\n",
      "        ('Liq', 'H2O') :   0.0 :   0.1 :  None : False : False :  Reals\n",
      "        ('Liq', 'TDS') :   0.0 :   0.1 :  None : False : False :  Reals\n",
      "    dens_mass_solvent : Mass density of pure water\n",
      "        Size=1, Index=None, Units=kg/m**3\n",
      "        Key  : Lower : Value  : Upper     : Fixed : Stale : Domain\n",
      "        None :     1 : 1000.0 : 1000000.0 : False : False :  Reals\n",
      "\n",
      "  Objectives:\n",
      "    None\n",
      "\n",
      "  Constraints:\n",
      "    eq_conc_mass_phase_comp : Size=2\n",
      "        Key            : Lower : Body  : Upper\n",
      "        ('Liq', 'H2O') :   0.0 : -90.0 :   0.0\n",
      "        ('Liq', 'TDS') :   0.0 : -90.0 :   0.0\n",
      "    eq_dens_mass_phase : Size=1\n",
      "        Key : Lower : Body               : Upper\n",
      "        Liq :   0.0 : -76.19771168750003 :   0.0\n",
      "    eq_mass_frac_phase_comp : Size=2\n",
      "        Key            : Lower : Body   : Upper\n",
      "        ('Liq', 'H2O') :   0.0 : -0.865 :   0.0\n",
      "        ('Liq', 'TDS') :   0.0 :  0.065 :   0.0\n",
      "    eq_dens_mass_solvent : Size=1\n",
      "        Key  : Lower : Body               : Upper\n",
      "        None :   0.0 : 3.1076601562500628 :   0.0\n"
     ]
    }
   ],
   "source": [
    "# touch conc_mass_phase_comp to create it\n",
    "m.fs.state_block[0].conc_mass_phase_comp\n",
    "m.fs.state_block[0].display()"
   ]
  },
  {
   "cell_type": "markdown",
   "id": "facb12cf",
   "metadata": {},
   "source": [
    "Notice that our state block now includes not only `conc_mass_phase_comp`, but also `dens_mass_phase`, `mass_frac_phase_comp`, and `dens_mass_solvent`. Why?\n",
    "\n",
    "When we created `conc_mass_phase_comp`, we also created the constraints that define `conc_mass_phase_comp`, which is:\n",
    "\n",
    "`conc_mass_phase_comp = mass_frac_phase_comp * dens_mass_phase`\n",
    "\n",
    "This likewise created the constraints that define `mass_frac_phase_comp`, and `dens_mass_phase`. \n",
    "\n",
    "`mass_frac_phase_comp` is a function of `flow_mass_phase_comp` (our state variable), so that didn't create any additional variables.\n",
    "\n",
    "But because `dens_mass_phase` is a function of `dens_mass_solvent`, we also see `dens_mass_solvent` on our state block.\n",
    "    "
   ]
  },
  {
   "cell_type": "markdown",
   "id": "5c80e60f",
   "metadata": {},
   "source": [
    "### Setting the state variables\n",
    "\n",
    "For all the properties we have created to be constrained, we only need to fix the values for the state variables."
   ]
  },
  {
   "cell_type": "code",
   "execution_count": 23,
   "id": "3abeb8b5",
   "metadata": {},
   "outputs": [
    {
     "name": "stdout",
     "output_type": "stream",
     "text": [
      "dof = 0\n",
      "Block fs.state_block[0]\n",
      "\n",
      "  Variables:\n",
      "    flow_mass_phase_comp : Mass flow rate\n",
      "        Size=2, Index=fs.properties.phase_list*fs.properties.component_list, Units=kg/s\n",
      "        Key            : Lower : Value : Upper : Fixed : Stale : Domain\n",
      "        ('Liq', 'H2O') :   0.0 : 0.965 :  None :  True : False : NonNegativeReals\n",
      "        ('Liq', 'TDS') :   0.0 : 0.035 :  None :  True : False : NonNegativeReals\n",
      "    temperature : Temperature\n",
      "        Size=1, Index=None, Units=K\n",
      "        Key  : Lower  : Value : Upper : Fixed : Stale : Domain\n",
      "        None : 273.15 :   298 :  1000 :  True : False : NonNegativeReals\n",
      "    pressure : Pressure\n",
      "        Size=1, Index=None, Units=Pa\n",
      "        Key  : Lower  : Value  : Upper      : Fixed : Stale : Domain\n",
      "        None : 1000.0 : 101325 : 50000000.0 :  True : False : NonNegativeReals\n",
      "    conc_mass_phase_comp : Mass concentration\n",
      "        Size=2, Index=fs.properties.phase_list*fs.properties.component_list, Units=kg/m**3\n",
      "        Key            : Lower : Value : Upper     : Fixed : Stale : Domain\n",
      "        ('Liq', 'H2O') :   0.0 :    10 : 1000000.0 : False : False :  Reals\n",
      "        ('Liq', 'TDS') :   0.0 :    10 : 1000000.0 : False : False :  Reals\n",
      "    dens_mass_phase : Mass density of seawater\n",
      "        Size=1, Index=fs.properties.phase_list, Units=kg/m**3\n",
      "        Key : Lower : Value  : Upper     : Fixed : Stale : Domain\n",
      "        Liq :     1 : 1000.0 : 1000000.0 : False : False :  Reals\n",
      "    mass_frac_phase_comp : Mass fraction\n",
      "        Size=2, Index=fs.properties.phase_list*fs.properties.component_list, Units=dimensionless\n",
      "        Key            : Lower : Value : Upper : Fixed : Stale : Domain\n",
      "        ('Liq', 'H2O') :   0.0 :   0.1 :  None : False : False :  Reals\n",
      "        ('Liq', 'TDS') :   0.0 :   0.1 :  None : False : False :  Reals\n",
      "    dens_mass_solvent : Mass density of pure water\n",
      "        Size=1, Index=None, Units=kg/m**3\n",
      "        Key  : Lower : Value  : Upper     : Fixed : Stale : Domain\n",
      "        None :     1 : 1000.0 : 1000000.0 : False : False :  Reals\n",
      "\n",
      "  Objectives:\n",
      "    None\n",
      "\n",
      "  Constraints:\n",
      "    eq_conc_mass_phase_comp : Size=2\n",
      "        Key            : Lower : Body  : Upper\n",
      "        ('Liq', 'H2O') :   0.0 : -90.0 :   0.0\n",
      "        ('Liq', 'TDS') :   0.0 : -90.0 :   0.0\n",
      "    eq_dens_mass_phase : Size=1\n",
      "        Key : Lower : Body               : Upper\n",
      "        Liq :   0.0 : -76.21604359769822 :   0.0\n",
      "    eq_mass_frac_phase_comp : Size=2\n",
      "        Key            : Lower : Body   : Upper\n",
      "        ('Liq', 'H2O') :   0.0 : -0.865 :   0.0\n",
      "        ('Liq', 'TDS') :   0.0 :  0.065 :   0.0\n",
      "    eq_dens_mass_solvent : Size=1\n",
      "        Key  : Lower : Body              : Upper\n",
      "        None :   0.0 : 3.070523105583675 :   0.0\n"
     ]
    }
   ],
   "source": [
    "# fix state variables\n",
    "m.fs.state_block[0].temperature.fix(273 + 25)  # temperature (K)\n",
    "m.fs.state_block[0].pressure.fix(101325)  # pressure (Pa)\n",
    "m.fs.state_block[0].flow_mass_phase_comp[\"Liq\", \"H2O\"].fix(\n",
    "    0.965\n",
    ")  # mass flowrate of H2O (kg/s)\n",
    "m.fs.state_block[0].flow_mass_phase_comp[\"Liq\", \"TDS\"].fix(\n",
    "    0.035\n",
    ")  # mass flowrate of TDS (kg/s)\n",
    "\n",
    "print(f\"dof = {degrees_of_freedom(m)}\")\n",
    "\n",
    "# display state block\n",
    "m.fs.state_block[0].display()"
   ]
  },
  {
   "cell_type": "markdown",
   "id": "736622e5",
   "metadata": {},
   "source": [
    "### Initialize and solve to determine concentration\n",
    "\n",
    "With the state variables fixed, we can initialize and solve the model. This will determine the values for all the variables on our state block."
   ]
  },
  {
   "cell_type": "code",
   "execution_count": 28,
   "id": "61ca2f49",
   "metadata": {},
   "outputs": [
    {
     "name": "stdout",
     "output_type": "stream",
     "text": [
      "2025-10-24 16:11:54 [INFO] idaes.init.fs.state_block: fs.state_block State Released.\n"
     ]
    }
   ],
   "source": [
    "m.fs.state_block.initialize()\n",
    "\n",
    "solver = get_solver()\n",
    "results = solver.solve(m)"
   ]
  },
  {
   "cell_type": "markdown",
   "id": "a5b93d3c",
   "metadata": {},
   "source": []
  }
 ],
 "metadata": {
  "kernelspec": {
   "display_name": "watertap-academy",
   "language": "python",
   "name": "python3"
  },
  "language_info": {
   "codemirror_mode": {
    "name": "ipython",
    "version": 3
   },
   "file_extension": ".py",
   "mimetype": "text/x-python",
   "name": "python",
   "nbconvert_exporter": "python",
   "pygments_lexer": "ipython3",
   "version": "3.11.14"
  }
 },
 "nbformat": 4,
 "nbformat_minor": 5
}
