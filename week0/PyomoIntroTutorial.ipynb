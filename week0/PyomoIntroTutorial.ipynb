{
 "cells": [
  {
   "cell_type": "markdown",
   "id": "949ae5d5-d0b1-4269-87e6-29b8f3df0071",
   "metadata": {},
   "source": [
    "# Introduction\n",
    "\n",
    "WaterTAP is built on IDAES [LINK] and Pyomo [LINK]. This tutorial intends to introduce some important concepts from these two packages that are used extensively in WaterTAP.\n",
    "\n",
    "Pyomo is software package for formulating, solving, and analyzing optimization models.\n",
    "\n",
    "The fundamental Pyomo components are:\n",
    "- `Var`: unknown values in the model, i.e., values we are trying to optimize in our model.\n",
    "    - e.g., concentration of a solute under given equilibrium conditions, operating pressure for a reverse osmosis process\n",
    "- `Param`: data that must be provided in order to find optimal values for the decision variables. \n",
    "    - e.g., the molecular weights of solutes, the cost of an RO membrane\n",
    "- `Constraint`: equations relating the `Var`s and `Param`s to one another.\n",
    "- `Objective`: equiation that we are trying to minimize (or maximize) in our model\n",
    "\n",
    "When declaring `Var` components, there are some important arguments to consider. Note that these are *optional* arguments, but proper assignment will make for a better formulated model:\n",
    "- `initialize`: a value or function used to initialize the variable in the model. Depending on how complicated the model is and the formulation of the model, initialization values can impact whether or not the model solves. At the very least, you should provide this keyword with an educated guess of the optimized value.\n",
    "- `bounds`: the numerical bounds on the `Var`.\n",
    "- `domain`: a super-set of the `bounds` on the `Var` but can be provided without `bounds`\n",
    "- `units`: the units for the `Var`\n",
    "- `doc`: string description of `Var`\n",
    "\n",
    "Many of these are available on `Param`s as well.\n",
    "\n",
    "\n",
    "\n",
    "\n"
   ]
  },
  {
   "cell_type": "markdown",
   "id": "8b341ed5-62f3-4484-a7e9-82ad3c7bde87",
   "metadata": {},
   "source": [
    "# Make Necessary Imports\n",
    "\n",
    "I have imported only those necessary for this workshop."
   ]
  },
  {
   "cell_type": "code",
   "execution_count": null,
   "id": "1a70befd-fbd4-4f50-912e-b3e5dc0f4062",
   "metadata": {},
   "outputs": [],
   "source": [
    "import numpy as np\n",
    "import pandas as pd\n",
    "import matplotlib.pyplot as plt\n",
    "\n",
    "from pyomo.environ import (\n",
    "    ConcreteModel,\n",
    "    Objective,\n",
    "    Var,\n",
    "    Set,\n",
    "    Param,\n",
    "    Constraint,\n",
    "    check_optimal_termination,\n",
    "    assert_optimal_termination,\n",
    "    value,\n",
    "    NonNegativeReals,\n",
    "    SolverFactory,\n",
    "    exp,\n",
    "    log,\n",
    "    units as pyunits,\n",
    ")\n",
    "from pyomo.util.check_units import assert_units_consistent\n",
    "from idaes.core.util.model_statistics import degrees_of_freedom\n",
    "\n",
    "from watertap.core.solvers import get_solver"
   ]
  },
  {
   "cell_type": "markdown",
   "id": "26b4130f-0cdf-4128-b272-f5ae2278d67c",
   "metadata": {},
   "source": [
    "# Building Pyomo Model\n",
    "\n",
    "This is where you create variables, constraints, etc. prior to solving your model.\n",
    "\n",
    "The `ConcreteModel` is the base object for a Pyomo model. All other variables, parameters, constraints, etc. are built upon this object.\n",
    "    \n",
    "No arguments are necessary. Convention is to call the local object `m` or `model`, but it can be called whatever you want.\n"
   ]
  },
  {
   "cell_type": "code",
   "execution_count": null,
   "id": "69bb190a-aa70-4bac-9aa7-feb03c467eaa",
   "metadata": {},
   "outputs": [],
   "source": [
    "# Instantiate model as instance of a ConcreteModel object\n",
    "m = ConcreteModel()"
   ]
  },
  {
   "cell_type": "markdown",
   "id": "1876611b-e796-4829-8cc3-41ed1ed3dbdc",
   "metadata": {},
   "source": [
    "## We call the `.display()` method to see variables, objectives, and constraints on the model"
   ]
  },
  {
   "cell_type": "code",
   "execution_count": null,
   "id": "6d7e2029-42f6-4127-8746-a867c2ba80eb",
   "metadata": {},
   "outputs": [],
   "source": [
    "m.display()"
   ]
  },
  {
   "cell_type": "markdown",
   "id": "d708b6fc-d0c7-446b-84d1-95bf889fdd6b",
   "metadata": {},
   "source": [
    "## There are no variables or constraints in our model because we haven't added any.\n",
    "\n",
    "### Let's add three variables - `A`, `B`, and `C`"
   ]
  },
  {
   "cell_type": "code",
   "execution_count": null,
   "id": "0bd58a31-a024-4ef1-a574-8ff931853082",
   "metadata": {},
   "outputs": [],
   "source": [
    "m.A = Var(\n",
    "    initialize=10,\n",
    "    domain=NonNegativeReals,\n",
    "    bounds=(0, None),\n",
    "    units=pyunits.m,\n",
    "    doc=\"Model variable A for one leg of a right triangle\",\n",
    ")\n",
    "m.B = Var(\n",
    "    initialize=10,\n",
    "    domain=NonNegativeReals,\n",
    "    bounds=(0, None),\n",
    "    units=pyunits.m,\n",
    "    doc=\"Model variable B for the other leg of a right triangle\",\n",
    ")\n",
    "m.C = Var(\n",
    "    initialize=10,\n",
    "    domain=NonNegativeReals,\n",
    "    bounds=(0, None),\n",
    "    units=pyunits.m,\n",
    "    doc=\"Model variable C for the hypotenuse of a right triangle\",\n",
    ")\n",
    "\n",
    "m.display()"
   ]
  },
  {
   "cell_type": "markdown",
   "id": "4488a414-3b60-44f6-9df0-dab3b5a2eac9",
   "metadata": {},
   "source": [
    "## Now we add constraints relating our three variables:\n",
    "\n",
    "### $A^2 + B^2 = C^2$"
   ]
  },
  {
   "cell_type": "code",
   "execution_count": null,
   "id": "e9df1ded-b79b-4796-ba3d-c9fc15059d0a",
   "metadata": {},
   "outputs": [],
   "source": [
    "m.pythagorean = Constraint(expr=m.A**2 + m.B**2 == m.C**2, doc=\"Pythagorean theorem\")"
   ]
  },
  {
   "cell_type": "markdown",
   "id": "6a0d9fef-6e66-47e6-9265-6f6b3c34d31a",
   "metadata": {},
   "source": [
    "# Degrees of freedom (DOF)\n",
    "Ok, we have variables and an equation relating them.\n",
    "\n",
    "We can view the degrees of freedom for the model using the `degrees_of_freedom()` function"
   ]
  },
  {
   "cell_type": "code",
   "execution_count": null,
   "id": "d5f9bb29-a062-4142-9f6a-ce4d24348a95",
   "metadata": {},
   "outputs": [],
   "source": [
    "dof = degrees_of_freedom(m)\n",
    "print(f\"Degrees of Freedom: {dof}\")"
   ]
  },
  {
   "cell_type": "markdown",
   "id": "1759e2b4-af88-48c3-b260-4bb69edcdd4c",
   "metadata": {},
   "source": [
    "## With >0 DOF, we can still solve...\n",
    "\n",
    "However, with >0 DOF, the resulting values will be close to our initialization values of 10. \n",
    "\n",
    "Let's add more `Constraint` to our model and a `Param` - an arbitrary relation between A and B:\n",
    "\n",
    "## $ A = 3 B $\n"
   ]
  },
  {
   "cell_type": "code",
   "execution_count": null,
   "id": "a512406b-03c5-422b-ad03-af1d81e4121a",
   "metadata": {},
   "outputs": [],
   "source": [
    "m.P = Param(\n",
    "    initialize=3,\n",
    "    mutable=True,\n",
    "    units=pyunits.dimensionless,\n",
    "    doc=\"Ratio between two legs of traiangle\",\n",
    ")\n",
    "\n",
    "\n",
    "# m.A_B_relation = Constraint(expr=m.A == m.B * m.P, doc=\"Equation relating A and B\")\n",
    "@m.Constraint(doc=\"Equation relating A and B\")\n",
    "def A_B_relation(m):\n",
    "    return m.A == m.B * m.P"
   ]
  },
  {
   "cell_type": "markdown",
   "id": "9e22f23e-e2fb-43ef-8dff-7c8cbb0f7cbe",
   "metadata": {},
   "source": [
    "## Now we create our solver object with the WaterTAP solver \n",
    "\n",
    "### Alternatively, you can use the version of IPOPT from `SolverFactory()`"
   ]
  },
  {
   "cell_type": "code",
   "execution_count": null,
   "id": "a13d5e64-8015-4c65-92f5-5c71544b9e32",
   "metadata": {},
   "outputs": [],
   "source": [
    "# solver = SolverFactory(\"ipopt\")\n",
    "solver = get_solver()\n",
    "\n",
    "# And recheck our DOF\n",
    "dof = degrees_of_freedom(m)\n",
    "print(f\"Degrees of Freedom: {dof}\")\n",
    "\n",
    "results = solver.solve(m)\n",
    "print(results)"
   ]
  },
  {
   "cell_type": "markdown",
   "id": "e958f1a5-5f5b-4baf-9a3a-92d8fd25f8cc",
   "metadata": {},
   "source": [
    "## There is still 1 DOF, so we fix one of our variables using the `.fix()` method."
   ]
  },
  {
   "cell_type": "code",
   "execution_count": null,
   "id": "50dde162-4ab7-43b8-aa01-54cd52ee2001",
   "metadata": {},
   "outputs": [],
   "source": [
    "m.A.fix(5)\n",
    "\n",
    "dof = degrees_of_freedom(m)\n",
    "print(f\"Degrees of Freedom: {dof}\")"
   ]
  },
  {
   "cell_type": "markdown",
   "id": "65b52afc-f98c-424f-8177-7c385fa423f7",
   "metadata": {},
   "source": [
    "## We can just as easily `.unfix()` the variable."
   ]
  },
  {
   "cell_type": "code",
   "execution_count": null,
   "id": "f970da49-d494-4aba-b933-f638d0dd177a",
   "metadata": {},
   "outputs": [],
   "source": [
    "m.A.unfix()\n",
    "\n",
    "dof = degrees_of_freedom(m)\n",
    "print(f\"Degrees of Freedom: {dof}\")"
   ]
  },
  {
   "cell_type": "markdown",
   "id": "43eb03aa-534e-4fab-b393-8c39eb5979ab",
   "metadata": {},
   "source": [
    "## We will re-fix and then solve with 0 DOF."
   ]
  },
  {
   "cell_type": "code",
   "execution_count": null,
   "id": "f0a1b875-6bf2-4b6a-87a5-1633128bd224",
   "metadata": {},
   "outputs": [],
   "source": [
    "m.A.fix(5)\n",
    "\n",
    "dof = degrees_of_freedom(m)\n",
    "print(f\"Degrees of Freedom: {dof}\")\n",
    "\n",
    "results = solver.solve(m)\n",
    "\n",
    "m.display()"
   ]
  },
  {
   "cell_type": "markdown",
   "id": "69d69d25",
   "metadata": {},
   "source": [
    "## Note that for `Param` components, we can also change the value using the `set_value()` method\n",
    "\n",
    "The `.fix()` method will yield an error."
   ]
  },
  {
   "cell_type": "code",
   "execution_count": null,
   "id": "8d2a683e",
   "metadata": {},
   "outputs": [],
   "source": [
    "m.P.set_value(23)\n",
    "dof = degrees_of_freedom(m)\n",
    "print(f\"Degrees of Freedom: {dof}\")\n",
    "\n",
    "results = solver.solve(m)\n",
    "\n",
    "m.display()"
   ]
  },
  {
   "cell_type": "markdown",
   "id": "0a872556-f620-4c60-b214-9fd28a4b2207",
   "metadata": {},
   "source": [
    "## We want to check the termination condition of the solver\n",
    "The local variable `results` is where the solver status is stored.\n",
    "\n",
    "We can also test optimal solve with `check_optimal_termination(results)` or `assert_optimal_termination(results)`\n",
    "\n",
    "You can also just `print(results)`."
   ]
  },
  {
   "cell_type": "code",
   "execution_count": null,
   "id": "a691586d-f0af-4f13-9dcb-1763e71ff0e5",
   "metadata": {},
   "outputs": [],
   "source": [
    "print(f\"Termination Condition {results.solver.termination_condition}\\n\")\n",
    "\n",
    "print(check_optimal_termination(results))\n",
    "assert_optimal_termination(results)\n",
    "\n",
    "print(results)"
   ]
  },
  {
   "cell_type": "markdown",
   "id": "9f8572ef-e958-4d05-af69-ce8cd4fccf89",
   "metadata": {},
   "source": [
    "## Now let's see an error\n",
    "\n",
    "Fixing `B` to -45 is outside the `domain` of the variable - this will produce an error.\n",
    "\n",
    "Similarly, this will result in an overspecified problem (-1 degrees of freedom), which will also cause an error."
   ]
  },
  {
   "cell_type": "code",
   "execution_count": null,
   "id": "c56a9819-4188-432d-b3de-f29ec38b52d7",
   "metadata": {},
   "outputs": [],
   "source": [
    "m.B.fix(-45)\n",
    "\n",
    "dof = degrees_of_freedom(m)\n",
    "print(f\"Degrees of Freedom: {dof}\")\n",
    "\n",
    "# results = solver.solve(m)"
   ]
  },
  {
   "cell_type": "markdown",
   "id": "7d6e4602",
   "metadata": {},
   "source": [
    "## We can remedy this error\n",
    "\n",
    "### First, we can re-define the lower bound on `B` "
   ]
  },
  {
   "cell_type": "code",
   "execution_count": null,
   "id": "0169f3b3",
   "metadata": {},
   "outputs": [],
   "source": [
    "m.B.setlb(-50)\n",
    "m.B.display()\n",
    "print(f\"Degrees of Freedom: {degrees_of_freedom(m)}\")"
   ]
  },
  {
   "cell_type": "markdown",
   "id": "aaa18bd1",
   "metadata": {},
   "source": [
    "### However, Pyomo will ignore this adjustment because the `domain` is `NonNegativeReals`"
   ]
  },
  {
   "cell_type": "code",
   "execution_count": null,
   "id": "57a91d24",
   "metadata": {},
   "outputs": [],
   "source": [
    "from pyomo.environ import Reals\n",
    "\n",
    "m.B.domain = Reals\n",
    "m.B.setlb(-50)\n",
    "m.B.display()"
   ]
  },
  {
   "cell_type": "markdown",
   "id": "4e73463b",
   "metadata": {},
   "source": [
    "\n",
    "### We can also deactivate a constraint to return to 0 DOF"
   ]
  },
  {
   "cell_type": "code",
   "execution_count": null,
   "id": "396e4576",
   "metadata": {},
   "outputs": [],
   "source": [
    "m.A_B_relation.deactivate()\n",
    "\n",
    "print(f\"Degrees of Freedom: {degrees_of_freedom(m)}\")\n",
    "\n",
    "results = solver.solve(m)\n",
    "assert_optimal_termination(results)\n",
    "m.display()"
   ]
  },
  {
   "cell_type": "markdown",
   "id": "d11d368c-b279-4db0-83cd-bfce6b37bc9c",
   "metadata": {},
   "source": [
    "### Return to the original formulation of the model"
   ]
  },
  {
   "cell_type": "code",
   "execution_count": null,
   "id": "98ea630d-21cd-4cbe-b9a9-5d400312f839",
   "metadata": {},
   "outputs": [],
   "source": [
    "# Unfix B, set P back to 3, and reactivate the constraint\n",
    "m.B.unfix()\n",
    "m.P.set_value(3)\n",
    "m.A_B_relation.activate()\n",
    "\n",
    "results = solver.solve(m)\n",
    "print(f\"Model solve = {results.solver.termination_condition}\\n\")\n",
    "m.display()"
   ]
  },
  {
   "cell_type": "markdown",
   "id": "5042aa5f-5885-403f-97ba-be614157a8ae",
   "metadata": {},
   "source": [
    "## You can access the value of a Var or Param by using the `value()` function or \"calling\" it - e.g., `m.A()`"
   ]
  },
  {
   "cell_type": "code",
   "execution_count": null,
   "id": "35f43ad6-4547-450c-a5e5-31319e38bd8d",
   "metadata": {},
   "outputs": [],
   "source": [
    "# e.g., value(m.A)\n",
    "print(f\"A = {value(m.A)}\", f\"\\nB = {value(m.B)}\", f\"\\nC = {value(m.C)}\")\n",
    "# e.g., m.A()\n",
    "print(f\"\\nA = {m.A()}\", f\"\\nB = {m.B()}\", f\"\\nC = {m.C()}\")"
   ]
  },
  {
   "cell_type": "markdown",
   "id": "4ce2d7a8",
   "metadata": {},
   "source": [
    "## Put it all in a `build` function"
   ]
  },
  {
   "cell_type": "code",
   "execution_count": null,
   "id": "5fb31ea0-f28b-4bc0-b5f3-67896d50bd76",
   "metadata": {},
   "outputs": [],
   "source": [
    "# Putting it all together\n",
    "\n",
    "\n",
    "def build_pythagorean():\n",
    "    m = ConcreteModel()\n",
    "    m.A = Var(\n",
    "        initialize=10,\n",
    "        domain=NonNegativeReals,\n",
    "        bounds=(0, None),\n",
    "        units=pyunits.m,\n",
    "        doc=\"Model variable A for one leg of a right triangle\",\n",
    "    )\n",
    "    m.B = Var(\n",
    "        initialize=10,\n",
    "        domain=NonNegativeReals,\n",
    "        bounds=(0, None),\n",
    "        units=pyunits.m,\n",
    "        doc=\"Model variable B for the other leg of a right triangle\",\n",
    "    )\n",
    "    m.C = Var(\n",
    "        initialize=10,\n",
    "        domain=NonNegativeReals,\n",
    "        bounds=(0, None),\n",
    "        units=pyunits.m,\n",
    "        doc=\"Model variable C for the hypotenuse of a right triangle\",\n",
    "    )\n",
    "    m.P = Param(\n",
    "        initialize=3,\n",
    "        mutable=True,\n",
    "        units=pyunits.dimensionless,\n",
    "        doc=\"Ratio between A and B\",\n",
    "    )\n",
    "\n",
    "    m.A_B_relation = Constraint(expr=m.A == m.B * m.P)\n",
    "\n",
    "    m.pythagorean = Constraint(\n",
    "        expr=m.A**2 + m.B**2 == m.C**2, doc=\"Pythagorean theorem\"\n",
    "    )\n",
    "\n",
    "    return m\n",
    "\n",
    "\n",
    "m = build_pythagorean()\n",
    "m.A.fix(5)\n",
    "\n",
    "results = solver.solve(m)\n",
    "\n",
    "dof = degrees_of_freedom(m)\n",
    "print(f\"Degrees of Freedom: {dof}\")\n",
    "\n",
    "m.display()\n",
    "\n",
    "print(f\"\\nA = {m.A()}\")\n",
    "print(f\"B = {m.B()}\")\n",
    "print(f\"C = {m.C()}\")"
   ]
  },
  {
   "cell_type": "markdown",
   "id": "6d86a64d-7be8-4d06-b673-5ae0f7196e4e",
   "metadata": {},
   "source": [
    "## Using `if` statements (example of what you can't do)\n",
    "\n",
    "When you are building your model (prior to solving it), your `Var`s don't have optimized values. They have initialized values. So constructing a `Constraint` with an initialized value doesn't make any sense. Fortunately, Pyomo prevents you from doing this."
   ]
  },
  {
   "cell_type": "code",
   "execution_count": null,
   "id": "79774ab2-11dd-478e-93d8-5ff4bfcd7718",
   "metadata": {},
   "outputs": [],
   "source": [
    "m = build_pythagorean()\n",
    "m.A.fix(5)\n",
    "\n",
    "# if m.B() > 3:\n",
    "if m.B > 3:\n",
    "    m.A_B_relation = Constraint(expr=m.A == m.B * m.P - 2)\n",
    "else:\n",
    "    m.A_B_relation = Constraint(expr=m.A == m.B * m.P)"
   ]
  },
  {
   "cell_type": "markdown",
   "id": "50c9623c-c59f-43b8-a5dc-e13f8bb6e960",
   "metadata": {},
   "source": [
    "# Indexing variables, constraints, and parameters\n",
    "\n",
    "In the context of water treatment, you might want to do this if you are tracking multiple constituents through the treatment process and have to perform, for example, the same equilibrium calculation (but with different data) for each of them.\n",
    "\n",
    "Any model `Component` in Pyomo can be indexed with any number of indexes. For example, if your model is dynamic (non-steady state) and you are tracking multiple constituents, you could index your `Var`s and `Constraint`s to both time and your constituents.\n",
    "\n",
    "When constructing your model components, the first non-keyword argument(s) are your indexes. So, if I am creating an initial concentration `Var` indexed to `ions`, it would be:\n"
   ]
  },
  {
   "cell_type": "code",
   "execution_count": null,
   "id": "e181d9f4",
   "metadata": {},
   "outputs": [],
   "source": [
    "m = ConcreteModel()\n",
    "# Create index\n",
    "ions = [\"Na\", \"Mg\", \"Ca\", \"Sr\"]\n",
    "\n",
    "m.C_0 = Var(\n",
    "    ions,\n",
    "    initialize=2,\n",
    "    bounds=(0, None),\n",
    "    units=pyunits.mg / pyunits.L,\n",
    "    doc=\"Initial ion concentration\",\n",
    ")"
   ]
  },
  {
   "cell_type": "markdown",
   "id": "e17dc307",
   "metadata": {},
   "source": [
    "\n",
    "To initialize an indexed `Var`, you can pass a single value or any Python iterable (e.g. dictionary) that maps the indexes to their initial value. In the example above, I passed 2 to the initialize keyword, so the initial concentration for all my ions will be 2. If I want different initial values for each index, I could do something like:\n"
   ]
  },
  {
   "cell_type": "code",
   "execution_count": null,
   "id": "fb54e37f",
   "metadata": {},
   "outputs": [],
   "source": [
    "# Create index and initialization values.\n",
    "ions = [\"Na\", \"Mg\", \"Ca\", \"Sr\"]\n",
    "ions_init = {\"Na\": 1, \"Mg\": 2, \"Ca\": 3, \"Sr\": 4}\n",
    "\n",
    "m.C_0 = Var(\n",
    "    ions,\n",
    "    initialize=ions_init,\n",
    "    bounds=(0, None),\n",
    "    units=pyunits.mg / pyunits.L,\n",
    "    doc=\"Initial ion concentration\",\n",
    ")"
   ]
  },
  {
   "cell_type": "markdown",
   "id": "612f3dc9",
   "metadata": {},
   "source": [
    "\n",
    "\n",
    "Like `Var` objects, a `Constraint` can also be indexed by passing the index as the first argument(s). For non-indexed `Constraint`, we used the `expr=` keyword to define our relationship. With an indexed `Constraint`, we must use the `rule=` keyword and define a function to construct our `Constraint` relationship.\n",
    "\n",
    "Let's say we can get the steady-state concentration of our ions by multiplying it by some constant parameter `K_eq` that is different for each ion. We would create a steady-state concentration `Var` (`C_ss`) and define our equilibrium calculation `Constraint` that is indexed to each ion:\n",
    "\n"
   ]
  },
  {
   "cell_type": "code",
   "execution_count": null,
   "id": "75db04de",
   "metadata": {},
   "outputs": [],
   "source": [
    "K_eq_init = {\"Na\": 1e-5, \"Mg\": 5.5e-6, \"Ca\": 3.2e-4, \"Sr\": 4e-4}\n",
    "\n",
    "m.K_eq = Var(ions, initialize=K_eq_init, doc=\"Equilibrium constant\")\n",
    "\n",
    "m.C_ss = Var(\n",
    "    ions,\n",
    "    initialize=ions_init,\n",
    "    bounds=(0, None),\n",
    "    units=pyunits.mg / pyunits.L,\n",
    "    doc=\"Steady-state ion concentration\",\n",
    ")\n",
    "\n",
    "\n",
    "# The first argument must be the model (m), and the second must be the index\n",
    "def eq_steady_state_conc(m, i):\n",
    "    return m.C_ss[i] == m.C_0[i] * exp(-m.K_eq[i])\n",
    "\n",
    "\n",
    "m.steady_state_conc_constr = Constraint(ions, rule=eq_steady_state_conc)"
   ]
  },
  {
   "cell_type": "markdown",
   "id": "59ac9188",
   "metadata": {},
   "source": [
    "\n",
    "\n",
    "All of my model components are indexed to `ions`, so each ion has a separate equilibrium calculation in this model.\n",
    "\n",
    "A simple example is presented below. In this case, we have two triangles we want to model: `foo` and `bar`. For the model to solve with 0 DOF, we must specify relationships for all components across all indices.\n"
   ]
  },
  {
   "cell_type": "code",
   "execution_count": null,
   "id": "f0139993",
   "metadata": {},
   "outputs": [],
   "source": [
    "def build_idx_pythagorean():\n",
    "    m = ConcreteModel()\n",
    "    P_data = {\"cats\": 3, \"dogs\": 8}\n",
    "\n",
    "    m.idx = Set(initialize=[\"cats\", \"dogs\"], doc=\"Index set for multiple triangles\")\n",
    "\n",
    "    m.A = Var(\n",
    "        m.idx,\n",
    "        initialize=10,\n",
    "        domain=NonNegativeReals,\n",
    "        bounds=(0, None),\n",
    "        doc=\"Model variable A for one leg of a right triangle\",\n",
    "    )\n",
    "    m.B = Var(\n",
    "        m.idx,\n",
    "        initialize=10,\n",
    "        domain=NonNegativeReals,\n",
    "        bounds=(0, None),\n",
    "        doc=\"Model variable B for the other leg of a right triangle\",\n",
    "    )\n",
    "    m.C = Var(\n",
    "        m.idx,\n",
    "        initialize=10,\n",
    "        domain=NonNegativeReals,\n",
    "        bounds=(0, None),\n",
    "        doc=\"Model variable C for the hypotenuse of a right triangle\",\n",
    "    )\n",
    "    m.P = Param(\n",
    "        m.idx,\n",
    "        initialize=P_data,\n",
    "        mutable=True,\n",
    "        units=pyunits.dimensionless,\n",
    "        doc=\"Ratio between A and B\",\n",
    "    )\n",
    "\n",
    "    def eq_A_B_relation(m, i):\n",
    "        return m.A[i] == m.B[i] * m.P[i]\n",
    "\n",
    "\n",
    "    m.A_B_relation = Constraint(m.idx, rule=eq_A_B_relation)\n",
    "\n",
    "\n",
    "    # Rather than having a separate Constraint for each index,\n",
    "    # you can pass a function as the Constraint.\n",
    "    # Here I define the constraint function with the first argument as the model and the second argument as the index.\n",
    "    def eq_pythagorean(m, i):\n",
    "        return m.A[i] ** 2 + m.B[i] ** 2 == m.C[i] ** 2\n",
    "\n",
    "    m.pythagorean = Constraint(m.idx, rule=eq_pythagorean)\n",
    "\n",
    "    return m\n",
    "\n",
    "m = build_idx_pythagorean()\n",
    "\n",
    "m.B[\"cats\"].fix(5)\n",
    "m.B[\"dogs\"].fix(125)\n",
    "\n",
    "dof = degrees_of_freedom(m)\n",
    "print(f\"Degrees of Freedom: {dof}\")\n",
    "\n",
    "results = solver.solve(m)\n",
    "print(f\"Model solve = {results.solver.termination_condition}\\n\")\n",
    "\n",
    "m.display()\n",
    "\n",
    "# You must indicate the index when calling variables now:\n",
    "for i in m.idx:\n",
    "    print(f\"Index = {i}\")\n",
    "    print(f\"\\tA = {m.A[i]()}\")\n",
    "    print(f\"\\tB = {m.B[i]()}\")\n",
    "    print(f\"\\tC = {m.C[i]()}\")\n",
    "\n",
    "# You can also call .display() on model Var:\n",
    "m.A.display()"
   ]
  },
  {
   "cell_type": "code",
   "execution_count": null,
   "id": "b6924118-4989-4b71-978f-8d23e0052047",
   "metadata": {},
   "outputs": [],
   "source": []
  },
  {
   "cell_type": "code",
   "execution_count": null,
   "id": "b4e8b075-9291-43d3-b8b9-110c5509519a",
   "metadata": {},
   "outputs": [],
   "source": []
  },
  {
   "cell_type": "code",
   "execution_count": null,
   "id": "d5e9bbef-5020-4cb8-ab99-1c842fbe269b",
   "metadata": {},
   "outputs": [],
   "source": []
  },
  {
   "cell_type": "code",
   "execution_count": null,
   "id": "93b232bf-a51a-45a6-9e28-2e2431d0218c",
   "metadata": {},
   "outputs": [],
   "source": [
    "m.P.display()"
   ]
  },
  {
   "cell_type": "markdown",
   "id": "14469fb2-731b-46f5-a6e5-5c78b89e648a",
   "metadata": {},
   "source": [
    "## Units (`pyunits`)\n",
    "\n",
    "We have imported `units as pyunits`\n",
    "\n",
    "`pyunits` are extremely useful for making easy unit conversions but also ensuring our models have consistent units.\n",
    "\n",
    "We can define any value with any dimensions:\n",
    "Let's create 100 g/L of some substance"
   ]
  },
  {
   "cell_type": "code",
   "execution_count": null,
   "id": "7b829eee-e12c-4e0e-8d5b-01cb09b78ef5",
   "metadata": {
    "tags": []
   },
   "outputs": [],
   "source": [
    "C = 100 * pyunits.g / pyunits.L\n",
    "\n",
    "print(C)\n",
    "print(value(C))\n",
    "print(C())"
   ]
  },
  {
   "cell_type": "markdown",
   "id": "b8f0cfd2-2aaa-480f-8ef4-847a01999711",
   "metadata": {},
   "source": [
    "## We can convert C to any units we want...\n",
    "\n",
    "...as long as they are of the same kind with `pyunits.convert()`\n",
    "\n",
    "(you can't convert g/L to acres/second)\n",
    "\n",
    "And you can get units from any variable using `pyunits.get_units()`"
   ]
  },
  {
   "cell_type": "code",
   "execution_count": null,
   "id": "61059ef1-6eda-4cff-b185-964c661af99e",
   "metadata": {},
   "outputs": [],
   "source": [
    "C2 = pyunits.convert(C, to_units=pyunits.lb / pyunits.ft**3)\n",
    "C3 = pyunits.convert(C, to_units=pyunits.grain / (pyunits.acre * pyunits.foot))\n",
    "\n",
    "print(C2(), pyunits.get_units(C2))\n",
    "print(C3(), pyunits.get_units(C3))"
   ]
  },
  {
   "cell_type": "markdown",
   "id": "43b6e919",
   "metadata": {},
   "source": [
    "### Units carry through operations"
   ]
  },
  {
   "cell_type": "code",
   "execution_count": null,
   "id": "712a841e-685e-447e-ac5d-1ec335cca693",
   "metadata": {},
   "outputs": [],
   "source": [
    "Q = 42 * pyunits.m**3 / pyunits.hr\n",
    "conc = 100 * pyunits.mg / pyunits.L\n",
    "\n",
    "mass_flow = Q * conc\n",
    "\n",
    "print(mass_flow(), pyunits.get_units(mass_flow))\n",
    "\n",
    "# Or\n",
    "\n",
    "mass_flow = pyunits.convert(Q * conc, to_units=pyunits.g / pyunits.s)\n",
    "\n",
    "print(mass_flow(), pyunits.get_units(mass_flow))"
   ]
  },
  {
   "cell_type": "markdown",
   "id": "c2c8a002-43ef-4d02-9a64-0c655d2a47db",
   "metadata": {},
   "source": [
    "# Example 20-5 MWR\n",
    "Groundwater contains 5 g/m3 Fe and 2 g/m3 Mn\n",
    "\n",
    "Q = 1E5 m3/d\n",
    "\n",
    "KMnO4 is used to oxidize both\n",
    "\n",
    "Determine:\n",
    "- KMnO4 required (total and per ion)\n",
    "- alkalinity consumed (total and per ion)\n",
    "- quantity of sludge produced daily (total and per ion)"
   ]
  },
  {
   "cell_type": "code",
   "execution_count": null,
   "id": "512868d8-3bc3-4c04-8ab6-92ec04a4e969",
   "metadata": {},
   "outputs": [],
   "source": [
    "ions = [\"Fe\", \"Mn\"]\n",
    "conc_init = {\"Fe\": 5, \"Mn\": 2}\n",
    "kmno4_conv_init = {\"Fe\": 0.94, \"Mn\": 1.92}\n",
    "alk_conv_init = {\"Fe\": 1.5, \"Mn\": 1.21}\n",
    "sludge_conv_init = {\"Fe\": 2.43, \"Mn\": 2.64}\n",
    "\n",
    "m = ConcreteModel()\n",
    "\n",
    "m.aq_conc = Param(\n",
    "    ions,\n",
    "    initialize=conc_init,\n",
    "    units=pyunits.g / pyunits.m**3,\n",
    "    doc=\"Aqueous concentration of ions\",\n",
    ")\n",
    "\n",
    "m.kmno4_conversion = Param(\n",
    "    ions,\n",
    "    initialize=kmno4_conv_init,\n",
    "    units=pyunits.g / pyunits.g,\n",
    "    doc=\"KMnO4 required conversion\",\n",
    ")\n",
    "\n",
    "m.alk_conversion = Param(\n",
    "    ions, initialize=alk_conv_init, units=pyunits.g / pyunits.g, doc=\"Alk conversion\"\n",
    ")\n",
    "\n",
    "m.sludge_conversion = Param(\n",
    "    ions,\n",
    "    initialize=sludge_conv_init,\n",
    "    units=pyunits.g / pyunits.g,\n",
    "    doc=\"Sludge produced conversion\",\n",
    ")\n",
    "\n",
    "m.flow_in = Var(\n",
    "    initialize=1000, bounds=(0, 1e6), units=pyunits.m**3 / pyunits.d, doc=\"Daily flow\"\n",
    ")\n",
    "\n",
    "m.kmno4_required = Var(\n",
    "    ions,\n",
    "    bounds=(0, 1e5),\n",
    "    initialize=100,\n",
    "    units=pyunits.kg / pyunits.d,\n",
    "    doc=\"Daily KMnO4 required per ion\",\n",
    ")\n",
    "\n",
    "m.tot_kmno4_required = Var(\n",
    "    bounds=(0, 1e5),\n",
    "    initialize=100,\n",
    "    units=pyunits.kg / pyunits.d,\n",
    "    doc=\"Total KMnO4 required\",\n",
    ")\n",
    "\n",
    "m.alk_consumed = Var(\n",
    "    ions,\n",
    "    initialize=100,\n",
    "    bounds=(0, 1e5),\n",
    "    units=pyunits.kg / pyunits.d,\n",
    "    doc=\"Daily alkalinity consumed per ion\",\n",
    ")\n",
    "\n",
    "m.tot_alk_consumed = Var(\n",
    "    initialize=100,\n",
    "    bounds=(0, 1e5),\n",
    "    units=pyunits.kg / pyunits.d,\n",
    "    doc=\"Total alkalinity consumed\",\n",
    ")\n",
    "\n",
    "m.sludge_produced = Var(\n",
    "    ions,\n",
    "    bounds=(0, 1e5),\n",
    "    initialize=100,\n",
    "    units=pyunits.kg / pyunits.d,\n",
    "    doc=\"Daily sludge production per ion\",\n",
    ")\n",
    "\n",
    "m.tot_sludge_produced = Var(\n",
    "    bounds=(0, 1e5),\n",
    "    initialize=100,\n",
    "    units=pyunits.kg / pyunits.d,\n",
    "    doc=\"Total sludge produced\",\n",
    ")\n",
    "\n",
    "\n",
    "def eq_kmno4_req(m, i):\n",
    "    return m.kmno4_required[i] == pyunits.convert(\n",
    "        m.aq_conc[i] * m.flow_in * m.kmno4_conversion[i],\n",
    "        to_units=pyunits.kg / pyunits.d,\n",
    "    )\n",
    "\n",
    "\n",
    "m.kmno4_req_constr = Constraint(ions, rule=eq_kmno4_req)\n",
    "\n",
    "m.tot_kmno4_req_constr = Constraint(\n",
    "    expr=m.tot_kmno4_required == sum(m.kmno4_required[i] for i in ions)\n",
    ")\n",
    "\n",
    "\n",
    "def eq_alk_consumed(m, i):\n",
    "    return m.alk_consumed[i] == pyunits.convert(\n",
    "        m.aq_conc[i] * m.flow_in * m.alk_conversion[i], to_units=pyunits.kg / pyunits.d\n",
    "    )\n",
    "\n",
    "\n",
    "m.alk_consumed_constr = Constraint(ions, rule=eq_alk_consumed)\n",
    "\n",
    "\n",
    "m.tot_alk_consumed_constr = Constraint(\n",
    "    expr=m.tot_alk_consumed == sum(m.alk_consumed[i] for i in ions)\n",
    ")\n",
    "\n",
    "\n",
    "def eq_sludge_produced(m, i):\n",
    "    return m.sludge_produced[i] == pyunits.convert(\n",
    "        m.aq_conc[i] * m.flow_in * m.sludge_conversion[i],\n",
    "        to_units=pyunits.kg / pyunits.d,\n",
    "    )\n",
    "\n",
    "\n",
    "m.sludge_produced_constr = Constraint(ions, rule=eq_sludge_produced)\n",
    "\n",
    "m.tot_sludge_produced_constr = Constraint(\n",
    "    expr=m.tot_sludge_produced == sum(m.sludge_produced[i] for i in ions)\n",
    ")\n",
    "\n",
    "m.flow_in.fix(1e5)\n",
    "dof = degrees_of_freedom(m)\n",
    "print(f\"Degrees of Freedom: {dof}\")\n",
    "\n",
    "results = solver.solve(m)\n",
    "print(f\"Model solve = {results.solver.termination_condition}\\n\")\n",
    "\n",
    "m.display()"
   ]
  },
  {
   "cell_type": "markdown",
   "id": "210c0ed5-3c77-4240-bb17-3231401fabbe",
   "metadata": {},
   "source": [
    "# Add costing\n",
    "Let's say we had a cost for this process that was a function of these four things:\n",
    "\n",
    "`C = 15200 + 320 * tot_sludge_produced ** 1.2 + 142 * tot_alk_consumed ** 0.2 + 170 * log(tot_kmno4_consumed) ** 2 + flow_in ** 0.078`"
   ]
  },
  {
   "cell_type": "code",
   "execution_count": null,
   "id": "520c82a8-b580-48e3-9d46-df721fc1c20d",
   "metadata": {},
   "outputs": [],
   "source": [
    "m.capital_cost = Var(\n",
    "    initialize=1e6,\n",
    "    bounds=(0, 50e6),\n",
    "    units=pyunits.dimensionless,\n",
    "    doc=\"Unit process capital cost\",\n",
    ")\n",
    "\n",
    "\n",
    "m.cap_constr = Constraint(\n",
    "    expr=m.capital_cost\n",
    "    == 15200\n",
    "    + 320 * m.tot_sludge_produced**1.2\n",
    "    + 142 * m.tot_alk_consumed**0.2\n",
    "    + 170 * log(m.tot_kmno4_required) ** 2\n",
    "    + m.flow_in**0.078\n",
    ")"
   ]
  },
  {
   "cell_type": "markdown",
   "id": "04b333d7-76d8-408d-8f40-c56f0e7aeff5",
   "metadata": {},
   "source": [
    "# You can't use standard Python math operations on Pyomo objects\n",
    "\n",
    "Here we tried to pass a Pyomo `Var` to the Python operator `log()`. Pyomo has defined its own set of these operations for use with Pyomo objects. So if you needed to use `log()` in a `Constraint` like we have here, you must:\n",
    "\n",
    "```python\n",
    "from pyomo.environ import log\n",
    "``` \n",
    "\n",
    "This will overwrite the Python operation (but you can still use it normally). If you are unsure if you will be using these types of operations when you build the model, you can avoid this by just importing everything from the Pyomo environment:\n",
    "\n",
    "```python\n",
    "from pyomo.environ import *\n",
    "``` "
   ]
  },
  {
   "cell_type": "code",
   "execution_count": null,
   "id": "3d81ed2f-108a-44ea-af38-5dcd2641e085",
   "metadata": {},
   "outputs": [],
   "source": [
    "from pyomo.environ import log"
   ]
  },
  {
   "cell_type": "code",
   "execution_count": null,
   "id": "a5cbf739-aeb1-4bde-9606-18b21fe980cd",
   "metadata": {},
   "outputs": [],
   "source": [
    "m.cap_constr = Constraint(\n",
    "    expr=m.capital_cost\n",
    "    == 15200\n",
    "    + 320 * m.tot_sludge_produced**1.2\n",
    "    + 142 * m.tot_alk_consumed**0.2\n",
    "    + 170 * log(m.tot_kmno4_required) ** 2\n",
    "    + m.flow_in**0.078\n",
    ")"
   ]
  },
  {
   "cell_type": "code",
   "execution_count": null,
   "id": "006de6e0-e898-4a0f-8bc4-1cf5ecb763b6",
   "metadata": {},
   "outputs": [],
   "source": [
    "dof = degrees_of_freedom(m)\n",
    "print(f\"Degrees of Freedom: {dof}\")\n",
    "\n",
    "results = solver.solve(m)\n",
    "print(f\"Model solve = {results.solver.termination_condition}\\n\")\n",
    "\n",
    "m.display()"
   ]
  },
  {
   "cell_type": "markdown",
   "id": "ee11efd8-4277-49e2-bf40-a9b27a1ed539",
   "metadata": {},
   "source": [
    "In the first version of this model, the conversion factors for KMnO4 consumption and sludge generation were `Param` - i.e., they weren't variables and couldn't be changed.\n",
    "\n",
    "Instead, let's imagine we don't know this data *a priori* but instead have some relationships that define them. \n"
   ]
  },
  {
   "cell_type": "code",
   "execution_count": null,
   "id": "c6607be9-46fb-499f-96b9-db9235af0dcf",
   "metadata": {},
   "outputs": [],
   "source": [
    "# ions = [\"Fe\", \"Mn\"]\n",
    "# conc_init = {\"Fe\": 5, \"Mn\": 2}\n",
    "# kmno4_conv_init = {\"Fe\": 0.94, \"Mn\": 1.92}\n",
    "# alk_conv_init = {\"Fe\": 1.5, \"Mn\": 1.21}\n",
    "# sludge_conv_init = {\"Fe\": 2.43, \"Mn\": 2.64}\n",
    "\n",
    "# m = ConcreteModel()\n",
    "\n",
    "# m.aq_conc = Param(\n",
    "#     ions,\n",
    "#     initialize=conc_init,\n",
    "#     units=pyunits.g / pyunits.m**3,\n",
    "#     doc=\"Aqueous concentration of ions\",\n",
    "# )\n",
    "\n",
    "# m.kmno4_conversion = Var(\n",
    "#     ions,\n",
    "#     bounds=(0, None),\n",
    "#     initialize=kmno4_conv_init,\n",
    "#     units=pyunits.g / pyunits.g,\n",
    "#     doc=\"KMnO4 required conversion\",\n",
    "# )\n",
    "\n",
    "# m.alk_conversion = Param(\n",
    "#     ions, initialize=alk_conv_init, units=pyunits.g / pyunits.g, doc=\"Alk conversion\"\n",
    "# )\n",
    "\n",
    "# m.sludge_conversion = Var(\n",
    "#     ions,\n",
    "#     initialize=sludge_conv_init,\n",
    "#     bounds=(0, None),\n",
    "#     units=pyunits.g / pyunits.g,\n",
    "#     doc=\"Sludge produced conversion\",\n",
    "# )\n",
    "\n",
    "# m.flow_in = Var(\n",
    "#     initialize=1000, bounds=(0, 1e6), units=pyunits.m**3 / pyunits.d, doc=\"Daily flow\"\n",
    "# )\n",
    "\n",
    "# m.kmno4_required = Var(\n",
    "#     ions,\n",
    "#     bounds=(0, 1e5),\n",
    "#     initialize=100,\n",
    "#     units=pyunits.kg / pyunits.d,\n",
    "#     doc=\"Daily KMnO4 required per ion\",\n",
    "# )\n",
    "\n",
    "# m.tot_kmno4_required = Var(\n",
    "#     bounds=(0, 1e5),\n",
    "#     initialize=100,\n",
    "#     units=pyunits.kg / pyunits.d,\n",
    "#     doc=\"Total KMnO4 required\",\n",
    "# )\n",
    "\n",
    "# m.alk_consumed = Var(\n",
    "#     ions,\n",
    "#     initialize=100,\n",
    "#     bounds=(0, 1e5),\n",
    "#     units=pyunits.kg / pyunits.d,\n",
    "#     doc=\"Daily alkalinity consumed per ion\",\n",
    "# )\n",
    "\n",
    "# m.tot_alk_consumed = Var(\n",
    "#     initialize=100,\n",
    "#     bounds=(0, 1e5),\n",
    "#     units=pyunits.kg / pyunits.d,\n",
    "#     doc=\"Total alkalinity consumed\",\n",
    "# )\n",
    "\n",
    "# m.sludge_produced = Var(\n",
    "#     ions,\n",
    "#     bounds=(0, 1e5),\n",
    "#     initialize=100,\n",
    "#     units=pyunits.kg / pyunits.d,\n",
    "#     doc=\"Daily sludge production per ion\",\n",
    "# )\n",
    "\n",
    "# m.tot_sludge_produced = Var(\n",
    "#     bounds=(0, 1e5),\n",
    "#     initialize=100,\n",
    "#     units=pyunits.kg / pyunits.d,\n",
    "#     doc=\"Total sludge produced\",\n",
    "# )\n",
    "\n",
    "# m.capital_cost = Var(\n",
    "#     initialize=1e6,\n",
    "#     bounds=(0, 50e6),\n",
    "#     units=pyunits.dimensionless,\n",
    "#     doc=\"Unit process capital cost\",\n",
    "# )\n",
    "\n",
    "\n",
    "# def eq_kmno4_sludge(m, i):\n",
    "#     return (\n",
    "#         m.kmno4_conversion[i] == 2.6 * m.sludge_conversion[i] - 0.1 * m.alk_consumed[i]\n",
    "#     )\n",
    "\n",
    "\n",
    "# m.kmno4_sludge_rel = Constraint(ions, rule=eq_kmno4_sludge)\n",
    "\n",
    "\n",
    "# def eq_kmno4_req(m, i):\n",
    "#     return m.kmno4_required[i] == pyunits.convert(\n",
    "#         m.aq_conc[i] * m.flow_in * m.kmno4_conversion[i],\n",
    "#         to_units=pyunits.kg / pyunits.d,\n",
    "#     )\n",
    "\n",
    "\n",
    "# m.kmno4_req_constr = Constraint(ions, rule=eq_kmno4_req)\n",
    "\n",
    "# m.tot_kmno4_req_constr = Constraint(\n",
    "#     expr=m.tot_kmno4_required == sum(m.kmno4_required[i] for i in ions)\n",
    "# )\n",
    "\n",
    "\n",
    "# def eq_alk_consumed(m, i):\n",
    "#     return m.alk_consumed[i] == pyunits.convert(\n",
    "#         m.aq_conc[i] * m.flow_in * m.alk_conversion[i], to_units=pyunits.kg / pyunits.d\n",
    "#     )\n",
    "\n",
    "\n",
    "# m.alk_consumed_constr = Constraint(ions, rule=eq_alk_consumed)\n",
    "\n",
    "\n",
    "# m.tot_alk_consumed_constr = Constraint(\n",
    "#     expr=m.tot_alk_consumed == sum(m.alk_consumed[i] for i in ions)\n",
    "# )\n",
    "\n",
    "\n",
    "# def eq_sludge_produced(m, i):\n",
    "#     return m.sludge_produced[i] == pyunits.convert(\n",
    "#         m.aq_conc[i] * m.flow_in * m.sludge_conversion[i],\n",
    "#         to_units=pyunits.kg / pyunits.d,\n",
    "#     )\n",
    "\n",
    "\n",
    "# m.sludge_produced_constr = Constraint(ions, rule=eq_sludge_produced)\n",
    "\n",
    "# m.tot_sludge_produced_constr = Constraint(\n",
    "#     expr=m.tot_sludge_produced == sum(m.sludge_produced[i] for i in ions)\n",
    "# )\n",
    "\n",
    "# m.cap_constr = Constraint(\n",
    "#     expr=m.capital_cost\n",
    "#     == 15200\n",
    "#     + 320 * m.tot_sludge_produced**1.2\n",
    "#     + 142 * m.tot_alk_consumed**0.2\n",
    "#     + 170 * log(m.tot_kmno4_required) ** 2\n",
    "#     + m.flow_in**0.078\n",
    "# )\n",
    "\n",
    "# m.flow_in.fix(1e5)\n",
    "# m.kmno4_conversion[\"Fe\"].fix(1.1)\n",
    "# m.kmno4_conversion[\"Mn\"].fix(5.1)\n",
    "\n",
    "# assert_units_consistent(m)\n",
    "# dof = degrees_of_freedom(m)\n",
    "# print(f\"Degrees of Freedom: {dof}\")\n",
    "\n",
    "# results = solver.solve(m)\n",
    "# print(f\"Model solve = {results.solver.termination_condition}\\n\")\n",
    "# assert_optimal_termination(results)\n",
    "# m.display()"
   ]
  },
  {
   "cell_type": "code",
   "execution_count": null,
   "id": "e4bcdfab-01a8-42da-aa4e-7a62355a3da4",
   "metadata": {},
   "outputs": [],
   "source": [
    "#### ROSENBROCK EXAMPLE\n",
    "# Z = (1 - X) ** 2 + 100 * (Y - X ** 2) ** 2\n",
    "# Objective = minimize"
   ]
  },
  {
   "cell_type": "code",
   "execution_count": null,
   "id": "9626cf6a-625e-4ce9-9e7a-71159f301fa8",
   "metadata": {},
   "outputs": [],
   "source": []
  }
 ],
 "metadata": {
  "kernelspec": {
   "display_name": "watertap-academy",
   "language": "python",
   "name": "python3"
  },
  "language_info": {
   "codemirror_mode": {
    "name": "ipython",
    "version": 3
   },
   "file_extension": ".py",
   "mimetype": "text/x-python",
   "name": "python",
   "nbconvert_exporter": "python",
   "pygments_lexer": "ipython3",
   "version": "3.10.18"
  }
 },
 "nbformat": 4,
 "nbformat_minor": 5
}
