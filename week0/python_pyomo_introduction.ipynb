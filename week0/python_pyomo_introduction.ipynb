{
 "cells": [
  {
   "cell_type": "markdown",
   "metadata": {},
   "source": [
    "# Outline of Python and Pyomo Introduction"
   ]
  },
  {
   "cell_type": "markdown",
   "metadata": {},
   "source": [
    "In this short notebook, we will briefly describe the uses of Jupyter notebooks like this one, and provide you with the necessary background in Python for this tutorial. We will cover the following topics:\n",
    "- `if` statements\n",
    "- Python variables\n",
    "- looping\n",
    "- array-like containers (lists and dictionaries)\n",
    "- usage of some external packages for working with data \n",
    "\n",
    "There are many additional tutorials online to learn more about the Python syntax."
   ]
  },
  {
   "cell_type": "markdown",
   "metadata": {},
   "source": [
    "In Python, variables do not need to be declared before they are used. You can simply define a new variable using `x = 5`."
   ]
  },
  {
   "cell_type": "code",
   "execution_count": 1,
   "metadata": {
    "tags": [
     "solution"
    ]
   },
   "outputs": [],
   "source": [
    "x = 5"
   ]
  },
  {
   "cell_type": "markdown",
   "metadata": {},
   "source": [
    "You can easily see the value of a variable using the built-in `print` function. For example, to print the value of `x` use `print(x)`."
   ]
  },
  {
   "cell_type": "code",
   "execution_count": 2,
   "metadata": {
    "tags": [
     "solution"
    ]
   },
   "outputs": [
    {
     "name": "stdout",
     "output_type": "stream",
     "text": [
      "5\n"
     ]
    }
   ],
   "source": [
    "print(x)"
   ]
  },
  {
   "cell_type": "markdown",
   "metadata": {},
   "source": [
    "You can also change the value of the x variable to 8 and by re-executing the cell."
   ]
  },
  {
   "cell_type": "code",
   "execution_count": 3,
   "metadata": {
    "tags": [
     "solution"
    ]
   },
   "outputs": [],
   "source": [
    "x = 8"
   ]
  },
  {
   "cell_type": "markdown",
   "metadata": {},
   "source": [
    "### Jupyter notebooks and execution order\n",
    "\n",
    "<div class=\"alert alert-block alert-warning\">\n",
    "<b>Note:</b>\n",
    "When using Jupyter notebooks, it is very important to know that the cells can be executed out of order (intentionally or not). The state of the environment (e.g., values of variables, imports, etc.) is defined by the execution order.\n",
    "</div>\n",
    "\n",
    "<div class=\"alert alert-block alert-info\">\n",
    "<b>Inline Exercise:</b>\n",
    "To see this concept, select the cell above that contained the print statement and execute the cell again using Shift+Enter.\n",
    "</div>\n",
    "\n",
    "You should see that the value `8` is now printed. This may seem problematic if you are used to programming in environments where the state is linked to the order of the commands as *written*, not as *executed*.\n",
    "\n",
    "**Again, notice that the state of the environment is determined by the execution order.**\n",
    "\n",
    "Note also that the square brackets to the left of the cell show the order that cells were executed. If you scroll to the top, you should see that the code cells show an execution order of `[1]`, `[2]`, `[5]`, and `[4]`, indicating the actual execution order.\n",
    "\n",
    "There are some useful menu commands at the top of the Jupyter notebook to help with these problems and make sure you retain the execution order as expected.\n",
    "\n",
    "Some important commands to remember:\n",
    "* You can clear the current state with the menu item `Kernel | Restart & Clear Output`\n",
    "* It is often useful to clear the state using the menu command just described, and then execute all the lines **above the currently selected cell** using `Cell | Run All Above`.\n",
    "* You can clear all the state and re-run the entire notebook using `Kernel | Restart & Run All`.\n",
    "\n",
    "To show the use of these commands, complete the following.\n",
    "<div class=\"alert alert-block alert-info\">\n",
    "<b>Inline Exercise:</b>\n",
    "<ul>\n",
    "<li>Clear the current state (using Kernel | Restart & Clear Output). You should notice that the square brackets that listed the execution order are all now empty.</li>\n",
    "<li>Select the cell immediately below this text\n",
    "<li>Re-run all the code up to this point (Cell | Run All Above). You should now see that the square brackets indicate the expected execution order.</li>\n",
    "<li>Print the value of x again using the print function. You should see the value 8 printed, while the earlier cell printing x shows the value of 5 as expected.</li>\n",
    "</ul>\n",
    "</div>\n"
   ]
  },
  {
   "cell_type": "code",
   "execution_count": 4,
   "metadata": {
    "tags": [
     "solution"
    ]
   },
   "outputs": [
    {
     "name": "stdout",
     "output_type": "stream",
     "text": [
      "8\n"
     ]
    }
   ],
   "source": [
    "# Prints the value of x\n",
    "print(x)"
   ]
  },
  {
   "cell_type": "markdown",
   "metadata": {},
   "source": [
    "### Python `if` statements\n",
    "\n",
    "In the code below, we show an example of an `if` statement in Python.\n",
    "\n",
    "```python\n",
    "temp = 325\n",
    "# some other code\n",
    "if temp > 320:\n",
    "    print('temperature is too high')\n",
    "elif x < 290:\n",
    "    print('temperature is too low')\n",
    "else:\n",
    "    print('temperature is just right')\n",
    "```\n",
    "\n",
    "<div class=\"alert alert-block alert-warning\">\n",
    "<b>Note:</b>\n",
    "You will notice that there are no braces to separate blocks in the if-else tree. In Python, indentation is used to delineate blocks of code throughout Python (e.g., if statements, for loops, functions, etc.). The indentation in the above example is not only to improve legibility of the code. It is necessary for the code to run correctly. As well, the number of spaces required to define the indentation is arbitrary, but it must be consistent throughout the code. For example, we could use 3 spaces (instead of the 4 used in the example above, but we could not use 3 for one of the blocks and 4 for another).\n",
    "</div>\n",
    "\n",
    "<div>\n",
    "   Using the syntax above for the `if` statement, you can: \n",
    "<ul>\n",
    "    <li>set the value of the variable T_degC to 20</li>\n",
    "    <li>convert this from degrees Celsius to degrees Fahrenheit (use variable name T_degF)</li>\n",
    "    <li>write an `if` statement that prints a  message if the degrees Fahrenheit are below 70</li>\n",
    "</ul>\n",
    "</div>"
   ]
  },
  {
   "cell_type": "code",
   "execution_count": 5,
   "metadata": {
    "tags": [
     "solution"
    ]
   },
   "outputs": [
    {
     "name": "stdout",
     "output_type": "stream",
     "text": [
      "The room is too cold.\n"
     ]
    }
   ],
   "source": [
    "T_degC = 20\n",
    "# Convert from degrees Celsium to degrees Fahrenheit\n",
    "T_degF = (T_degC * 9.0 / 5.0) + 32.0\n",
    "\n",
    "if T_degF < 70:\n",
    "    print(\"The room is too cold.\")"
   ]
  },
  {
   "cell_type": "markdown",
   "metadata": {},
   "source": [
    "### Python list containers\n",
    "\n",
    "Now we will illustrate the use of lists in Python. Lists are similar to vectors or arrays in other languages. A list in Python is indexed by integers from 0 up to the length of the array minus 1. The list can contain standard types (int, float, string), or other objects.\n",
    "\n",
    "In the next code block, we will create a list that contains the values from 0 to 50 by steps of 5 using a for loop. Note that the python function `range(n)` can be used to iterate from 0 to (n-1) in a for loop. Also note that lists have an `append` method which adds an entry to the end of the list (e.g., if the list `l` currently has 5 elements, then `l.append('temp')` will add the string \"temp\" as the sixth element). If you print the new list after the for loop, you should see:\n",
    "`[0, 5, 10, 15, 20, 25, 30, 35, 40, 45, 50]` printed after the cell."
   ]
  },
  {
   "cell_type": "code",
   "execution_count": 6,
   "metadata": {
    "tags": [
     "solution"
    ]
   },
   "outputs": [
    {
     "name": "stdout",
     "output_type": "stream",
     "text": [
      "[0, 5, 10, 15, 20, 25, 30, 35, 40, 45, 50]\n"
     ]
    }
   ],
   "source": [
    "# Creates a list with the values 0 to 50 with steps of 5.\n",
    "xlist = list()\n",
    "for i in range(11):\n",
    "    xlist.append(i * 5)\n",
    "\n",
    "print(xlist)"
   ]
  },
  {
   "cell_type": "markdown",
   "metadata": {},
   "source": [
    "Python provides a short-hand notation for building lists called *list comprehensions*. An example of a list comprehension that creates all even numbers from 0 to 40 is:\n",
    "\n",
    "```python\n",
    "values = [q*2 for q in range(21)]\n",
    "```\n",
    "\n",
    "Note also that list comprehensions can include if clauses. For example, we could also implement the above example with the following code:\n",
    "\n",
    "```python\n",
    "values = [q for q in range(41) if q % 2 == 0]\n",
    "```\n",
    "\n",
    "Note that `%` is the modulus operator (it returns the remainder of the division). Therefore, in the above code, `q % 2` returns 0 if the value in `q` is exactly divisible by 2 (i.e., an even number)."
   ]
  },
  {
   "cell_type": "code",
   "execution_count": 7,
   "metadata": {
    "tags": [
     "solution"
    ]
   },
   "outputs": [
    {
     "name": "stdout",
     "output_type": "stream",
     "text": [
      "[0, 5, 10, 15, 20, 25, 30, 35, 40, 45, 50]\n"
     ]
    }
   ],
   "source": [
    "# Creates a list with the values 0 to 50 with steps of 5 using list comprehension\n",
    "xlist = [i * 5 for i in range(11)]\n",
    "print(xlist)"
   ]
  },
  {
   "cell_type": "markdown",
   "metadata": {},
   "source": [
    "You can easily check the length of a list using the python `len(l)` function."
   ]
  },
  {
   "cell_type": "code",
   "execution_count": 8,
   "metadata": {
    "tags": [
     "solution"
    ]
   },
   "outputs": [
    {
     "name": "stdout",
     "output_type": "stream",
     "text": [
      "11\n"
     ]
    }
   ],
   "source": [
    "# Prints the len of the list\n",
    "print(len(xlist))"
   ]
  },
  {
   "cell_type": "markdown",
   "metadata": {},
   "source": [
    "If you have a list of values or objects, it is easy to iterate through that list in a for loop. In the next code block, we will create another list, `ylist` where each of the values is equal to the corresponding value in `xlist` squared. That is, $y_i = x_i^2$."
   ]
  },
  {
   "cell_type": "code",
   "execution_count": 9,
   "metadata": {
    "tags": [
     "solution"
    ]
   },
   "outputs": [
    {
     "name": "stdout",
     "output_type": "stream",
     "text": [
      "[0, 25, 100, 225, 400, 625, 900, 1225, 1600, 2025, 2500]\n"
     ]
    }
   ],
   "source": [
    "ylist = list()\n",
    "\n",
    "# Defines the for loop to add elements to ylist using the values in xlist\n",
    "for x in xlist:\n",
    "    ylist.append(x**2)\n",
    "\n",
    "print(ylist)"
   ]
  },
  {
   "cell_type": "markdown",
   "metadata": {},
   "source": [
    "This same task could have been done with a list comprehension (using much less code)."
   ]
  },
  {
   "cell_type": "code",
   "execution_count": 10,
   "metadata": {
    "tags": [
     "solution"
    ]
   },
   "outputs": [
    {
     "name": "stdout",
     "output_type": "stream",
     "text": [
      "[0, 25, 100, 225, 400, 625, 900, 1225, 1600, 2025, 2500]\n"
     ]
    }
   ],
   "source": [
    "# Creates ylist using a list comprehension and prints the result\n",
    "ylist = [x**2 for x in xlist]\n",
    "print(ylist)"
   ]
  },
  {
   "cell_type": "markdown",
   "metadata": {},
   "source": [
    "### Python dictionary containers\n",
    "\n",
    "Another valuable data structure in Python are *dictionaries*. Dictionaries are an associative array; that is, a map from keys to values or objects. The keys can be *almost* anything, including floats, integers, and strings. The code below shows an example of creating a dictionary (here, to store the areas of some of the states)."
   ]
  },
  {
   "cell_type": "code",
   "execution_count": 11,
   "metadata": {},
   "outputs": [
    {
     "name": "stdout",
     "output_type": "stream",
     "text": [
      "{'South Dakota': 199742, 'Oklahoma': 181035}\n"
     ]
    }
   ],
   "source": [
    "areas = dict()\n",
    "areas[\"South Dakota\"] = 199742\n",
    "areas[\"Oklahoma\"] = 181035\n",
    "print(areas)"
   ]
  },
  {
   "cell_type": "markdown",
   "metadata": {},
   "source": [
    "Dictionaries can contain mixed types (i.e., it is valid to add `areas['Texas'] = 'Really big!'`) but this may lead to unpredictable behavior if the different types are unexpected in other parts of the code.\n",
    "\n",
    "You can loop through dictionaries in different ways. For example,\n",
    "```python\n",
    "d = {'A': 2, 'B': 4, 'D': 16}\n",
    "for k in d.keys():\n",
    "    # loop through the keys in the dictionary\n",
    "    # access the value with d[k]\n",
    "    print('key=', k, 'value=', d[k])\n",
    "    \n",
    "for v in d.values():\n",
    "    # loop through the values in the dictionary, ignoring the keys\n",
    "    print('value=', v)\n",
    "    \n",
    "for k,v in d.items():\n",
    "    # loop through the entries in the dictionary, retrieving both\n",
    "    # the key and the value\n",
    "    print('key=', k, 'value=', v)\n",
    "```\n",
    "\n",
    "<div>\n",
    "The areas listed above for the two states are in square kilometers. You can modify the loop to create a new dictionary that contains the areas in square miles. Note that 1 kilometer is equal to 0.62137 miles.\n",
    "</div>"
   ]
  },
  {
   "cell_type": "code",
   "execution_count": 12,
   "metadata": {
    "tags": [
     "solution"
    ]
   },
   "outputs": [
    {
     "name": "stdout",
     "output_type": "stream",
     "text": [
      "{'South Dakota': 77120.5214053598, 'Oklahoma': 69897.7360425915}\n"
     ]
    }
   ],
   "source": [
    "areas_mi = dict()\n",
    "for state_name, area in areas.items():\n",
    "    # Converts the area to sq. mi and assign to the areas_mi dict.\n",
    "    areas_mi[state_name] = area * (0.62137**2)\n",
    "print(areas_mi)"
   ]
  },
  {
   "cell_type": "markdown",
   "metadata": {},
   "source": [
    "Python also supports dictionary comprehensions much like list comprehensions. For example:\n",
    "```python\n",
    "d = {'A': 2, 'B': 4, 'D': 16}\n",
    "d2 = {k:v**2 for k,v in d.items()}\n",
    "```\n",
    "The following code converts from square kilometers to square miles using a dictionary comprehension."
   ]
  },
  {
   "cell_type": "code",
   "execution_count": 13,
   "metadata": {
    "tags": [
     "solution"
    ]
   },
   "outputs": [
    {
     "name": "stdout",
     "output_type": "stream",
     "text": [
      "{'South Dakota': 77120.5214053598, 'Oklahoma': 69897.7360425915}\n"
     ]
    }
   ],
   "source": [
    "# Defines areas_mi using a dictionary comprehension and print the result\n",
    "areas_mi = {k: v * (0.62137**2) for k, v in areas.items()}\n",
    "print(areas_mi)"
   ]
  },
  {
   "cell_type": "markdown",
   "metadata": {},
   "source": [
    "### Matplotlib for generating figures\n",
    "\n",
    "We will now briefly explore the use of the `matplotlib` package to generate figures. Before we do this, we will introduce some other helpful tools.\n",
    "\n",
    "Another effective way to create a list of evenly spaced numbers (e.g., for plotting or other computation) is to use the `linspace` function from the `numpy` package (more information [here](https://numpy.org/devdocs/)). Let's import the `numpy` package and use linspace function to create a list of 15 evenly spaced intervals (that is, 16 points) from 0 to 50 and store this in `xlist`. We will also create the `ylist` that corresponds to the square of the values in `xlist`. Note, we must first import the `numpy` package."
   ]
  },
  {
   "cell_type": "code",
   "execution_count": 14,
   "metadata": {},
   "outputs": [],
   "source": [
    "import numpy as np"
   ]
  },
  {
   "cell_type": "code",
   "execution_count": 15,
   "metadata": {},
   "outputs": [
    {
     "name": "stdout",
     "output_type": "stream",
     "text": [
      "[np.float64(0.0), np.float64(3.3333333333333335), np.float64(6.666666666666667), np.float64(10.0), np.float64(13.333333333333334), np.float64(16.666666666666668), np.float64(20.0), np.float64(23.333333333333336), np.float64(26.666666666666668), np.float64(30.0), np.float64(33.333333333333336), np.float64(36.66666666666667), np.float64(40.0), np.float64(43.333333333333336), np.float64(46.66666666666667), np.float64(50.0)]\n",
      "[np.float64(0.0), np.float64(11.111111111111112), np.float64(44.44444444444445), np.float64(100.0), np.float64(177.7777777777778), np.float64(277.7777777777778), np.float64(400.0), np.float64(544.4444444444446), np.float64(711.1111111111112), np.float64(900.0), np.float64(1111.1111111111113), np.float64(1344.4444444444448), np.float64(1600.0), np.float64(1877.777777777778), np.float64(2177.7777777777783), np.float64(2500.0)]\n"
     ]
    }
   ],
   "source": [
    "xlist = list(np.linspace(0, 50, 16))\n",
    "ylist = [x**2 for x in xlist]\n",
    "print(xlist)\n",
    "print(ylist)"
   ]
  },
  {
   "cell_type": "markdown",
   "metadata": {},
   "source": [
    "This printed output is not a very effective way to communicate these results. Let's use matplotlib to create a figure of x versus y. A full treatment of the `matplotlib` package is beyond the scope of this tutorial, and further documentation can be found [here](https://matplotlib.org/). For now, we will import the plotting capability and show how to generate a straightforward figure. You can consult the documentation for matplotlib for further details."
   ]
  },
  {
   "cell_type": "code",
   "execution_count": 16,
   "metadata": {},
   "outputs": [],
   "source": [
    "import matplotlib.pyplot as plt"
   ]
  },
  {
   "cell_type": "code",
   "execution_count": 17,
   "metadata": {},
   "outputs": [
    {
     "data": {
      "image/png": "[encoded data removed]",
      "text/plain": [
       "<Figure size 640x480 with 1 Axes>"
      ]
     },
     "metadata": {},
     "output_type": "display_data"
    }
   ],
   "source": [
    "plt.plot(xlist, ylist)\n",
    "plt.title(\"Embedded x vs y figure\")\n",
    "plt.xlabel(\"x\")\n",
    "plt.ylabel(\"y\")\n",
    "plt.legend([\"data\"])\n",
    "plt.show()"
   ]
  },
  {
   "cell_type": "markdown",
   "metadata": {},
   "source": [
    "Next, we will use what you have learned so far to create a plot of `sin(x)` for `x` from 0 to $2 \\pi$ with 100 points. Note, you can get the `sin` function and the value for $\\pi$ from the `math` package."
   ]
  },
  {
   "cell_type": "code",
   "execution_count": 18,
   "metadata": {},
   "outputs": [],
   "source": [
    "import math"
   ]
  },
  {
   "cell_type": "code",
   "execution_count": 19,
   "metadata": {
    "tags": [
     "solution"
    ]
   },
   "outputs": [
    {
     "data": {
      "image/png": "[encoded data removed]",
      "text/plain": [
       "<Figure size 640x480 with 1 Axes>"
      ]
     },
     "metadata": {},
     "output_type": "display_data"
    }
   ],
   "source": [
    "x = list(np.linspace(0, 2 * math.pi, 100))\n",
    "\n",
    "# Creates the list for y\n",
    "y = [math.sin(xv) for xv in x]\n",
    "\n",
    "# Generates the figure\n",
    "plt.plot(x, y)\n",
    "plt.title(\"Trig: sin function\")\n",
    "plt.xlabel(\"x in radians\")\n",
    "plt.ylabel(\"sin(x)\")\n",
    "plt.show()"
   ]
  },
  {
   "cell_type": "markdown",
   "metadata": {},
   "source": [
    "### Importing and exporting data using Pandas\n",
    "\n",
    "Often, it is useful to output the data in a general format so it can be imported into other tools or presented in a familiar application. Python makes this easy with many great packages already available. The next code shows how to use the `pandas` package to create a dataframe and export the data to a csv file that we can import to excel. You could also consult [pandas documentation](https://pandas.pydata.org/pandas-docs/stable/) to see how to export the data directly to excel."
   ]
  },
  {
   "cell_type": "code",
   "execution_count": 20,
   "metadata": {},
   "outputs": [
    {
     "name": "stdout",
     "output_type": "stream",
     "text": [
      "           x  sin(x) (radians)\n",
      "0   0.000000      0.000000e+00\n",
      "1   0.063467      6.342392e-02\n",
      "2   0.126933      1.265925e-01\n",
      "3   0.190400      1.892512e-01\n",
      "4   0.253866      2.511480e-01\n",
      "..       ...               ...\n",
      "95  6.029319     -2.511480e-01\n",
      "96  6.092786     -1.892512e-01\n",
      "97  6.156252     -1.265925e-01\n",
      "98  6.219719     -6.342392e-02\n",
      "99  6.283185     -2.449294e-16\n",
      "\n",
      "[100 rows x 2 columns]\n"
     ]
    }
   ],
   "source": [
    "import pandas as pd\n",
    "\n",
    "df_sin = pd.DataFrame({\"x\": x, \"sin(x) (radians)\": y})\n",
    "print(df_sin)\n",
    "df_sin.to_csv(\"sin_data.csv\")"
   ]
  },
  {
   "cell_type": "markdown",
   "metadata": {},
   "source": [
    "If you go back to the browser tab that showed all the Jupyter notebook files and refresh, you will now see that there is a csv file with the x and y data. You can consult the Pandas documentation do learn about the many data analysis and statistical features of the `pandas` package.\n",
    "\n",
    "### Further Information\n",
    "\n",
    "Further information of the packages mentioned above can be found using the following links:\n",
    "\n",
    "* [numpy](https://numpy.org/devdocs/)\n",
    "* [matplotlib](https://matplotlib.org/)\n",
    "* [pandas](https://pandas.pydata.org/pandas-docs/stable/)\n"
   ]
  },
  {
   "cell_type": "markdown",
   "metadata": {},
   "source": [
    "## Introduction to Pyomo\n",
    "\n",
    "[Pyomo](https://www.pyomo.org) is an object-oriented, python-based package for equation-oriented (or *algebraic*) modeling and optimization, and the IDAES framework is built upon the Pyomo package. IDAES extends the Pyomo package and defines a class hierarchy for flowsheet based modeling, including definition of property packages, unit models, and flowsheets. WaterTAP is then built on top of IDAES to specifically target water treatment applications.\n",
    "\n",
    "The use of WaterTAP does not require extensive knowledge about Pyomo, however, it can be beneficial to have some familiarity with the Pyomo package for certain tasks:\n",
    "* WaterTAP models are open, and you can interrogating the underlying Pyomo model to view the variables, constraints, and objective functions defined in the model.\n",
    "* You can use Pyomo components to define your objective function or to create additional constraints.\n",
    "* Since WaterTAP models **are** Pyomo models, any advanced meta-algorithms or analysis tools that can be developed and/or used on a Pyomo model can also be used on an WaterTAP model.\n",
    "\n",
    "A full tutorial on Pyomo is beyond the scope of this introduction; however, in this section, we will briefly cover the commands required to specify an objective function or add a constraint to an existing model.\n",
    "\n",
    "In the next cell, we will create a Pyomo model, and add a couple of variables to that model."
   ]
  },
  {
   "cell_type": "code",
   "execution_count": 21,
   "metadata": {},
   "outputs": [],
   "source": [
    "from pyomo.environ import ConcreteModel, Var\n",
    "\n",
    "model = ConcreteModel()\n",
    "model.x = Var()\n",
    "model.y = Var()"
   ]
  },
  {
   "cell_type": "markdown",
   "metadata": {},
   "source": [
    "The Pyomo syntax to define a scalar objective function is shown below. This defines the objective function as $x^2$. By default Pyomo models (and IDAES models) seek to *minimize* the objective function.\n",
    "```python\n",
    "model.obj = Objective(expr=model.x**2)\n",
    "```\n",
    "To maximize a quantity, include the keyword argument `sense=maximize` as in the following:\n",
    "```python\n",
    "model.obj = Objective(expr=model.y, sense=maximize)\n",
    "```\n",
    "Note that `Objective` and `maximize` would need to be imported from `pyomo.environ`.\n",
    "\n",
    "The Pyomo syntax to define a scalar constraint is shown below. This code defines the equality constraint $x^2 + y^2 = 1$.\n",
    "```python\n",
    "model.on_unit_circle_con = Constraint(expr=model.x**2 + model.y**2 == 1)\n",
    "```\n",
    "Pyomo also supports inequalities. For example, the code for the inequality constraint $x^2 + y^2 \\le 1$ is given as the following.\n",
    "```python\n",
    "model.inside_unit_circle_con = Constraint(expr=model.x**2 + model.y**2 <= 1)\n",
    "```\n",
    "Note that, as before, we would need to include the appropriate imports. In this case `Constraint` would need to be imported from `pyomo.environ`.\n",
    "\n",
    "Using the syntax shown above, we will now add the objective function: $\\min x^2 + y^2$ and the constraint $x + y = 1$."
   ]
  },
  {
   "cell_type": "code",
   "execution_count": 22,
   "metadata": {
    "tags": [
     "solution"
    ]
   },
   "outputs": [
    {
     "name": "stdout",
     "output_type": "stream",
     "text": [
      "ipopt-watertap: ipopt with user variable scaling and IDAES jacobian constraint scaling\n",
      "Ipopt 3.13.2: tol=1e-08\n",
      "constr_viol_tol=1e-08\n",
      "acceptable_constr_viol_tol=1e-08\n",
      "bound_relax_factor=0.0\n",
      "honor_original_bounds=no\n",
      "nlp_scaling_method=user-scaling\n",
      "\n",
      "\n",
      "******************************************************************************\n",
      "This program contains Ipopt, a library for large-scale nonlinear optimization.\n",
      " Ipopt is released as open source code under the Eclipse Public License (EPL).\n",
      "         For more information visit http://projects.coin-or.org/Ipopt\n",
      "\n",
      "This version of Ipopt was compiled from source code available at\n",
      "    https://github.com/IDAES/Ipopt as part of the Institute for the Design of\n",
      "    Advanced Energy Systems Process Systems Engineering Framework (IDAES PSE\n",
      "    Framework) Copyright (c) 2018-2019. See https://github.com/IDAES/idaes-pse.\n",
      "\n",
      "This version of Ipopt was compiled using HSL, a collection of Fortran codes\n",
      "    for large-scale scientific computation.  All technical papers, sales and\n",
      "    publicity material resulting from use of the HSL codes within IPOPT must\n",
      "    contain the following acknowledgement:\n",
      "        HSL, a collection of Fortran codes for large-scale scientific\n",
      "        computation. See http://www.hsl.rl.ac.uk.\n",
      "******************************************************************************\n",
      "\n",
      "This is Ipopt version 3.13.2, running with linear solver ma27.\n",
      "\n",
      "Number of nonzeros in equality constraint Jacobian...:        2\n",
      "Number of nonzeros in inequality constraint Jacobian.:        0\n",
      "Number of nonzeros in Lagrangian Hessian.............:        2\n",
      "\n",
      "Total number of variables............................:        2\n",
      "                     variables with only lower bounds:        0\n",
      "                variables with lower and upper bounds:        0\n",
      "                     variables with only upper bounds:        0\n",
      "Total number of equality constraints.................:        1\n",
      "Total number of inequality constraints...............:        0\n",
      "        inequality constraints with only lower bounds:        0\n",
      "   inequality constraints with lower and upper bounds:        0\n",
      "        inequality constraints with only upper bounds:        0\n",
      "\n",
      "iter    objective    inf_pr   inf_du lg(mu)  ||d||  lg(rg) alpha_du alpha_pr  ls\n",
      "   0  0.0000000e+00 1.00e+00 0.00e+00  -1.0 0.00e+00    -  0.00e+00 0.00e+00   0\n",
      "   1  5.0000000e-01 0.00e+00 0.00e+00  -1.7 5.00e-01    -  1.00e+00 1.00e+00h  1\n",
      "\n",
      "Number of Iterations....: 1\n",
      "\n",
      "                                   (scaled)                 (unscaled)\n",
      "Objective...............:   5.0000000000000000e-01    5.0000000000000000e-01\n",
      "Dual infeasibility......:   0.0000000000000000e+00    0.0000000000000000e+00\n",
      "Constraint violation....:   0.0000000000000000e+00    0.0000000000000000e+00\n",
      "Complementarity.........:   0.0000000000000000e+00    0.0000000000000000e+00\n",
      "Overall NLP error.......:   0.0000000000000000e+00    0.0000000000000000e+00\n",
      "\n",
      "\n",
      "Number of objective function evaluations             = 2\n",
      "Number of objective gradient evaluations             = 2\n",
      "Number of equality constraint evaluations            = 2\n",
      "Number of inequality constraint evaluations          = 0\n",
      "Number of equality constraint Jacobian evaluations   = 2\n",
      "Number of inequality constraint Jacobian evaluations = 0\n",
      "Number of Lagrangian Hessian evaluations             = 1\n",
      "Total CPU secs in IPOPT (w/o function evaluations)   =      0.001\n",
      "Total CPU secs in NLP function evaluations           =      0.000\n",
      "\n",
      "EXIT: Optimal Solution Found.\n",
      "x = 0.5\n",
      "y = 0.5\n",
      "obj = 0.5\n"
     ]
    }
   ],
   "source": [
    "from pyomo.environ import Objective, Constraint, value, SolverFactory\n",
    "from watertap.core.solvers import get_solver\n",
    "\n",
    "# Adds the objective function\n",
    "model.obj = Objective(expr=model.x**2 + model.y**2)\n",
    "\n",
    "# Adds the constraint\n",
    "model.con = Constraint(expr=model.x + model.y == 1)\n",
    "\n",
    "# Solves the problem\n",
    "solver = get_solver()\n",
    "status = solver.solve(model, tee=True)  # tee=True shows the solver log\n",
    "\n",
    "# Prints the values of x, y, and the objective function at the solution\n",
    "# Note that the results are automatically stored in the model variables\n",
    "print(\"x =\", value(model.x))\n",
    "print(\"y =\", value(model.y))\n",
    "print(\"obj =\", value(model.obj))"
   ]
  },
  {
   "cell_type": "markdown",
   "metadata": {},
   "source": [
    "Notice that the code above also imported the `value` function. This is a Pyomo function that should be used to retrieve the value of variables in Pyomo (or WaterTAP) models. Note that you can display the complete list of all variables, objectives, and constraints (with their expressions) using `model.pprint()`. The `display` method is similar to the `pprint` method except that is shows the *values* of the constraints and objectives instead of the underlying expressions. The `pprint` and `display` methods can also be used on individual components."
   ]
  },
  {
   "cell_type": "code",
   "execution_count": 23,
   "metadata": {},
   "outputs": [
    {
     "name": "stdout",
     "output_type": "stream",
     "text": [
      "*** Output from model.pprint():\n",
      "2 Var Declarations\n",
      "    x : Size=1, Index=None\n",
      "        Key  : Lower : Value : Upper : Fixed : Stale : Domain\n",
      "        None :  None :   0.5 :  None : False : False :  Reals\n",
      "    y : Size=1, Index=None\n",
      "        Key  : Lower : Value : Upper : Fixed : Stale : Domain\n",
      "        None :  None :   0.5 :  None : False : False :  Reals\n",
      "\n",
      "1 Objective Declarations\n",
      "    obj : Size=1, Index=None, Active=True\n",
      "        Key  : Active : Sense    : Expression\n",
      "        None :   True : minimize : x**2 + y**2\n",
      "\n",
      "1 Constraint Declarations\n",
      "    con : Size=1, Index=None, Active=True\n",
      "        Key  : Lower : Body  : Upper : Active\n",
      "        None :   1.0 : x + y :   1.0 :   True\n",
      "\n",
      "1 Suffix Declarations\n",
      "    scaling_factor : Direction=EXPORT, Datatype=FLOAT\n",
      "        Key : Value\n",
      "\n",
      "5 Declarations: x y obj con scaling_factor\n",
      "\n",
      "*** Output from model.display():\n",
      "Model unknown\n",
      "\n",
      "  Variables:\n",
      "    x : Size=1, Index=None\n",
      "        Key  : Lower : Value : Upper : Fixed : Stale : Domain\n",
      "        None :  None :   0.5 :  None : False : False :  Reals\n",
      "    y : Size=1, Index=None\n",
      "        Key  : Lower : Value : Upper : Fixed : Stale : Domain\n",
      "        None :  None :   0.5 :  None : False : False :  Reals\n",
      "\n",
      "  Objectives:\n",
      "    obj : Size=1, Index=None, Active=True\n",
      "        Key  : Active : Value\n",
      "        None :   True :   0.5\n",
      "\n",
      "  Constraints:\n",
      "    con : Size=1\n",
      "        Key  : Lower : Body : Upper\n",
      "        None :   1.0 :  1.0 :   1.0\n"
     ]
    }
   ],
   "source": [
    "print(\"*** Output from model.pprint():\")\n",
    "model.pprint()\n",
    "\n",
    "print()\n",
    "print(\"*** Output from model.display():\")\n",
    "model.display()"
   ]
  },
  {
   "cell_type": "code",
   "execution_count": null,
   "metadata": {},
   "outputs": [],
   "source": []
  }
 ],
 "metadata": {
  "celltoolbar": "Tags",
  "kernelspec": {
   "display_name": "watertap-academy",
   "language": "python",
   "name": "watertap-academy"
  },
  "language_info": {
   "codemirror_mode": {
    "name": "ipython",
    "version": 3
   },
   "file_extension": ".py",
   "mimetype": "text/x-python",
   "name": "python",
   "nbconvert_exporter": "python",
   "pygments_lexer": "ipython3",
   "version": "3.11.14"
  }
 },
 "nbformat": 4,
 "nbformat_minor": 4
}
