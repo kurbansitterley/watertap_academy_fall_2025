{
 "cells": [
  {
   "cell_type": "markdown",
   "id": "b17601a6",
   "metadata": {},
   "source": [
    "# Week 0 Homework\n",
    "## Example 20-5 MWR\n",
    "### Theoretical stoichiometric calculation for Fe2+ and Mn2+ removal using KMnO4\n",
    "\n",
    "> *This example is taken from Chapter 20 of MWH's Water Treatment: Principles and Design (3rd ed.; DOI: 10.1002/9781118131473)*\n",
    "\n",
    "A groundwater containing 5 g/m3 Fe2+ and 2 g/m3 Mn2+ is processed at a flow rate of 100,000 m3/day.\n",
    "\n",
    "Potassium permanganate (KMnO4) is used to oxidize Fe2+ and Mn2+.\n",
    "\n",
    "Calculate the quantity (kg/d *and* lb/hr) of potassium permanganate required, alkalinity consumed as CaCO3, and quantity of sludge produced in total and for each ion (kg/d).\n",
    "\n",
    "Use the oxidation reactions for iron and manganese using KMnO4 as shown in Tables 20-8 and 20-10, respectively."
   ]
  },
  {
   "cell_type": "markdown",
   "id": "1ea023c7",
   "metadata": {},
   "source": [
    "<img src=\"MWH_Table_20-8.png\">\n",
    "<img src=\"MWH_Table_20-10.png\">"
   ]
  },
  {
   "cell_type": "markdown",
   "id": "2c8bef5f",
   "metadata": {},
   "source": [
    "## Problem statement\n",
    "\n",
    "Create a Pyomo model to solve the above problem with the following components:\n",
    "\n",
    "- Variables and Constraints\n",
    "    - Flow rate\n",
    "    - KMnO4 required for each inlet ion\n",
    "    - Alkalinity consumed for each inlet ion\n",
    "    - Sludge produced for each inlet ion\n",
    "\n",
    "- Parameters\n",
    "    - Initial concentration\n",
    "    - Conversion factors for KMnO4, alkalinity, and sludge from Table 20-8 and 20-10\n",
    "\n",
    "- Expressions\n",
    "    - Total KMnO4 required\n",
    "    - Total alkalinity consumed\n",
    "    - Total sludge produced\n",
    "\n",
    "The model should print:\n",
    "- Termination condition\n",
    "- Total KMnO4 required\n",
    "- Total alkalinity consumed\n",
    "- Total sludge produced\n",
    "- KMnO4 required for each inlet ion\n",
    "- Alkalinity consumed for each inlet ion\n",
    "- Sludge produced for each inlet ion\n",
    "\n",
    "Components should be indexed to `[\"Fe\", \"Mn\"]` where appropriate. If unit conversions are necessary, use `pyunits` (i.e., no hard-coded unit conversions)."
   ]
  },
  {
   "cell_type": "markdown",
   "id": "d260be23",
   "metadata": {},
   "source": [
    "## Required data and imports"
   ]
  },
  {
   "cell_type": "code",
   "execution_count": 1,
   "id": "35e8244e",
   "metadata": {},
   "outputs": [],
   "source": [
    "# Pyomo imports\n",
    "from pyomo.environ import (\n",
    "    ConcreteModel,\n",
    "    Var,\n",
    "    Param,\n",
    "    Constraint,\n",
    "    Expression,\n",
    "    SolverFactory,\n",
    "    value,\n",
    "    assert_optimal_termination,\n",
    "    units as pyunits,\n",
    ")\n",
    "\n",
    "# IDAES imports\n",
    "from idaes.core import FlowsheetBlock\n",
    "from idaes.core.util.model_statistics import degrees_of_freedom\n",
    "\n",
    "# WaterTAP imports\n",
    "from watertap.core.solvers import get_solver\n",
    "\n",
    "# Ion index\n",
    "ions = [\"Fe\", \"Mn\"]\n",
    "# Initial concentration, g/m3\n",
    "conc_init = {\"Fe\": 5, \"Mn\": 2}\n",
    "# Conversion to KMnO4 dose, g/g\n",
    "kmno4_conv_init = {\"Fe\": 0.94, \"Mn\": 1.92}\n",
    "# Conversion to alkalinity consumed, g/g\n",
    "alk_conv_init = {\"Fe\": 1.5, \"Mn\": 1.21}\n",
    "# Conversion to sludge produced, g/g\n",
    "sludge_conv_init = {\"Fe\": 2.43, \"Mn\": 2.64}"
   ]
  },
  {
   "cell_type": "markdown",
   "id": "dd970991",
   "metadata": {},
   "source": [
    "## Create model and flowsheet"
   ]
  },
  {
   "cell_type": "code",
   "execution_count": null,
   "id": "71961f15",
   "metadata": {},
   "outputs": [],
   "source": [
    "# create ConcreteModel and FlowsheetBlock"
   ]
  },
  {
   "cell_type": "markdown",
   "id": "f9132625",
   "metadata": {},
   "source": [
    "## Add parameters"
   ]
  },
  {
   "cell_type": "code",
   "execution_count": null,
   "id": "d4b29fcd",
   "metadata": {},
   "outputs": [],
   "source": [
    "# add Params\n",
    "\n",
    "# e.g.,\n",
    "# m.fs.aq_conc = Param(\n",
    "#     ions,\n",
    "#     initialize=???,\n",
    "#     units=???,\n",
    "#     doc=\"Aqueous concentration of ions\",\n",
    "# )"
   ]
  },
  {
   "cell_type": "markdown",
   "id": "f9650e35",
   "metadata": {},
   "source": [
    "## Add variables"
   ]
  },
  {
   "cell_type": "code",
   "execution_count": null,
   "id": "c8683009",
   "metadata": {},
   "outputs": [],
   "source": [
    "# add Vars\n",
    "\n",
    "# e.g.,\n",
    "# m.fs.kmno4_required = Var(\n",
    "#     ions,\n",
    "#     initialize=???,\n",
    "#     bounds=???,\n",
    "#     units=???,\n",
    "#     doc=\"Daily KMnO4 required per ion\",\n",
    "# )"
   ]
  },
  {
   "cell_type": "markdown",
   "id": "7360a0df",
   "metadata": {},
   "source": [
    "## Create constraints"
   ]
  },
  {
   "cell_type": "code",
   "execution_count": null,
   "id": "466b5123",
   "metadata": {},
   "outputs": [],
   "source": [
    "# add Constraints\n",
    "\n",
    "# e.g.,\n",
    "# def rule_kmno4_req(b, i):\n",
    "#     return b.kmno4_required[i] == ???\n",
    "\n",
    "# m.fs.kmno4_req_constr = Constraint(\n",
    "#     ions, rule=???, doc=\"KMnO4 requirement equation\"\n",
    "# )"
   ]
  },
  {
   "cell_type": "markdown",
   "id": "0f536d80",
   "metadata": {},
   "source": [
    "## Create expressions"
   ]
  },
  {
   "cell_type": "code",
   "execution_count": null,
   "id": "7fd4416f",
   "metadata": {},
   "outputs": [],
   "source": [
    "# add Expressions for total KMnO4 dose, alkalinity consumed, and sludge produced"
   ]
  },
  {
   "cell_type": "markdown",
   "id": "8c6a8d7e",
   "metadata": {},
   "source": [
    "## Fix inlet flow rate"
   ]
  },
  {
   "cell_type": "code",
   "execution_count": null,
   "id": "925a1964",
   "metadata": {},
   "outputs": [],
   "source": [
    "# .fix inlet flow rate"
   ]
  },
  {
   "cell_type": "markdown",
   "id": "c312d3e5",
   "metadata": {},
   "source": [
    "## Check degrees of freedom"
   ]
  },
  {
   "cell_type": "code",
   "execution_count": 5,
   "id": "6b5719f4",
   "metadata": {},
   "outputs": [],
   "source": [
    "# check degrees of freedom\n",
    "# there should be zero"
   ]
  },
  {
   "cell_type": "markdown",
   "id": "ef104a7e",
   "metadata": {},
   "source": [
    "## Create `solver` "
   ]
  },
  {
   "cell_type": "code",
   "execution_count": null,
   "id": "3f9e2d00",
   "metadata": {},
   "outputs": [],
   "source": [
    "# create solver"
   ]
  },
  {
   "cell_type": "markdown",
   "id": "c57e1e9b",
   "metadata": {},
   "source": [
    "## Solve model and check termination condition "
   ]
  },
  {
   "cell_type": "code",
   "execution_count": null,
   "id": "1b2f73c5",
   "metadata": {},
   "outputs": [],
   "source": [
    "# solve model\n",
    "# check termination condition"
   ]
  },
  {
   "cell_type": "markdown",
   "id": "18150489",
   "metadata": {},
   "source": [
    "## Print results "
   ]
  },
  {
   "cell_type": "code",
   "execution_count": null,
   "id": "d6436f5c",
   "metadata": {},
   "outputs": [],
   "source": [
    "# print results\n",
    "# for each ion and total"
   ]
  }
 ],
 "metadata": {
  "kernelspec": {
   "display_name": "watertap-academy",
   "language": "python",
   "name": "python3"
  },
  "language_info": {
   "codemirror_mode": {
    "name": "ipython",
    "version": 3
   },
   "file_extension": ".py",
   "mimetype": "text/x-python",
   "name": "python",
   "nbconvert_exporter": "python",
   "pygments_lexer": "ipython3",
   "version": "3.11.14"
  }
 },
 "nbformat": 4,
 "nbformat_minor": 5
}
