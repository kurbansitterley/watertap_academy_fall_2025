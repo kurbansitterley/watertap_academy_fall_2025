{
 "cells": [
  {
   "cell_type": "markdown",
   "id": "b17601a6",
   "metadata": {},
   "source": [
    "# Week 0 Homework\n",
    "## Example 20-5 MWR\n",
    "### Theoretical stoichiometric calculation for Fe2+ and Mn2+ removal using KMnO4\n",
    "\n",
    "> *This example is taken from Chapter 20 of MWH's Water Treatment: Principles and Design (3rd ed.; DOI: 10.1002/9781118131473)*\n",
    "\n",
    "A groundwater containing 5 g/m3 Fe2+ and 2 g/m3 Mn2+ is processed at a flow rate of 100,000 m3/day.\n",
    "\n",
    "Potassium permanganate (KMnO4) is used to oxidize Fe2+ and Mn2+.\n",
    "\n",
    "Calculate the quantity (kg/d *and* lb/hr) of potassium permanganate required, alkalinity consumed as CaCO3, and quantity of sludge produced in total and for each ion (kg/d).\n",
    "\n",
    "Use the oxidation reactions for iron and manganese using KMnO4 as shown in Tables 20-8 and 20-10, respectively."
   ]
  },
  {
   "cell_type": "markdown",
   "id": "1ea023c7",
   "metadata": {},
   "source": [
    "<img src=\"MWH_Table_20-8.png\">\n",
    "<img src=\"MWH_Table_20-10.png\">"
   ]
  },
  {
   "cell_type": "markdown",
   "id": "2c8bef5f",
   "metadata": {},
   "source": [
    "## Problem statement\n",
    "\n",
    "Create a Pyomo model to solve the above problem with the following components:\n",
    "\n",
    "- Variables and Constraints\n",
    "    - Flow rate\n",
    "    - KMnO4 required for each inlet ion\n",
    "    - Alkalinity consumed for each inlet ion\n",
    "    - Sludge produced for each inlet ion\n",
    "\n",
    "- Parameters\n",
    "    - Initial concentration\n",
    "    - Conversion factors for KMnO4, alkalinity, and sludge from Table 20-8 and 20-10\n",
    "\n",
    "- Expressions\n",
    "    - Total KMnO4 required\n",
    "    - Total alkalinity consumed\n",
    "    - Total sludge produced\n",
    "\n",
    "The model should print:\n",
    "- Termination condition\n",
    "- Total KMnO4 required\n",
    "- Total alkalinity consumed\n",
    "- Total sludge produced\n",
    "- KMnO4 required for each inlet ion\n",
    "- Alkalinity consumed for each inlet ion\n",
    "- Sludge produced for each inlet ion\n",
    "\n",
    "Components should be indexed to `[\"Fe\", \"Mn\"]` where appropriate. If unit conversions are necessary, use `pyunits` (i.e., no hard-coded unit conversions)."
   ]
  },
  {
   "cell_type": "markdown",
   "id": "d260be23",
   "metadata": {},
   "source": [
    "## Required data and imports"
   ]
  },
  {
   "cell_type": "code",
   "execution_count": 6,
   "id": "35e8244e",
   "metadata": {},
   "outputs": [
    {
     "ename": "FileNotFoundError",
     "evalue": "[Errno 2] No such file or directory",
     "output_type": "error",
     "traceback": [
      "\u001b[31m---------------------------------------------------------------------------\u001b[39m",
      "\u001b[31mFileNotFoundError\u001b[39m                         Traceback (most recent call last)",
      "\u001b[36mCell\u001b[39m\u001b[36m \u001b[39m\u001b[32mIn[6]\u001b[39m\u001b[32m, line 15\u001b[39m\n\u001b[32m      2\u001b[39m \u001b[38;5;28;01mfrom\u001b[39;00m\u001b[38;5;250m \u001b[39m\u001b[34;01mpyomo\u001b[39;00m\u001b[34;01m.\u001b[39;00m\u001b[34;01menviron\u001b[39;00m\u001b[38;5;250m \u001b[39m\u001b[38;5;28;01mimport\u001b[39;00m (\n\u001b[32m      3\u001b[39m     ConcreteModel,\n\u001b[32m      4\u001b[39m     Var,\n\u001b[32m   (...)\u001b[39m\u001b[32m     11\u001b[39m     units \u001b[38;5;28;01mas\u001b[39;00m pyunits,\n\u001b[32m     12\u001b[39m )\n\u001b[32m     14\u001b[39m \u001b[38;5;66;03m# IDAES imports\u001b[39;00m\n\u001b[32m---> \u001b[39m\u001b[32m15\u001b[39m \u001b[38;5;28;01mfrom\u001b[39;00m\u001b[38;5;250m \u001b[39m\u001b[34;01midaes\u001b[39;00m\u001b[34;01m.\u001b[39;00m\u001b[34;01mcore\u001b[39;00m\u001b[38;5;250m \u001b[39m\u001b[38;5;28;01mimport\u001b[39;00m FlowsheetBlock\n\u001b[32m     16\u001b[39m \u001b[38;5;28;01mfrom\u001b[39;00m\u001b[38;5;250m \u001b[39m\u001b[34;01midaes\u001b[39;00m\u001b[34;01m.\u001b[39;00m\u001b[34;01mcore\u001b[39;00m\u001b[34;01m.\u001b[39;00m\u001b[34;01mutil\u001b[39;00m\u001b[34;01m.\u001b[39;00m\u001b[34;01mmodel_statistics\u001b[39;00m\u001b[38;5;250m \u001b[39m\u001b[38;5;28;01mimport\u001b[39;00m degrees_of_freedom\n\u001b[32m     18\u001b[39m \u001b[38;5;66;03m# WaterTAP imports\u001b[39;00m\n",
      "\u001b[36mFile \u001b[39m\u001b[32m~/opt/anaconda3/envs/watertap-academy/lib/python3.11/site-packages/idaes/__init__.py:107\u001b[39m\n\u001b[32m    103\u001b[39m             libraries.append(lib)\n\u001b[32m    104\u001b[39m     os.environ[var_name] = sep.join(libraries)\n\u001b[32m--> \u001b[39m\u001b[32m107\u001b[39m \u001b[43m_ensure_external_functions_libs_in_env\u001b[49m\u001b[43m(\u001b[49m\n\u001b[32m    108\u001b[39m \u001b[43m    \u001b[49m\u001b[43m[\u001b[49m\u001b[33;43m\"\u001b[39;49m\u001b[33;43mcubic_roots\u001b[39;49m\u001b[33;43m\"\u001b[39;49m\u001b[43m,\u001b[49m\u001b[43m \u001b[49m\u001b[33;43m\"\u001b[39;49m\u001b[33;43mgeneral_helmholtz_external\u001b[39;49m\u001b[33;43m\"\u001b[39;49m\u001b[43m,\u001b[49m\u001b[43m \u001b[49m\u001b[33;43m\"\u001b[39;49m\u001b[33;43mfunctions\u001b[39;49m\u001b[33;43m\"\u001b[39;49m\u001b[43m]\u001b[49m\n\u001b[32m    109\u001b[39m \u001b[43m)\u001b[49m\n\u001b[32m    112\u001b[39m \u001b[38;5;28;01mdef\u001b[39;00m\u001b[38;5;250m \u001b[39m\u001b[34m_create_data_dir\u001b[39m():\n\u001b[32m    113\u001b[39m \u001b[38;5;250m    \u001b[39m\u001b[33;03m\"\"\"Create the IDAES directory to store data files in.\"\"\"\u001b[39;00m\n",
      "\u001b[36mFile \u001b[39m\u001b[32m~/opt/anaconda3/envs/watertap-academy/lib/python3.11/site-packages/idaes/__init__.py:101\u001b[39m, in \u001b[36m_ensure_external_functions_libs_in_env\u001b[39m\u001b[34m(ext_funcs, var_name, sep)\u001b[39m\n\u001b[32m     99\u001b[39m libraries = [lib \u001b[38;5;28;01mfor\u001b[39;00m lib \u001b[38;5;129;01min\u001b[39;00m libraries_str.split(sep) \u001b[38;5;28;01mif\u001b[39;00m lib.strip()]\n\u001b[32m    100\u001b[39m \u001b[38;5;28;01mfor\u001b[39;00m func_name \u001b[38;5;129;01min\u001b[39;00m ext_funcs:\n\u001b[32m--> \u001b[39m\u001b[32m101\u001b[39m     lib: Optional[\u001b[38;5;28mstr\u001b[39m] = \u001b[43mfind_library\u001b[49m\u001b[43m(\u001b[49m\u001b[43mos\u001b[49m\u001b[43m.\u001b[49m\u001b[43mpath\u001b[49m\u001b[43m.\u001b[49m\u001b[43mjoin\u001b[49m\u001b[43m(\u001b[49m\u001b[43mbin_directory\u001b[49m\u001b[43m,\u001b[49m\u001b[43m \u001b[49m\u001b[43mfunc_name\u001b[49m\u001b[43m)\u001b[49m\u001b[43m)\u001b[49m\n\u001b[32m    102\u001b[39m     \u001b[38;5;28;01mif\u001b[39;00m lib \u001b[38;5;129;01mis\u001b[39;00m \u001b[38;5;129;01mnot\u001b[39;00m \u001b[38;5;28;01mNone\u001b[39;00m \u001b[38;5;129;01mand\u001b[39;00m lib \u001b[38;5;129;01mnot\u001b[39;00m \u001b[38;5;129;01min\u001b[39;00m libraries:\n\u001b[32m    103\u001b[39m         libraries.append(lib)\n",
      "\u001b[36mFile \u001b[39m\u001b[32m~/opt/anaconda3/envs/watertap-academy/lib/python3.11/site-packages/pyomo/common/fileutils.py:374\u001b[39m, in \u001b[36mfind_library\u001b[39m\u001b[34m(libname, cwd, include_PATH, pathlist)\u001b[39m\n\u001b[32m    372\u001b[39m ext = _libExt.get(_system(), \u001b[38;5;28;01mNone\u001b[39;00m)\n\u001b[32m    373\u001b[39m \u001b[38;5;66;03m# Search 1: original filename (with extensions) in our paths\u001b[39;00m\n\u001b[32m--> \u001b[39m\u001b[32m374\u001b[39m lib = \u001b[43mfind_file\u001b[49m\u001b[43m(\u001b[49m\u001b[43mlibname\u001b[49m\u001b[43m,\u001b[49m\u001b[43m \u001b[49m\u001b[43mcwd\u001b[49m\u001b[43m=\u001b[49m\u001b[43mcwd\u001b[49m\u001b[43m,\u001b[49m\u001b[43m \u001b[49m\u001b[43mext\u001b[49m\u001b[43m=\u001b[49m\u001b[43mext\u001b[49m\u001b[43m,\u001b[49m\u001b[43m \u001b[49m\u001b[43mpathlist\u001b[49m\u001b[43m=\u001b[49m\u001b[43mpathlist\u001b[49m\u001b[43m)\u001b[49m\n\u001b[32m    375\u001b[39m \u001b[38;5;28;01mif\u001b[39;00m lib \u001b[38;5;129;01mis\u001b[39;00m \u001b[38;5;28;01mNone\u001b[39;00m \u001b[38;5;129;01mand\u001b[39;00m \u001b[38;5;129;01mnot\u001b[39;00m libname.startswith(\u001b[33m'\u001b[39m\u001b[33mlib\u001b[39m\u001b[33m'\u001b[39m):\n\u001b[32m    376\u001b[39m     \u001b[38;5;66;03m# Search 2: prepend 'lib' (with extensions) in our paths\u001b[39;00m\n\u001b[32m    377\u001b[39m     lib = find_file(\u001b[33m'\u001b[39m\u001b[33mlib\u001b[39m\u001b[33m'\u001b[39m + libname, cwd=cwd, ext=ext, pathlist=pathlist)\n",
      "\u001b[36mFile \u001b[39m\u001b[32m~/opt/anaconda3/envs/watertap-academy/lib/python3.11/site-packages/pyomo/common/fileutils.py:224\u001b[39m, in \u001b[36mfind_file\u001b[39m\u001b[34m(filename, cwd, mode, ext, pathlist, allow_pathlist_deep_references)\u001b[39m\n\u001b[32m    171\u001b[39m \u001b[38;5;28;01mdef\u001b[39;00m\u001b[38;5;250m \u001b[39m\u001b[34mfind_file\u001b[39m(\n\u001b[32m    172\u001b[39m     filename,\n\u001b[32m    173\u001b[39m     cwd=\u001b[38;5;28;01mTrue\u001b[39;00m,\n\u001b[32m   (...)\u001b[39m\u001b[32m    177\u001b[39m     allow_pathlist_deep_references=\u001b[38;5;28;01mTrue\u001b[39;00m,\n\u001b[32m    178\u001b[39m ):\n\u001b[32m    179\u001b[39m \u001b[38;5;250m    \u001b[39m\u001b[33;03m\"\"\"Locate a file, given a set of search parameters\u001b[39;00m\n\u001b[32m    180\u001b[39m \n\u001b[32m    181\u001b[39m \u001b[33;03m    Parameters\u001b[39;00m\n\u001b[32m   (...)\u001b[39m\u001b[32m    222\u001b[39m \n\u001b[32m    223\u001b[39m \u001b[33;03m    \"\"\"\u001b[39;00m\n\u001b[32m--> \u001b[39m\u001b[32m224\u001b[39m     \u001b[38;5;28;01mreturn\u001b[39;00m \u001b[43mfind_path\u001b[49m\u001b[43m(\u001b[49m\n\u001b[32m    225\u001b[39m \u001b[43m        \u001b[49m\u001b[43mfilename\u001b[49m\u001b[43m,\u001b[49m\n\u001b[32m    226\u001b[39m \u001b[43m        \u001b[49m\u001b[43mos\u001b[49m\u001b[43m.\u001b[49m\u001b[43mpath\u001b[49m\u001b[43m.\u001b[49m\u001b[43misfile\u001b[49m\u001b[43m,\u001b[49m\n\u001b[32m    227\u001b[39m \u001b[43m        \u001b[49m\u001b[43mcwd\u001b[49m\u001b[43m=\u001b[49m\u001b[43mcwd\u001b[49m\u001b[43m,\u001b[49m\n\u001b[32m    228\u001b[39m \u001b[43m        \u001b[49m\u001b[43mmode\u001b[49m\u001b[43m=\u001b[49m\u001b[43mmode\u001b[49m\u001b[43m,\u001b[49m\n\u001b[32m    229\u001b[39m \u001b[43m        \u001b[49m\u001b[43mext\u001b[49m\u001b[43m=\u001b[49m\u001b[43mext\u001b[49m\u001b[43m,\u001b[49m\n\u001b[32m    230\u001b[39m \u001b[43m        \u001b[49m\u001b[43mpathlist\u001b[49m\u001b[43m=\u001b[49m\u001b[43mpathlist\u001b[49m\u001b[43m,\u001b[49m\n\u001b[32m    231\u001b[39m \u001b[43m        \u001b[49m\u001b[43mallow_pathlist_deep_references\u001b[49m\u001b[43m=\u001b[49m\u001b[43mallow_pathlist_deep_references\u001b[49m\u001b[43m,\u001b[49m\n\u001b[32m    232\u001b[39m \u001b[43m    \u001b[49m\u001b[43m)\u001b[49m\n",
      "\u001b[36mFile \u001b[39m\u001b[32m~/opt/anaconda3/envs/watertap-academy/lib/python3.11/site-packages/pyomo/common/fileutils.py:143\u001b[39m, in \u001b[36mfind_path\u001b[39m\u001b[34m(name, validate, cwd, mode, ext, pathlist, allow_pathlist_deep_references)\u001b[39m\n\u001b[32m    141\u001b[39m locations = []\n\u001b[32m    142\u001b[39m \u001b[38;5;28;01mif\u001b[39;00m cwd:\n\u001b[32m--> \u001b[39m\u001b[32m143\u001b[39m     locations.append(\u001b[43mos\u001b[49m\u001b[43m.\u001b[49m\u001b[43mgetcwd\u001b[49m\u001b[43m(\u001b[49m\u001b[43m)\u001b[49m)\n\u001b[32m    145\u001b[39m \u001b[38;5;28;01mif\u001b[39;00m allow_pathlist_deep_references \u001b[38;5;129;01mor\u001b[39;00m os.path.basename(name) == name:\n\u001b[32m    146\u001b[39m     \u001b[38;5;28;01mif\u001b[39;00m \u001b[38;5;28misinstance\u001b[39m(pathlist, \u001b[38;5;28mstr\u001b[39m):\n",
      "\u001b[31mFileNotFoundError\u001b[39m: [Errno 2] No such file or directory"
     ]
    }
   ],
   "source": [
    "# Pyomo imports\n",
    "from pyomo.environ import (\n",
    "    ConcreteModel,\n",
    "    Var,\n",
    "    Param,\n",
    "    Constraint,\n",
    "    Expression,\n",
    "    SolverFactory,\n",
    "    value,\n",
    "    assert_optimal_termination,\n",
    "    units as pyunits,\n",
    ")\n",
    "\n",
    "# IDAES imports\n",
    "from idaes.core import FlowsheetBlock\n",
    "from idaes.core.util.model_statistics import degrees_of_freedom\n",
    "\n",
    "# WaterTAP imports\n",
    "from watertap.core.solvers import get_solver\n",
    "\n",
    "# Ion index\n",
    "ions = [\"Fe\", \"Mn\"]\n",
    "# Initial concentration, g/m3\n",
    "conc_init = {\"Fe\": 5, \"Mn\": 2}\n",
    "# Conversion to KMnO4 dose, g/g\n",
    "kmno4_conv_init = {\"Fe\": 0.94, \"Mn\": 1.92}\n",
    "# Conversion to alkalinity consumed, g/g\n",
    "alk_conv_init = {\"Fe\": 1.5, \"Mn\": 1.21}\n",
    "# Conversion to sludge produced, g/g\n",
    "sludge_conv_init = {\"Fe\": 2.43, \"Mn\": 2.64}"
   ]
  },
  {
   "cell_type": "markdown",
   "id": "596f77b1",
   "metadata": {},
   "source": [
    "## Make necessary imports"
   ]
  },
  {
   "cell_type": "code",
   "execution_count": null,
   "id": "b331695a",
   "metadata": {},
   "outputs": [],
   "source": [
    "# Import the necessary modules"
   ]
  },
  {
   "cell_type": "markdown",
   "id": "dd970991",
   "metadata": {},
   "source": [
    "## Create ConcreteModel"
   ]
  },
  {
   "cell_type": "code",
   "execution_count": null,
   "id": "71961f15",
   "metadata": {},
   "outputs": [],
   "source": [
    "# create ConcreteModel and FlowsheetBlock"
   ]
  },
  {
   "cell_type": "markdown",
   "id": "f9132625",
   "metadata": {},
   "source": [
    "## Add parameters"
   ]
  },
  {
   "cell_type": "code",
   "execution_count": null,
   "id": "d4b29fcd",
   "metadata": {},
   "outputs": [],
   "source": [
    "# add Params"
   ]
  },
  {
   "cell_type": "markdown",
   "id": "f9650e35",
   "metadata": {},
   "source": [
    "## Add variables"
   ]
  },
  {
   "cell_type": "code",
   "execution_count": 3,
   "id": "c8683009",
   "metadata": {},
   "outputs": [],
   "source": [
    "# add Vars"
   ]
  },
  {
   "cell_type": "markdown",
   "id": "7360a0df",
   "metadata": {},
   "source": [
    "## Create constraints"
   ]
  },
  {
   "cell_type": "code",
   "execution_count": 4,
   "id": "466b5123",
   "metadata": {},
   "outputs": [],
   "source": [
    "# add Constraints"
   ]
  },
  {
   "cell_type": "markdown",
   "id": "0f536d80",
   "metadata": {},
   "source": [
    "## Create expressions"
   ]
  },
  {
   "cell_type": "code",
   "execution_count": null,
   "id": "7fd4416f",
   "metadata": {},
   "outputs": [],
   "source": [
    "# add Expressions"
   ]
  },
  {
   "cell_type": "markdown",
   "id": "8c6a8d7e",
   "metadata": {},
   "source": [
    "## Fix inlet flow rate"
   ]
  },
  {
   "cell_type": "code",
   "execution_count": null,
   "id": "925a1964",
   "metadata": {},
   "outputs": [],
   "source": [
    "# .fix inlet flow rate"
   ]
  },
  {
   "cell_type": "markdown",
   "id": "c312d3e5",
   "metadata": {},
   "source": [
    "## Check degrees of freedom"
   ]
  },
  {
   "cell_type": "code",
   "execution_count": 5,
   "id": "6b5719f4",
   "metadata": {},
   "outputs": [],
   "source": [
    "# check degrees of freedom\n",
    "# there should be zero"
   ]
  },
  {
   "cell_type": "markdown",
   "id": "ef104a7e",
   "metadata": {},
   "source": [
    "## Create `solver` "
   ]
  },
  {
   "cell_type": "code",
   "execution_count": null,
   "id": "3f9e2d00",
   "metadata": {},
   "outputs": [],
   "source": [
    "# create solver"
   ]
  },
  {
   "cell_type": "markdown",
   "id": "c57e1e9b",
   "metadata": {},
   "source": [
    "## Solve model and check termination condition "
   ]
  },
  {
   "cell_type": "code",
   "execution_count": null,
   "id": "1b2f73c5",
   "metadata": {},
   "outputs": [],
   "source": [
    "# solve model\n",
    "# check termination condition"
   ]
  },
  {
   "cell_type": "markdown",
   "id": "18150489",
   "metadata": {},
   "source": [
    "## Print results "
   ]
  },
  {
   "cell_type": "code",
   "execution_count": null,
   "id": "d6436f5c",
   "metadata": {},
   "outputs": [],
   "source": [
    "# print results\n",
    "# for each ion and total"
   ]
  }
 ],
 "metadata": {
  "kernelspec": {
   "display_name": "watertap-academy",
   "language": "python",
   "name": "python3"
  },
  "language_info": {
   "codemirror_mode": {
    "name": "ipython",
    "version": 3
   },
   "file_extension": ".py",
   "mimetype": "text/x-python",
   "name": "python",
   "nbconvert_exporter": "python",
   "pygments_lexer": "ipython3",
   "version": "3.11.14"
  }
 },
 "nbformat": 4,
 "nbformat_minor": 5
}
