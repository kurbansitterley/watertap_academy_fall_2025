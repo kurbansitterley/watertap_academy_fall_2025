{
 "cells": [
  {
   "cell_type": "markdown",
   "id": "949ae5d5-d0b1-4269-87e6-29b8f3df0071",
   "metadata": {},
   "source": [
    "# Introduction to Pyomo for WaterTAP Users\n",
    "\n",
    "### [WaterTAP](https://watertap.readthedocs.io/en/stable/) is built on [IDAES](https://idaes-pse.readthedocs.io/en/stable/), which itself is built on [Pyomo](https://pyomo.readthedocs.io/en/stable/). \n",
    "\n",
    "Pyomo is software package for formulating, solving, and analyzing optimization models. Knowing how to interact with these components is important for being able to use WaterTAP.\n",
    "\n",
    "The fundamental Pyomo components used throughout WaterTAP are:\n",
    "- `Var`: unknown values in the model, i.e., values we are trying to optimize in our model.\n",
    "- `Constraint`: equations relating model variables and parameters to each other.\n",
    "- `Param`: data that must be provided in order to find optimal values for the decision variables.\n",
    "- `Expression`: non-constraint relationship between modeling components.\n",
    "\n",
    "This tutorial goes step-by-step of creating a few different Pyomo models and highlights some important syntax and methods to be aware of when interacting with these Pyomo components in WaterTAP models.\n",
    "\n",
    "> ### Note: This tutorial intends to introduce some important concepts and components from Pyomo that are used extensively in WaterTAP. Implementation of models in WaterTAP is slightly different."
   ]
  },
  {
   "cell_type": "markdown",
   "id": "8b341ed5-62f3-4484-a7e9-82ad3c7bde87",
   "metadata": {},
   "source": [
    "# Make necessary imports\n",
    "\n",
    "The imports below represent the most commonly used Pyomo components in WaterTAP."
   ]
  },
  {
   "cell_type": "code",
   "execution_count": null,
   "id": "1a70befd-fbd4-4f50-912e-b3e5dc0f4062",
   "metadata": {},
   "outputs": [],
   "source": [
    "from pyomo.environ import (\n",
    "    ConcreteModel,\n",
    "    Var,\n",
    "    Set,\n",
    "    Param,\n",
    "    Constraint,\n",
    "    Expression,\n",
    "    check_optimal_termination,\n",
    "    assert_optimal_termination,\n",
    "    value,\n",
    "    NonNegativeReals,\n",
    "    SolverFactory,\n",
    "    exp,\n",
    "    units as pyunits,\n",
    ")\n",
    "from pyomo.util.check_units import assert_units_consistent\n",
    "\n",
    "from idaes.core import FlowsheetBlock\n",
    "from idaes.core.util.model_statistics import degrees_of_freedom\n",
    "\n",
    "from watertap.core.solvers import get_solver"
   ]
  },
  {
   "cell_type": "markdown",
   "id": "26b4130f-0cdf-4128-b272-f5ae2278d67c",
   "metadata": {},
   "source": [
    "# Creating Pyomo model\n",
    "\n",
    "The `ConcreteModel` is the base object for a Pyomo and WaterTAP model. All other variables, parameters, constraints, etc. are built upon this object.\n",
    "    \n",
    "No arguments are necessary. Convention is to call the local object `m` or `model`, but it can be called whatever you want.\n"
   ]
  },
  {
   "cell_type": "code",
   "execution_count": null,
   "id": "69bb190a-aa70-4bac-9aa7-feb03c467eaa",
   "metadata": {},
   "outputs": [],
   "source": [
    "# Instantiate model as instance of a ConcreteModel object\n",
    "m = ConcreteModel()\n",
    "m.fs = FlowsheetBlock(dynamic=False)  # Create a flowsheet block"
   ]
  },
  {
   "cell_type": "markdown",
   "id": "1876611b-e796-4829-8cc3-41ed1ed3dbdc",
   "metadata": {},
   "source": [
    "# Displaying the model\n",
    "\n",
    "We call the `.display()` method to see variables, objectives, and constraints on the model."
   ]
  },
  {
   "cell_type": "code",
   "execution_count": null,
   "id": "6d7e2029-42f6-4127-8746-a867c2ba80eb",
   "metadata": {},
   "outputs": [],
   "source": [
    "# Call the display method to show variables, objectives, and constraints on the model\n",
    "m.fs.display()"
   ]
  },
  {
   "cell_type": "markdown",
   "id": "d708b6fc-d0c7-446b-84d1-95bf889fdd6b",
   "metadata": {},
   "source": [
    "# Adding variables\n",
    "\n",
    "To represent the different legs of the right triangle, we add three variables - `A`, `B`, and `C` as `Var`\n",
    "\n",
    "Common (and optional) keyword arguments to `Var`:\n",
    "- `initialize` - the initial value for the variable\n",
    "- `domain` - possible values the variable can take\n",
    "- `bounds` - limits on the values the variable can take\n",
    "- `units` - physical dimensions for the variable (note: more detail on units is provided later in this tutorial)\n",
    "- `doc` - description of the variable"
   ]
  },
  {
   "cell_type": "code",
   "execution_count": null,
   "id": "0bd58a31-a024-4ef1-a574-8ff931853082",
   "metadata": {},
   "outputs": [],
   "source": [
    "m.fs.A = Var(\n",
    "    initialize=10,\n",
    "    domain=NonNegativeReals,\n",
    "    bounds=(0, None),\n",
    "    units=pyunits.m,\n",
    "    doc=\"Model variable A for one leg of a right triangle\",\n",
    ")\n",
    "m.fs.B = Var(\n",
    "    initialize=10,\n",
    "    domain=NonNegativeReals,\n",
    "    bounds=(0, None),\n",
    "    units=pyunits.m,\n",
    "    doc=\"Model variable B for the other leg of a right triangle\",\n",
    ")\n",
    "m.fs.C = Var(\n",
    "    initialize=10,\n",
    "    domain=NonNegativeReals,\n",
    "    bounds=(0, None),\n",
    "    units=pyunits.m,\n",
    "    doc=\"Model variable C for the hypotenuse of a right triangle\",\n",
    ")\n",
    "\n",
    "m.fs.display()"
   ]
  },
  {
   "cell_type": "markdown",
   "id": "4488a414-3b60-44f6-9df0-dab3b5a2eac9",
   "metadata": {},
   "source": [
    "# Adding constraints\n",
    "\n",
    "Now we add constraints relating our three variables with the Pythagorean Theorem:\n",
    "\n",
    "### $A^2 + B^2 = C^2$\n",
    "\n",
    "The relationship for a `Constraint` can be added in a few ways. Here, we use the `expr` keyword to directly implement the relationship. \n",
    "\n",
    "Note that we are using the *equality operator* (`==`) rather than the *assignment operator* (`=`)."
   ]
  },
  {
   "cell_type": "code",
   "execution_count": null,
   "id": "e9df1ded-b79b-4796-ba3d-c9fc15059d0a",
   "metadata": {},
   "outputs": [],
   "source": [
    "m.fs.pythagorean = Constraint(\n",
    "    expr=m.fs.A**2 + m.fs.B**2 == m.fs.C**2, doc=\"Pythagorean theorem\"\n",
    ")"
   ]
  },
  {
   "cell_type": "markdown",
   "id": "6a0d9fef-6e66-47e6-9265-6f6b3c34d31a",
   "metadata": {},
   "source": [
    "# Check degrees of freedom (DOF)\n",
    "\n",
    "The degrees of freedom for the model are determined using the `degrees_of_freedom()` function."
   ]
  },
  {
   "cell_type": "code",
   "execution_count": null,
   "id": "d5f9bb29-a062-4142-9f6a-ce4d24348a95",
   "metadata": {},
   "outputs": [],
   "source": [
    "dof = degrees_of_freedom(m)\n",
    "print(f\"Degrees of Freedom: {dof}\")"
   ]
  },
  {
   "cell_type": "markdown",
   "id": "1759e2b4-af88-48c3-b260-4bb69edcdd4c",
   "metadata": {},
   "source": [
    "With two DOF, we can add another `Constraint` to further constrain the problem.\n",
    "\n",
    "Let's say we know `A` and `B` are related with:\n",
    "\n",
    "### $ A = P \\times B $\n",
    "\n",
    "We add a `Param` to represent the ratio between `A` and `B`. The `Param` has some of the same keywords as `Var`. Here we specify `mutable=True` to indicate that we want to be able to change the parameter value after construction."
   ]
  },
  {
   "cell_type": "code",
   "execution_count": null,
   "id": "a512406b-03c5-422b-ad03-af1d81e4121a",
   "metadata": {},
   "outputs": [],
   "source": [
    "m.fs.P = Param(\n",
    "    initialize=3,\n",
    "    mutable=True,\n",
    "    units=pyunits.dimensionless,\n",
    "    doc=\"Ratio between two legs of traiangle\",\n",
    ")\n",
    "\n",
    "\n",
    "# An alternative way to define the constraint is via a decorator.\n",
    "# This is equivalent to the approach we took earlier to define m.pythagorean.\n",
    "@m.fs.Constraint(doc=\"Equation relating A and B\")\n",
    "def A_B_relation(b):\n",
    "    return b.A == b.B * b.P\n",
    "\n",
    "\n",
    "# m.A_B_relation = Constraint(expr=m.A == m.B * m.P, doc=\"Equation relating A and B\")\n",
    "\n",
    "# You can use both the display and pprint methods on Vars, Params, and Constraints as well.\n",
    "m.fs.A_B_relation.pprint()\n",
    "m.fs.A_B_relation.display()\n",
    "\n",
    "dof = degrees_of_freedom(m)\n",
    "print(f\"Degrees of Freedom: {dof}\")"
   ]
  },
  {
   "cell_type": "markdown",
   "id": "6d42f3d9",
   "metadata": {},
   "source": [
    "# Fixing variables\n",
    "\n",
    "At this point, the model still has 1 DOF. We can specify the length of one of our triangle sides using the `.fix()` method on a `Var`"
   ]
  },
  {
   "cell_type": "code",
   "execution_count": null,
   "id": "be304a02",
   "metadata": {},
   "outputs": [],
   "source": [
    "m.fs.A.fix(5)\n",
    "\n",
    "dof = degrees_of_freedom(m)\n",
    "print(f\"Degrees of Freedom: {dof}\")\n",
    "\n",
    "# We can just as easily unfix the variable:\n",
    "m.fs.A.unfix()\n",
    "\n",
    "dof = degrees_of_freedom(m)\n",
    "print(f\"Degrees of Freedom: {dof}\")"
   ]
  },
  {
   "cell_type": "markdown",
   "id": "ffed2182",
   "metadata": {},
   "source": [
    "# Solving the model\n",
    "\n",
    "Now we create the solver by calling `get_solver()`. Alternatively, we could use the version of IPOPT from Pyomo's `SolverFactory`."
   ]
  },
  {
   "cell_type": "code",
   "execution_count": null,
   "id": "a13d5e64-8015-4c65-92f5-5c71544b9e32",
   "metadata": {},
   "outputs": [],
   "source": [
    "# solver = SolverFactory(\"ipopt\")\n",
    "solver = get_solver()\n",
    "\n",
    "# Fix A again\n",
    "m.fs.A.fix(5)\n",
    "\n",
    "dof = degrees_of_freedom(m)\n",
    "assert dof == 0\n",
    "\n",
    "results = solver.solve(m)"
   ]
  },
  {
   "cell_type": "markdown",
   "id": "d67a9617",
   "metadata": {},
   "source": [
    "# Checking solver results\n",
    "\n",
    "The solve didn't give us an error, but we don't know if the solve is optimal.\n",
    "Information about the solver termination is stored in the local variable `results`. We can check optimality with:\n",
    "- the `assert_optimal_termination` function\n",
    "- the `check_optimal_termination` function\n",
    "- printing the `termination_condition` stored in `results`\n",
    "- simply printing `results`"
   ]
  },
  {
   "cell_type": "code",
   "execution_count": null,
   "id": "4155b9d7",
   "metadata": {},
   "outputs": [],
   "source": [
    "# Nothing to print, but will raise an error if not optimal\n",
    "assert_optimal_termination(results)\n",
    "\n",
    "# Returns a boolean\n",
    "is_optimal = check_optimal_termination(results)\n",
    "print(f\"Is optimal: {is_optimal}\")\n",
    "\n",
    "# Print termination condition\n",
    "termination_condition = results.solver.termination_condition\n",
    "print(f\"Termination condition: {termination_condition}\")\n",
    "\n",
    "# Print the full results object\n",
    "print(results)"
   ]
  },
  {
   "cell_type": "markdown",
   "id": "69d69d25",
   "metadata": {},
   "source": [
    "### For `Param` components, we change the value using the `set_value()` method\n",
    "\n",
    "(The `.fix()` method will yield an error.)"
   ]
  },
  {
   "cell_type": "code",
   "execution_count": null,
   "id": "8d2a683e",
   "metadata": {},
   "outputs": [],
   "source": [
    "m.fs.P.set_value(23)\n",
    "dof = degrees_of_freedom(m)\n",
    "print(f\"Degrees of Freedom: {dof}\")\n",
    "\n",
    "results = solver.solve(m)\n",
    "assert_optimal_termination(results)\n",
    "\n",
    "m.fs.display()"
   ]
  },
  {
   "cell_type": "markdown",
   "id": "5042aa5f-5885-403f-97ba-be614157a8ae",
   "metadata": {},
   "source": [
    "# Accessing model information\n",
    "\n",
    "You can access the value of a `Var` or `Param` by using the `value()` function."
   ]
  },
  {
   "cell_type": "code",
   "execution_count": null,
   "id": "35f43ad6-4547-450c-a5e5-31319e38bd8d",
   "metadata": {},
   "outputs": [],
   "source": [
    "print(f\"A = {value(m.fs.A)}\", f\"\\nB = {value(m.fs.B)}\", f\"\\nC = {value(m.fs.C)}\")"
   ]
  },
  {
   "cell_type": "markdown",
   "id": "50c9623c-c59f-43b8-a5dc-e13f8bb6e960",
   "metadata": {},
   "source": [
    "# Indexing model components\n",
    "\n",
    "Many Pyomo components can be indexed with any number of indexes. For example, if your model is dynamic (non-steady state) and you are tracking multiple constituents, you could index your `Var`s and `Constraint`s to both time and your constituents.\n",
    "\n",
    "When constructing your model components, the first non-keyword argument(s) are your indexes. You can pass any iterable as an index. In the example below, we create an initial concentration variable `C_0` that is indexed to a set of `ions`. Here, we use the Pyomo `Set` component, but we could use e.g. a Python list or numpy array just the same.\n"
   ]
  },
  {
   "cell_type": "code",
   "execution_count": null,
   "id": "e181d9f4",
   "metadata": {},
   "outputs": [],
   "source": [
    "m = ConcreteModel()\n",
    "m.fs = FlowsheetBlock(dynamic=False)  # Create a flowsheet block\n",
    "\n",
    "# Create index\n",
    "ions = [\"Na\", \"Mg\", \"Ca\", \"Sr\"]\n",
    "\n",
    "m.fs.ions = Set(initialize=ions, doc=\"Set of ions\")\n",
    "\n",
    "m.fs.C_0 = Var(\n",
    "    m.fs.ions,\n",
    "    initialize=2,\n",
    "    bounds=(0, None),\n",
    "    units=pyunits.mg / pyunits.L,\n",
    "    doc=\"Initial ion concentration\",\n",
    ")"
   ]
  },
  {
   "cell_type": "markdown",
   "id": "e17dc307",
   "metadata": {},
   "source": [
    "To initialize an indexed `Var`, you can pass a single value or any Python iterable (e.g. dictionary) that maps the indexes to their initial value. \n",
    "\n",
    "In the example above, we say `initialize=2`, so the initial concentration for all my ions will be 2 mg/L. If we want different initial values for each index, we could use a dictionary.\n"
   ]
  },
  {
   "cell_type": "code",
   "execution_count": null,
   "id": "fb54e37f",
   "metadata": {},
   "outputs": [],
   "source": [
    "m = ConcreteModel()\n",
    "m.fs = FlowsheetBlock(dynamic=False)  # Create a flowsheet block\n",
    "\n",
    "# Create index and initialization values.\n",
    "ions = [\"Na\", \"Mg\", \"Ca\", \"Sr\"]\n",
    "ions_init = {\"Na\": 1.4, \"Mg\": 2.2, \"Ca\": 3.0, \"Sr\": 4.2}\n",
    "m.fs.ions = Set(initialize=ions, doc=\"Set of ions\")\n",
    "\n",
    "m.fs.C_0 = Var(\n",
    "    m.fs.ions,\n",
    "    initialize=ions_init,\n",
    "    bounds=(0, None),\n",
    "    units=pyunits.mg / pyunits.L,\n",
    "    doc=\"Initial ion concentration\",\n",
    ")\n",
    "m.fs.C_0.display()"
   ]
  },
  {
   "cell_type": "markdown",
   "id": "612f3dc9",
   "metadata": {},
   "source": [
    "Similarly, a `Constraint` is indexed by passing the index as the first non-keyword argument(s).\n",
    "\n",
    "Let's say we can get the steady-state concentration of our ions by multiplying it by some constant parameter `K_eq` that is different for each ion. We would create a steady-state concentration `Var` (`C_ss`) and define our equilibrium calculation `Constraint` that is indexed to each ion:\n",
    "\n",
    "In this model, we also include an `Expression` to report the change in concentration between the intial and steady state concentrations (`deltaC`)."
   ]
  },
  {
   "cell_type": "code",
   "execution_count": null,
   "id": "75db04de",
   "metadata": {},
   "outputs": [],
   "source": [
    "K_eq_init = {\"Na\": 12.12, \"Mg\": 5.555, \"Ca\": 3.2, \"Sr\": 0.349}\n",
    "\n",
    "m.fs.K_eq = Var(ions, initialize=K_eq_init, doc=\"Equilibrium constant\")\n",
    "\n",
    "m.fs.C_ss = Var(\n",
    "    m.fs.ions,\n",
    "    initialize=ions_init,\n",
    "    bounds=(0, None),\n",
    "    units=pyunits.mg / pyunits.L,\n",
    "    doc=\"Steady-state ion concentration\",\n",
    ")\n",
    "\n",
    "# There are several ways to construct constraints with Pyomo.\n",
    "# A few are presented here for illustrative purposes.\n",
    "# In all cases, the index is the first argument passed to the Constraint constructor.\n",
    "\n",
    "# 1. Using a function and the `rule=` keyword\n",
    "# def eq_steady_state_conc(m, i):\n",
    "#     # The first argument must be the model (m), and the second must be the index\n",
    "#     return m.C_ss[i] == m.C_0[i] * exp(-m.K_eq[i])\n",
    "# m.steady_state_conc_constr = Constraint(ions, rule=eq_steady_state_conc)\n",
    "\n",
    "# 2. Using a lambda function and the `expr=` or `rule=` keyword\n",
    "m.fs.steady_state_conc_constr = Constraint(\n",
    "    m.fs.ions,\n",
    "    # rule=lambda m, i: m.C_ss[i] == m.C_0[i] * exp(-m.K_eq[i]),\n",
    "    expr=lambda b, i: b.C_ss[i] == b.C_0[i] * exp(-b.K_eq[i]),\n",
    ")\n",
    "\n",
    "m.fs.deltaC = Expression(\n",
    "    m.fs.ions,\n",
    "    expr=lambda b, i: b.C_0[i] - b.C_ss[i],\n",
    "    doc=\"Change in concentration from initial to steady state\",\n",
    ")\n",
    "\n",
    "m.fs.C_0.fix()\n",
    "m.fs.K_eq.fix()\n",
    "dof = degrees_of_freedom(m)\n",
    "print(f\"Degrees of Freedom: {dof}\")\n",
    "\n",
    "results = solver.solve(m)\n",
    "assert_optimal_termination(results)\n",
    "assert_units_consistent(m)\n",
    "\n",
    "# m.display()\n",
    "\n",
    "# You can iterate through the index set to access variable values\n",
    "# To access the value of indexed components, you place the index in brackets [ ] after the component name\n",
    "for ion in m.fs.ions:\n",
    "    print(f\"Ion {ion}:\")\n",
    "    print(\n",
    "        f\"  Initial Concentration (C_0): {value(m.fs.C_0[ion]):.2f} {pyunits.get_units(m.fs.C_0[ion])}\"\n",
    "    )\n",
    "    print(\n",
    "        f\"  Equilibrium Constant (K_eq): {value(m.fs.K_eq[ion]):.2f} {pyunits.get_units(m.fs.K_eq[ion])}\"\n",
    "    )\n",
    "    print(\n",
    "        f\"  Steady-State Concentration (C_ss): {value(m.fs.C_ss[ion]):.2e} {pyunits.get_units(m.fs.C_ss[ion])}\"\n",
    "    )\n",
    "    print(\n",
    "        f\"  Change in Concentration (deltaC): {value(m.fs.deltaC[ion]):.2f} {pyunits.get_units(m.fs.deltaC[ion])}\"\n",
    "    )"
   ]
  },
  {
   "cell_type": "code",
   "execution_count": null,
   "id": "93b232bf-a51a-45a6-9e28-2e2431d0218c",
   "metadata": {},
   "outputs": [],
   "source": []
  },
  {
   "cell_type": "markdown",
   "id": "14469fb2-731b-46f5-a6e5-5c78b89e648a",
   "metadata": {},
   "source": [
    "## Using `pyunits`\n",
    "\n",
    "Pyomo (and IDAES and WaterTAP) make use of a package called [Pint](https://pint.readthedocs.io/en/stable/), which we have imported as `pyunits`.\n",
    "\n",
    "`pyunits` are extremely useful for making easy unit conversions but also ensuring our models have consistent units.\n",
    "\n",
    "We can define any value with any dimensions:\n",
    "Let's create 100 g/L of some substance"
   ]
  },
  {
   "cell_type": "code",
   "execution_count": null,
   "id": "7b829eee-e12c-4e0e-8d5b-01cb09b78ef5",
   "metadata": {
    "tags": []
   },
   "outputs": [],
   "source": [
    "C = 100 * pyunits.g / pyunits.L\n",
    "\n",
    "print(C)\n",
    "print(value(C))\n",
    "print(C())"
   ]
  },
  {
   "cell_type": "markdown",
   "id": "b8f0cfd2-2aaa-480f-8ef4-847a01999711",
   "metadata": {},
   "source": [
    "## Unit conversions\n",
    "\n",
    "We can convert between units using `pyunits.convert()` as long as they are of the same kind.\n",
    "\n",
    "And you can get units from any variable using `pyunits.get_units()`"
   ]
  },
  {
   "cell_type": "code",
   "execution_count": null,
   "id": "61059ef1-6eda-4cff-b185-964c661af99e",
   "metadata": {},
   "outputs": [],
   "source": [
    "C2 = pyunits.convert(C, to_units=pyunits.lb / pyunits.ft**3)\n",
    "C3 = pyunits.convert(C, to_units=pyunits.grain / (pyunits.acre * pyunits.foot))\n",
    "\n",
    "print(C2(), pyunits.get_units(C2))\n",
    "print(C3(), pyunits.get_units(C3))"
   ]
  },
  {
   "cell_type": "markdown",
   "id": "43b6e919",
   "metadata": {},
   "source": [
    "### Units carry through operations"
   ]
  },
  {
   "cell_type": "code",
   "execution_count": null,
   "id": "712a841e-685e-447e-ac5d-1ec335cca693",
   "metadata": {},
   "outputs": [],
   "source": [
    "Q = 42 * pyunits.m**3 / pyunits.hr\n",
    "conc = 100 * pyunits.mg / pyunits.L\n",
    "\n",
    "mass_flow = Q * conc\n",
    "\n",
    "print(mass_flow(), pyunits.get_units(mass_flow))\n",
    "\n",
    "# Or\n",
    "\n",
    "mass_flow = pyunits.convert(Q * conc, to_units=pyunits.g / pyunits.s)\n",
    "\n",
    "print(mass_flow(), pyunits.get_units(mass_flow))"
   ]
  }
 ],
 "metadata": {
  "kernelspec": {
   "display_name": "watertap-academy",
   "language": "python",
   "name": "python3"
  },
  "language_info": {
   "codemirror_mode": {
    "name": "ipython",
    "version": 3
   },
   "file_extension": ".py",
   "mimetype": "text/x-python",
   "name": "python",
   "nbconvert_exporter": "python",
   "pygments_lexer": "ipython3",
   "version": "3.11.14"
  }
 },
 "nbformat": 4,
 "nbformat_minor": 5
}
